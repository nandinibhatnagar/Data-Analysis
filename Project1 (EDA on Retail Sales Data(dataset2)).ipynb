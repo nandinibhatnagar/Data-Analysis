{
 "cells": [
  {
   "cell_type": "code",
   "execution_count": 1,
   "id": "3167a5f2",
   "metadata": {},
   "outputs": [],
   "source": [
    "import numpy as np\n",
    "import pandas as pd\n",
    "import matplotlib.pyplot as plt\n",
    "import seaborn as sns"
   ]
  },
  {
   "cell_type": "markdown",
   "id": "12b64f3c",
   "metadata": {},
   "source": [
    "# Loading the data"
   ]
  },
  {
   "cell_type": "code",
   "execution_count": 2,
   "id": "e942130a",
   "metadata": {},
   "outputs": [],
   "source": [
    "#loading the file\n",
    "df=pd.read_csv(\"menu.csv\")"
   ]
  },
  {
   "cell_type": "code",
   "execution_count": 3,
   "id": "cc6ca475",
   "metadata": {},
   "outputs": [
    {
     "data": {
      "text/html": [
       "<div>\n",
       "<style scoped>\n",
       "    .dataframe tbody tr th:only-of-type {\n",
       "        vertical-align: middle;\n",
       "    }\n",
       "\n",
       "    .dataframe tbody tr th {\n",
       "        vertical-align: top;\n",
       "    }\n",
       "\n",
       "    .dataframe thead th {\n",
       "        text-align: right;\n",
       "    }\n",
       "</style>\n",
       "<table border=\"1\" class=\"dataframe\">\n",
       "  <thead>\n",
       "    <tr style=\"text-align: right;\">\n",
       "      <th></th>\n",
       "      <th>Category</th>\n",
       "      <th>Item</th>\n",
       "      <th>Serving Size</th>\n",
       "      <th>Calories</th>\n",
       "      <th>Calories from Fat</th>\n",
       "      <th>Total Fat</th>\n",
       "      <th>Total Fat (% Daily Value)</th>\n",
       "      <th>Saturated Fat</th>\n",
       "      <th>Saturated Fat (% Daily Value)</th>\n",
       "      <th>Trans Fat</th>\n",
       "      <th>...</th>\n",
       "      <th>Carbohydrates</th>\n",
       "      <th>Carbohydrates (% Daily Value)</th>\n",
       "      <th>Dietary Fiber</th>\n",
       "      <th>Dietary Fiber (% Daily Value)</th>\n",
       "      <th>Sugars</th>\n",
       "      <th>Protein</th>\n",
       "      <th>Vitamin A (% Daily Value)</th>\n",
       "      <th>Vitamin C (% Daily Value)</th>\n",
       "      <th>Calcium (% Daily Value)</th>\n",
       "      <th>Iron (% Daily Value)</th>\n",
       "    </tr>\n",
       "  </thead>\n",
       "  <tbody>\n",
       "    <tr>\n",
       "      <th>0</th>\n",
       "      <td>Breakfast</td>\n",
       "      <td>Egg McMuffin</td>\n",
       "      <td>4.8 oz (136 g)</td>\n",
       "      <td>300</td>\n",
       "      <td>120</td>\n",
       "      <td>13.0</td>\n",
       "      <td>20</td>\n",
       "      <td>5.0</td>\n",
       "      <td>25</td>\n",
       "      <td>0.0</td>\n",
       "      <td>...</td>\n",
       "      <td>31</td>\n",
       "      <td>10</td>\n",
       "      <td>4</td>\n",
       "      <td>17</td>\n",
       "      <td>3</td>\n",
       "      <td>17</td>\n",
       "      <td>10</td>\n",
       "      <td>0</td>\n",
       "      <td>25</td>\n",
       "      <td>15</td>\n",
       "    </tr>\n",
       "    <tr>\n",
       "      <th>1</th>\n",
       "      <td>Breakfast</td>\n",
       "      <td>Egg White Delight</td>\n",
       "      <td>4.8 oz (135 g)</td>\n",
       "      <td>250</td>\n",
       "      <td>70</td>\n",
       "      <td>8.0</td>\n",
       "      <td>12</td>\n",
       "      <td>3.0</td>\n",
       "      <td>15</td>\n",
       "      <td>0.0</td>\n",
       "      <td>...</td>\n",
       "      <td>30</td>\n",
       "      <td>10</td>\n",
       "      <td>4</td>\n",
       "      <td>17</td>\n",
       "      <td>3</td>\n",
       "      <td>18</td>\n",
       "      <td>6</td>\n",
       "      <td>0</td>\n",
       "      <td>25</td>\n",
       "      <td>8</td>\n",
       "    </tr>\n",
       "    <tr>\n",
       "      <th>2</th>\n",
       "      <td>Breakfast</td>\n",
       "      <td>Sausage McMuffin</td>\n",
       "      <td>3.9 oz (111 g)</td>\n",
       "      <td>370</td>\n",
       "      <td>200</td>\n",
       "      <td>23.0</td>\n",
       "      <td>35</td>\n",
       "      <td>8.0</td>\n",
       "      <td>42</td>\n",
       "      <td>0.0</td>\n",
       "      <td>...</td>\n",
       "      <td>29</td>\n",
       "      <td>10</td>\n",
       "      <td>4</td>\n",
       "      <td>17</td>\n",
       "      <td>2</td>\n",
       "      <td>14</td>\n",
       "      <td>8</td>\n",
       "      <td>0</td>\n",
       "      <td>25</td>\n",
       "      <td>10</td>\n",
       "    </tr>\n",
       "    <tr>\n",
       "      <th>3</th>\n",
       "      <td>Breakfast</td>\n",
       "      <td>Sausage McMuffin with Egg</td>\n",
       "      <td>5.7 oz (161 g)</td>\n",
       "      <td>450</td>\n",
       "      <td>250</td>\n",
       "      <td>28.0</td>\n",
       "      <td>43</td>\n",
       "      <td>10.0</td>\n",
       "      <td>52</td>\n",
       "      <td>0.0</td>\n",
       "      <td>...</td>\n",
       "      <td>30</td>\n",
       "      <td>10</td>\n",
       "      <td>4</td>\n",
       "      <td>17</td>\n",
       "      <td>2</td>\n",
       "      <td>21</td>\n",
       "      <td>15</td>\n",
       "      <td>0</td>\n",
       "      <td>30</td>\n",
       "      <td>15</td>\n",
       "    </tr>\n",
       "    <tr>\n",
       "      <th>4</th>\n",
       "      <td>Breakfast</td>\n",
       "      <td>Sausage McMuffin with Egg Whites</td>\n",
       "      <td>5.7 oz (161 g)</td>\n",
       "      <td>400</td>\n",
       "      <td>210</td>\n",
       "      <td>23.0</td>\n",
       "      <td>35</td>\n",
       "      <td>8.0</td>\n",
       "      <td>42</td>\n",
       "      <td>0.0</td>\n",
       "      <td>...</td>\n",
       "      <td>30</td>\n",
       "      <td>10</td>\n",
       "      <td>4</td>\n",
       "      <td>17</td>\n",
       "      <td>2</td>\n",
       "      <td>21</td>\n",
       "      <td>6</td>\n",
       "      <td>0</td>\n",
       "      <td>25</td>\n",
       "      <td>10</td>\n",
       "    </tr>\n",
       "    <tr>\n",
       "      <th>...</th>\n",
       "      <td>...</td>\n",
       "      <td>...</td>\n",
       "      <td>...</td>\n",
       "      <td>...</td>\n",
       "      <td>...</td>\n",
       "      <td>...</td>\n",
       "      <td>...</td>\n",
       "      <td>...</td>\n",
       "      <td>...</td>\n",
       "      <td>...</td>\n",
       "      <td>...</td>\n",
       "      <td>...</td>\n",
       "      <td>...</td>\n",
       "      <td>...</td>\n",
       "      <td>...</td>\n",
       "      <td>...</td>\n",
       "      <td>...</td>\n",
       "      <td>...</td>\n",
       "      <td>...</td>\n",
       "      <td>...</td>\n",
       "      <td>...</td>\n",
       "    </tr>\n",
       "    <tr>\n",
       "      <th>255</th>\n",
       "      <td>Smoothies &amp; Shakes</td>\n",
       "      <td>McFlurry with Oreo Cookies (Small)</td>\n",
       "      <td>10.1 oz (285 g)</td>\n",
       "      <td>510</td>\n",
       "      <td>150</td>\n",
       "      <td>17.0</td>\n",
       "      <td>26</td>\n",
       "      <td>9.0</td>\n",
       "      <td>44</td>\n",
       "      <td>0.5</td>\n",
       "      <td>...</td>\n",
       "      <td>80</td>\n",
       "      <td>27</td>\n",
       "      <td>1</td>\n",
       "      <td>4</td>\n",
       "      <td>64</td>\n",
       "      <td>12</td>\n",
       "      <td>15</td>\n",
       "      <td>0</td>\n",
       "      <td>40</td>\n",
       "      <td>8</td>\n",
       "    </tr>\n",
       "    <tr>\n",
       "      <th>256</th>\n",
       "      <td>Smoothies &amp; Shakes</td>\n",
       "      <td>McFlurry with Oreo Cookies (Medium)</td>\n",
       "      <td>13.4 oz (381 g)</td>\n",
       "      <td>690</td>\n",
       "      <td>200</td>\n",
       "      <td>23.0</td>\n",
       "      <td>35</td>\n",
       "      <td>12.0</td>\n",
       "      <td>58</td>\n",
       "      <td>1.0</td>\n",
       "      <td>...</td>\n",
       "      <td>106</td>\n",
       "      <td>35</td>\n",
       "      <td>1</td>\n",
       "      <td>5</td>\n",
       "      <td>85</td>\n",
       "      <td>15</td>\n",
       "      <td>20</td>\n",
       "      <td>0</td>\n",
       "      <td>50</td>\n",
       "      <td>10</td>\n",
       "    </tr>\n",
       "    <tr>\n",
       "      <th>257</th>\n",
       "      <td>Smoothies &amp; Shakes</td>\n",
       "      <td>McFlurry with Oreo Cookies (Snack)</td>\n",
       "      <td>6.7 oz (190 g)</td>\n",
       "      <td>340</td>\n",
       "      <td>100</td>\n",
       "      <td>11.0</td>\n",
       "      <td>17</td>\n",
       "      <td>6.0</td>\n",
       "      <td>29</td>\n",
       "      <td>0.0</td>\n",
       "      <td>...</td>\n",
       "      <td>53</td>\n",
       "      <td>18</td>\n",
       "      <td>1</td>\n",
       "      <td>2</td>\n",
       "      <td>43</td>\n",
       "      <td>8</td>\n",
       "      <td>10</td>\n",
       "      <td>0</td>\n",
       "      <td>25</td>\n",
       "      <td>6</td>\n",
       "    </tr>\n",
       "    <tr>\n",
       "      <th>258</th>\n",
       "      <td>Smoothies &amp; Shakes</td>\n",
       "      <td>McFlurry with Reese's Peanut Butter Cups (Medium)</td>\n",
       "      <td>14.2 oz (403 g)</td>\n",
       "      <td>810</td>\n",
       "      <td>290</td>\n",
       "      <td>32.0</td>\n",
       "      <td>50</td>\n",
       "      <td>15.0</td>\n",
       "      <td>76</td>\n",
       "      <td>1.0</td>\n",
       "      <td>...</td>\n",
       "      <td>114</td>\n",
       "      <td>38</td>\n",
       "      <td>2</td>\n",
       "      <td>9</td>\n",
       "      <td>103</td>\n",
       "      <td>21</td>\n",
       "      <td>20</td>\n",
       "      <td>0</td>\n",
       "      <td>60</td>\n",
       "      <td>6</td>\n",
       "    </tr>\n",
       "    <tr>\n",
       "      <th>259</th>\n",
       "      <td>Smoothies &amp; Shakes</td>\n",
       "      <td>McFlurry with Reese's Peanut Butter Cups (Snack)</td>\n",
       "      <td>7.1 oz (202 g)</td>\n",
       "      <td>410</td>\n",
       "      <td>150</td>\n",
       "      <td>16.0</td>\n",
       "      <td>25</td>\n",
       "      <td>8.0</td>\n",
       "      <td>38</td>\n",
       "      <td>0.0</td>\n",
       "      <td>...</td>\n",
       "      <td>57</td>\n",
       "      <td>19</td>\n",
       "      <td>1</td>\n",
       "      <td>5</td>\n",
       "      <td>51</td>\n",
       "      <td>10</td>\n",
       "      <td>10</td>\n",
       "      <td>0</td>\n",
       "      <td>30</td>\n",
       "      <td>4</td>\n",
       "    </tr>\n",
       "  </tbody>\n",
       "</table>\n",
       "<p>260 rows × 24 columns</p>\n",
       "</div>"
      ],
      "text/plain": [
       "               Category                                               Item  \\\n",
       "0             Breakfast                                       Egg McMuffin   \n",
       "1             Breakfast                                  Egg White Delight   \n",
       "2             Breakfast                                   Sausage McMuffin   \n",
       "3             Breakfast                          Sausage McMuffin with Egg   \n",
       "4             Breakfast                   Sausage McMuffin with Egg Whites   \n",
       "..                  ...                                                ...   \n",
       "255  Smoothies & Shakes                 McFlurry with Oreo Cookies (Small)   \n",
       "256  Smoothies & Shakes                McFlurry with Oreo Cookies (Medium)   \n",
       "257  Smoothies & Shakes                 McFlurry with Oreo Cookies (Snack)   \n",
       "258  Smoothies & Shakes  McFlurry with Reese's Peanut Butter Cups (Medium)   \n",
       "259  Smoothies & Shakes   McFlurry with Reese's Peanut Butter Cups (Snack)   \n",
       "\n",
       "        Serving Size  Calories  Calories from Fat  Total Fat  \\\n",
       "0     4.8 oz (136 g)       300                120       13.0   \n",
       "1     4.8 oz (135 g)       250                 70        8.0   \n",
       "2     3.9 oz (111 g)       370                200       23.0   \n",
       "3     5.7 oz (161 g)       450                250       28.0   \n",
       "4     5.7 oz (161 g)       400                210       23.0   \n",
       "..               ...       ...                ...        ...   \n",
       "255  10.1 oz (285 g)       510                150       17.0   \n",
       "256  13.4 oz (381 g)       690                200       23.0   \n",
       "257   6.7 oz (190 g)       340                100       11.0   \n",
       "258  14.2 oz (403 g)       810                290       32.0   \n",
       "259   7.1 oz (202 g)       410                150       16.0   \n",
       "\n",
       "     Total Fat (% Daily Value)  Saturated Fat  Saturated Fat (% Daily Value)  \\\n",
       "0                           20            5.0                             25   \n",
       "1                           12            3.0                             15   \n",
       "2                           35            8.0                             42   \n",
       "3                           43           10.0                             52   \n",
       "4                           35            8.0                             42   \n",
       "..                         ...            ...                            ...   \n",
       "255                         26            9.0                             44   \n",
       "256                         35           12.0                             58   \n",
       "257                         17            6.0                             29   \n",
       "258                         50           15.0                             76   \n",
       "259                         25            8.0                             38   \n",
       "\n",
       "     Trans Fat  ...  Carbohydrates  Carbohydrates (% Daily Value)  \\\n",
       "0          0.0  ...             31                             10   \n",
       "1          0.0  ...             30                             10   \n",
       "2          0.0  ...             29                             10   \n",
       "3          0.0  ...             30                             10   \n",
       "4          0.0  ...             30                             10   \n",
       "..         ...  ...            ...                            ...   \n",
       "255        0.5  ...             80                             27   \n",
       "256        1.0  ...            106                             35   \n",
       "257        0.0  ...             53                             18   \n",
       "258        1.0  ...            114                             38   \n",
       "259        0.0  ...             57                             19   \n",
       "\n",
       "     Dietary Fiber  Dietary Fiber (% Daily Value)  Sugars  Protein  \\\n",
       "0                4                             17       3       17   \n",
       "1                4                             17       3       18   \n",
       "2                4                             17       2       14   \n",
       "3                4                             17       2       21   \n",
       "4                4                             17       2       21   \n",
       "..             ...                            ...     ...      ...   \n",
       "255              1                              4      64       12   \n",
       "256              1                              5      85       15   \n",
       "257              1                              2      43        8   \n",
       "258              2                              9     103       21   \n",
       "259              1                              5      51       10   \n",
       "\n",
       "     Vitamin A (% Daily Value)  Vitamin C (% Daily Value)  \\\n",
       "0                           10                          0   \n",
       "1                            6                          0   \n",
       "2                            8                          0   \n",
       "3                           15                          0   \n",
       "4                            6                          0   \n",
       "..                         ...                        ...   \n",
       "255                         15                          0   \n",
       "256                         20                          0   \n",
       "257                         10                          0   \n",
       "258                         20                          0   \n",
       "259                         10                          0   \n",
       "\n",
       "     Calcium (% Daily Value)  Iron (% Daily Value)  \n",
       "0                         25                    15  \n",
       "1                         25                     8  \n",
       "2                         25                    10  \n",
       "3                         30                    15  \n",
       "4                         25                    10  \n",
       "..                       ...                   ...  \n",
       "255                       40                     8  \n",
       "256                       50                    10  \n",
       "257                       25                     6  \n",
       "258                       60                     6  \n",
       "259                       30                     4  \n",
       "\n",
       "[260 rows x 24 columns]"
      ]
     },
     "execution_count": 3,
     "metadata": {},
     "output_type": "execute_result"
    }
   ],
   "source": [
    "df"
   ]
  },
  {
   "cell_type": "code",
   "execution_count": 4,
   "id": "24861438",
   "metadata": {},
   "outputs": [
    {
     "data": {
      "text/html": [
       "<div>\n",
       "<style scoped>\n",
       "    .dataframe tbody tr th:only-of-type {\n",
       "        vertical-align: middle;\n",
       "    }\n",
       "\n",
       "    .dataframe tbody tr th {\n",
       "        vertical-align: top;\n",
       "    }\n",
       "\n",
       "    .dataframe thead th {\n",
       "        text-align: right;\n",
       "    }\n",
       "</style>\n",
       "<table border=\"1\" class=\"dataframe\">\n",
       "  <thead>\n",
       "    <tr style=\"text-align: right;\">\n",
       "      <th></th>\n",
       "      <th>Category</th>\n",
       "      <th>Item</th>\n",
       "      <th>Serving Size</th>\n",
       "      <th>Calories</th>\n",
       "      <th>Calories from Fat</th>\n",
       "      <th>Total Fat</th>\n",
       "      <th>Total Fat (% Daily Value)</th>\n",
       "      <th>Saturated Fat</th>\n",
       "      <th>Saturated Fat (% Daily Value)</th>\n",
       "      <th>Trans Fat</th>\n",
       "      <th>...</th>\n",
       "      <th>Carbohydrates</th>\n",
       "      <th>Carbohydrates (% Daily Value)</th>\n",
       "      <th>Dietary Fiber</th>\n",
       "      <th>Dietary Fiber (% Daily Value)</th>\n",
       "      <th>Sugars</th>\n",
       "      <th>Protein</th>\n",
       "      <th>Vitamin A (% Daily Value)</th>\n",
       "      <th>Vitamin C (% Daily Value)</th>\n",
       "      <th>Calcium (% Daily Value)</th>\n",
       "      <th>Iron (% Daily Value)</th>\n",
       "    </tr>\n",
       "  </thead>\n",
       "  <tbody>\n",
       "    <tr>\n",
       "      <th>0</th>\n",
       "      <td>Breakfast</td>\n",
       "      <td>Egg McMuffin</td>\n",
       "      <td>4.8 oz (136 g)</td>\n",
       "      <td>300</td>\n",
       "      <td>120</td>\n",
       "      <td>13.0</td>\n",
       "      <td>20</td>\n",
       "      <td>5.0</td>\n",
       "      <td>25</td>\n",
       "      <td>0.0</td>\n",
       "      <td>...</td>\n",
       "      <td>31</td>\n",
       "      <td>10</td>\n",
       "      <td>4</td>\n",
       "      <td>17</td>\n",
       "      <td>3</td>\n",
       "      <td>17</td>\n",
       "      <td>10</td>\n",
       "      <td>0</td>\n",
       "      <td>25</td>\n",
       "      <td>15</td>\n",
       "    </tr>\n",
       "    <tr>\n",
       "      <th>1</th>\n",
       "      <td>Breakfast</td>\n",
       "      <td>Egg White Delight</td>\n",
       "      <td>4.8 oz (135 g)</td>\n",
       "      <td>250</td>\n",
       "      <td>70</td>\n",
       "      <td>8.0</td>\n",
       "      <td>12</td>\n",
       "      <td>3.0</td>\n",
       "      <td>15</td>\n",
       "      <td>0.0</td>\n",
       "      <td>...</td>\n",
       "      <td>30</td>\n",
       "      <td>10</td>\n",
       "      <td>4</td>\n",
       "      <td>17</td>\n",
       "      <td>3</td>\n",
       "      <td>18</td>\n",
       "      <td>6</td>\n",
       "      <td>0</td>\n",
       "      <td>25</td>\n",
       "      <td>8</td>\n",
       "    </tr>\n",
       "    <tr>\n",
       "      <th>2</th>\n",
       "      <td>Breakfast</td>\n",
       "      <td>Sausage McMuffin</td>\n",
       "      <td>3.9 oz (111 g)</td>\n",
       "      <td>370</td>\n",
       "      <td>200</td>\n",
       "      <td>23.0</td>\n",
       "      <td>35</td>\n",
       "      <td>8.0</td>\n",
       "      <td>42</td>\n",
       "      <td>0.0</td>\n",
       "      <td>...</td>\n",
       "      <td>29</td>\n",
       "      <td>10</td>\n",
       "      <td>4</td>\n",
       "      <td>17</td>\n",
       "      <td>2</td>\n",
       "      <td>14</td>\n",
       "      <td>8</td>\n",
       "      <td>0</td>\n",
       "      <td>25</td>\n",
       "      <td>10</td>\n",
       "    </tr>\n",
       "    <tr>\n",
       "      <th>3</th>\n",
       "      <td>Breakfast</td>\n",
       "      <td>Sausage McMuffin with Egg</td>\n",
       "      <td>5.7 oz (161 g)</td>\n",
       "      <td>450</td>\n",
       "      <td>250</td>\n",
       "      <td>28.0</td>\n",
       "      <td>43</td>\n",
       "      <td>10.0</td>\n",
       "      <td>52</td>\n",
       "      <td>0.0</td>\n",
       "      <td>...</td>\n",
       "      <td>30</td>\n",
       "      <td>10</td>\n",
       "      <td>4</td>\n",
       "      <td>17</td>\n",
       "      <td>2</td>\n",
       "      <td>21</td>\n",
       "      <td>15</td>\n",
       "      <td>0</td>\n",
       "      <td>30</td>\n",
       "      <td>15</td>\n",
       "    </tr>\n",
       "    <tr>\n",
       "      <th>4</th>\n",
       "      <td>Breakfast</td>\n",
       "      <td>Sausage McMuffin with Egg Whites</td>\n",
       "      <td>5.7 oz (161 g)</td>\n",
       "      <td>400</td>\n",
       "      <td>210</td>\n",
       "      <td>23.0</td>\n",
       "      <td>35</td>\n",
       "      <td>8.0</td>\n",
       "      <td>42</td>\n",
       "      <td>0.0</td>\n",
       "      <td>...</td>\n",
       "      <td>30</td>\n",
       "      <td>10</td>\n",
       "      <td>4</td>\n",
       "      <td>17</td>\n",
       "      <td>2</td>\n",
       "      <td>21</td>\n",
       "      <td>6</td>\n",
       "      <td>0</td>\n",
       "      <td>25</td>\n",
       "      <td>10</td>\n",
       "    </tr>\n",
       "  </tbody>\n",
       "</table>\n",
       "<p>5 rows × 24 columns</p>\n",
       "</div>"
      ],
      "text/plain": [
       "    Category                              Item    Serving Size  Calories  \\\n",
       "0  Breakfast                      Egg McMuffin  4.8 oz (136 g)       300   \n",
       "1  Breakfast                 Egg White Delight  4.8 oz (135 g)       250   \n",
       "2  Breakfast                  Sausage McMuffin  3.9 oz (111 g)       370   \n",
       "3  Breakfast         Sausage McMuffin with Egg  5.7 oz (161 g)       450   \n",
       "4  Breakfast  Sausage McMuffin with Egg Whites  5.7 oz (161 g)       400   \n",
       "\n",
       "   Calories from Fat  Total Fat  Total Fat (% Daily Value)  Saturated Fat  \\\n",
       "0                120       13.0                         20            5.0   \n",
       "1                 70        8.0                         12            3.0   \n",
       "2                200       23.0                         35            8.0   \n",
       "3                250       28.0                         43           10.0   \n",
       "4                210       23.0                         35            8.0   \n",
       "\n",
       "   Saturated Fat (% Daily Value)  Trans Fat  ...  Carbohydrates  \\\n",
       "0                             25        0.0  ...             31   \n",
       "1                             15        0.0  ...             30   \n",
       "2                             42        0.0  ...             29   \n",
       "3                             52        0.0  ...             30   \n",
       "4                             42        0.0  ...             30   \n",
       "\n",
       "   Carbohydrates (% Daily Value)  Dietary Fiber  \\\n",
       "0                             10              4   \n",
       "1                             10              4   \n",
       "2                             10              4   \n",
       "3                             10              4   \n",
       "4                             10              4   \n",
       "\n",
       "   Dietary Fiber (% Daily Value)  Sugars  Protein  Vitamin A (% Daily Value)  \\\n",
       "0                             17       3       17                         10   \n",
       "1                             17       3       18                          6   \n",
       "2                             17       2       14                          8   \n",
       "3                             17       2       21                         15   \n",
       "4                             17       2       21                          6   \n",
       "\n",
       "   Vitamin C (% Daily Value)  Calcium (% Daily Value)  Iron (% Daily Value)  \n",
       "0                          0                       25                    15  \n",
       "1                          0                       25                     8  \n",
       "2                          0                       25                    10  \n",
       "3                          0                       30                    15  \n",
       "4                          0                       25                    10  \n",
       "\n",
       "[5 rows x 24 columns]"
      ]
     },
     "execution_count": 4,
     "metadata": {},
     "output_type": "execute_result"
    }
   ],
   "source": [
    "#seeing the first 5 rows details of the dataset\n",
    "df.head()"
   ]
  },
  {
   "cell_type": "code",
   "execution_count": 5,
   "id": "8035f7ff",
   "metadata": {},
   "outputs": [
    {
     "data": {
      "text/html": [
       "<div>\n",
       "<style scoped>\n",
       "    .dataframe tbody tr th:only-of-type {\n",
       "        vertical-align: middle;\n",
       "    }\n",
       "\n",
       "    .dataframe tbody tr th {\n",
       "        vertical-align: top;\n",
       "    }\n",
       "\n",
       "    .dataframe thead th {\n",
       "        text-align: right;\n",
       "    }\n",
       "</style>\n",
       "<table border=\"1\" class=\"dataframe\">\n",
       "  <thead>\n",
       "    <tr style=\"text-align: right;\">\n",
       "      <th></th>\n",
       "      <th>Category</th>\n",
       "      <th>Item</th>\n",
       "      <th>Serving Size</th>\n",
       "      <th>Calories</th>\n",
       "      <th>Calories from Fat</th>\n",
       "      <th>Total Fat</th>\n",
       "      <th>Total Fat (% Daily Value)</th>\n",
       "      <th>Saturated Fat</th>\n",
       "      <th>Saturated Fat (% Daily Value)</th>\n",
       "      <th>Trans Fat</th>\n",
       "      <th>...</th>\n",
       "      <th>Carbohydrates</th>\n",
       "      <th>Carbohydrates (% Daily Value)</th>\n",
       "      <th>Dietary Fiber</th>\n",
       "      <th>Dietary Fiber (% Daily Value)</th>\n",
       "      <th>Sugars</th>\n",
       "      <th>Protein</th>\n",
       "      <th>Vitamin A (% Daily Value)</th>\n",
       "      <th>Vitamin C (% Daily Value)</th>\n",
       "      <th>Calcium (% Daily Value)</th>\n",
       "      <th>Iron (% Daily Value)</th>\n",
       "    </tr>\n",
       "  </thead>\n",
       "  <tbody>\n",
       "    <tr>\n",
       "      <th>255</th>\n",
       "      <td>Smoothies &amp; Shakes</td>\n",
       "      <td>McFlurry with Oreo Cookies (Small)</td>\n",
       "      <td>10.1 oz (285 g)</td>\n",
       "      <td>510</td>\n",
       "      <td>150</td>\n",
       "      <td>17.0</td>\n",
       "      <td>26</td>\n",
       "      <td>9.0</td>\n",
       "      <td>44</td>\n",
       "      <td>0.5</td>\n",
       "      <td>...</td>\n",
       "      <td>80</td>\n",
       "      <td>27</td>\n",
       "      <td>1</td>\n",
       "      <td>4</td>\n",
       "      <td>64</td>\n",
       "      <td>12</td>\n",
       "      <td>15</td>\n",
       "      <td>0</td>\n",
       "      <td>40</td>\n",
       "      <td>8</td>\n",
       "    </tr>\n",
       "    <tr>\n",
       "      <th>256</th>\n",
       "      <td>Smoothies &amp; Shakes</td>\n",
       "      <td>McFlurry with Oreo Cookies (Medium)</td>\n",
       "      <td>13.4 oz (381 g)</td>\n",
       "      <td>690</td>\n",
       "      <td>200</td>\n",
       "      <td>23.0</td>\n",
       "      <td>35</td>\n",
       "      <td>12.0</td>\n",
       "      <td>58</td>\n",
       "      <td>1.0</td>\n",
       "      <td>...</td>\n",
       "      <td>106</td>\n",
       "      <td>35</td>\n",
       "      <td>1</td>\n",
       "      <td>5</td>\n",
       "      <td>85</td>\n",
       "      <td>15</td>\n",
       "      <td>20</td>\n",
       "      <td>0</td>\n",
       "      <td>50</td>\n",
       "      <td>10</td>\n",
       "    </tr>\n",
       "    <tr>\n",
       "      <th>257</th>\n",
       "      <td>Smoothies &amp; Shakes</td>\n",
       "      <td>McFlurry with Oreo Cookies (Snack)</td>\n",
       "      <td>6.7 oz (190 g)</td>\n",
       "      <td>340</td>\n",
       "      <td>100</td>\n",
       "      <td>11.0</td>\n",
       "      <td>17</td>\n",
       "      <td>6.0</td>\n",
       "      <td>29</td>\n",
       "      <td>0.0</td>\n",
       "      <td>...</td>\n",
       "      <td>53</td>\n",
       "      <td>18</td>\n",
       "      <td>1</td>\n",
       "      <td>2</td>\n",
       "      <td>43</td>\n",
       "      <td>8</td>\n",
       "      <td>10</td>\n",
       "      <td>0</td>\n",
       "      <td>25</td>\n",
       "      <td>6</td>\n",
       "    </tr>\n",
       "    <tr>\n",
       "      <th>258</th>\n",
       "      <td>Smoothies &amp; Shakes</td>\n",
       "      <td>McFlurry with Reese's Peanut Butter Cups (Medium)</td>\n",
       "      <td>14.2 oz (403 g)</td>\n",
       "      <td>810</td>\n",
       "      <td>290</td>\n",
       "      <td>32.0</td>\n",
       "      <td>50</td>\n",
       "      <td>15.0</td>\n",
       "      <td>76</td>\n",
       "      <td>1.0</td>\n",
       "      <td>...</td>\n",
       "      <td>114</td>\n",
       "      <td>38</td>\n",
       "      <td>2</td>\n",
       "      <td>9</td>\n",
       "      <td>103</td>\n",
       "      <td>21</td>\n",
       "      <td>20</td>\n",
       "      <td>0</td>\n",
       "      <td>60</td>\n",
       "      <td>6</td>\n",
       "    </tr>\n",
       "    <tr>\n",
       "      <th>259</th>\n",
       "      <td>Smoothies &amp; Shakes</td>\n",
       "      <td>McFlurry with Reese's Peanut Butter Cups (Snack)</td>\n",
       "      <td>7.1 oz (202 g)</td>\n",
       "      <td>410</td>\n",
       "      <td>150</td>\n",
       "      <td>16.0</td>\n",
       "      <td>25</td>\n",
       "      <td>8.0</td>\n",
       "      <td>38</td>\n",
       "      <td>0.0</td>\n",
       "      <td>...</td>\n",
       "      <td>57</td>\n",
       "      <td>19</td>\n",
       "      <td>1</td>\n",
       "      <td>5</td>\n",
       "      <td>51</td>\n",
       "      <td>10</td>\n",
       "      <td>10</td>\n",
       "      <td>0</td>\n",
       "      <td>30</td>\n",
       "      <td>4</td>\n",
       "    </tr>\n",
       "  </tbody>\n",
       "</table>\n",
       "<p>5 rows × 24 columns</p>\n",
       "</div>"
      ],
      "text/plain": [
       "               Category                                               Item  \\\n",
       "255  Smoothies & Shakes                 McFlurry with Oreo Cookies (Small)   \n",
       "256  Smoothies & Shakes                McFlurry with Oreo Cookies (Medium)   \n",
       "257  Smoothies & Shakes                 McFlurry with Oreo Cookies (Snack)   \n",
       "258  Smoothies & Shakes  McFlurry with Reese's Peanut Butter Cups (Medium)   \n",
       "259  Smoothies & Shakes   McFlurry with Reese's Peanut Butter Cups (Snack)   \n",
       "\n",
       "        Serving Size  Calories  Calories from Fat  Total Fat  \\\n",
       "255  10.1 oz (285 g)       510                150       17.0   \n",
       "256  13.4 oz (381 g)       690                200       23.0   \n",
       "257   6.7 oz (190 g)       340                100       11.0   \n",
       "258  14.2 oz (403 g)       810                290       32.0   \n",
       "259   7.1 oz (202 g)       410                150       16.0   \n",
       "\n",
       "     Total Fat (% Daily Value)  Saturated Fat  Saturated Fat (% Daily Value)  \\\n",
       "255                         26            9.0                             44   \n",
       "256                         35           12.0                             58   \n",
       "257                         17            6.0                             29   \n",
       "258                         50           15.0                             76   \n",
       "259                         25            8.0                             38   \n",
       "\n",
       "     Trans Fat  ...  Carbohydrates  Carbohydrates (% Daily Value)  \\\n",
       "255        0.5  ...             80                             27   \n",
       "256        1.0  ...            106                             35   \n",
       "257        0.0  ...             53                             18   \n",
       "258        1.0  ...            114                             38   \n",
       "259        0.0  ...             57                             19   \n",
       "\n",
       "     Dietary Fiber  Dietary Fiber (% Daily Value)  Sugars  Protein  \\\n",
       "255              1                              4      64       12   \n",
       "256              1                              5      85       15   \n",
       "257              1                              2      43        8   \n",
       "258              2                              9     103       21   \n",
       "259              1                              5      51       10   \n",
       "\n",
       "     Vitamin A (% Daily Value)  Vitamin C (% Daily Value)  \\\n",
       "255                         15                          0   \n",
       "256                         20                          0   \n",
       "257                         10                          0   \n",
       "258                         20                          0   \n",
       "259                         10                          0   \n",
       "\n",
       "     Calcium (% Daily Value)  Iron (% Daily Value)  \n",
       "255                       40                     8  \n",
       "256                       50                    10  \n",
       "257                       25                     6  \n",
       "258                       60                     6  \n",
       "259                       30                     4  \n",
       "\n",
       "[5 rows x 24 columns]"
      ]
     },
     "execution_count": 5,
     "metadata": {},
     "output_type": "execute_result"
    }
   ],
   "source": [
    "#seeing the last 5 rows details of the dataset\n",
    "df.tail()"
   ]
  },
  {
   "cell_type": "code",
   "execution_count": 6,
   "id": "3f743021",
   "metadata": {},
   "outputs": [
    {
     "data": {
      "text/plain": [
       "Index(['Category', 'Item', 'Serving Size', 'Calories', 'Calories from Fat',\n",
       "       'Total Fat', 'Total Fat (% Daily Value)', 'Saturated Fat',\n",
       "       'Saturated Fat (% Daily Value)', 'Trans Fat', 'Cholesterol',\n",
       "       'Cholesterol (% Daily Value)', 'Sodium', 'Sodium (% Daily Value)',\n",
       "       'Carbohydrates', 'Carbohydrates (% Daily Value)', 'Dietary Fiber',\n",
       "       'Dietary Fiber (% Daily Value)', 'Sugars', 'Protein',\n",
       "       'Vitamin A (% Daily Value)', 'Vitamin C (% Daily Value)',\n",
       "       'Calcium (% Daily Value)', 'Iron (% Daily Value)'],\n",
       "      dtype='object')"
      ]
     },
     "execution_count": 6,
     "metadata": {},
     "output_type": "execute_result"
    }
   ],
   "source": [
    "#seeing the columns present in  the dataset\n",
    "df.columns"
   ]
  },
  {
   "cell_type": "code",
   "execution_count": 7,
   "id": "a79ef77f",
   "metadata": {},
   "outputs": [
    {
     "data": {
      "text/plain": [
       "(260, 24)"
      ]
     },
     "execution_count": 7,
     "metadata": {},
     "output_type": "execute_result"
    }
   ],
   "source": [
    "#seeing the no. of rows and columns present in the dataset \n",
    "df.shape"
   ]
  },
  {
   "cell_type": "code",
   "execution_count": 8,
   "id": "e17599fe",
   "metadata": {},
   "outputs": [
    {
     "data": {
      "text/plain": [
       "6240"
      ]
     },
     "execution_count": 8,
     "metadata": {},
     "output_type": "execute_result"
    }
   ],
   "source": [
    "#seeing how many elements are present in the dataset\n",
    "df.size"
   ]
  },
  {
   "cell_type": "code",
   "execution_count": 9,
   "id": "a9a7288c",
   "metadata": {},
   "outputs": [
    {
     "name": "stdout",
     "output_type": "stream",
     "text": [
      "<class 'pandas.core.frame.DataFrame'>\n",
      "RangeIndex: 260 entries, 0 to 259\n",
      "Data columns (total 24 columns):\n",
      " #   Column                         Non-Null Count  Dtype  \n",
      "---  ------                         --------------  -----  \n",
      " 0   Category                       260 non-null    object \n",
      " 1   Item                           260 non-null    object \n",
      " 2   Serving Size                   260 non-null    object \n",
      " 3   Calories                       260 non-null    int64  \n",
      " 4   Calories from Fat              260 non-null    int64  \n",
      " 5   Total Fat                      260 non-null    float64\n",
      " 6   Total Fat (% Daily Value)      260 non-null    int64  \n",
      " 7   Saturated Fat                  260 non-null    float64\n",
      " 8   Saturated Fat (% Daily Value)  260 non-null    int64  \n",
      " 9   Trans Fat                      260 non-null    float64\n",
      " 10  Cholesterol                    260 non-null    int64  \n",
      " 11  Cholesterol (% Daily Value)    260 non-null    int64  \n",
      " 12  Sodium                         260 non-null    int64  \n",
      " 13  Sodium (% Daily Value)         260 non-null    int64  \n",
      " 14  Carbohydrates                  260 non-null    int64  \n",
      " 15  Carbohydrates (% Daily Value)  260 non-null    int64  \n",
      " 16  Dietary Fiber                  260 non-null    int64  \n",
      " 17  Dietary Fiber (% Daily Value)  260 non-null    int64  \n",
      " 18  Sugars                         260 non-null    int64  \n",
      " 19  Protein                        260 non-null    int64  \n",
      " 20  Vitamin A (% Daily Value)      260 non-null    int64  \n",
      " 21  Vitamin C (% Daily Value)      260 non-null    int64  \n",
      " 22  Calcium (% Daily Value)        260 non-null    int64  \n",
      " 23  Iron (% Daily Value)           260 non-null    int64  \n",
      "dtypes: float64(3), int64(18), object(3)\n",
      "memory usage: 48.9+ KB\n"
     ]
    }
   ],
   "source": [
    "#seeing what information did the dataset is giving(example: columns,datatypes non null counts)\n",
    "df.info()"
   ]
  },
  {
   "cell_type": "code",
   "execution_count": 10,
   "id": "464ccf3e",
   "metadata": {},
   "outputs": [
    {
     "data": {
      "text/html": [
       "<div>\n",
       "<style scoped>\n",
       "    .dataframe tbody tr th:only-of-type {\n",
       "        vertical-align: middle;\n",
       "    }\n",
       "\n",
       "    .dataframe tbody tr th {\n",
       "        vertical-align: top;\n",
       "    }\n",
       "\n",
       "    .dataframe thead th {\n",
       "        text-align: right;\n",
       "    }\n",
       "</style>\n",
       "<table border=\"1\" class=\"dataframe\">\n",
       "  <thead>\n",
       "    <tr style=\"text-align: right;\">\n",
       "      <th></th>\n",
       "      <th>Calories</th>\n",
       "      <th>Calories from Fat</th>\n",
       "      <th>Total Fat</th>\n",
       "      <th>Total Fat (% Daily Value)</th>\n",
       "      <th>Saturated Fat</th>\n",
       "      <th>Saturated Fat (% Daily Value)</th>\n",
       "      <th>Trans Fat</th>\n",
       "      <th>Cholesterol</th>\n",
       "      <th>Cholesterol (% Daily Value)</th>\n",
       "      <th>Sodium</th>\n",
       "      <th>...</th>\n",
       "      <th>Carbohydrates</th>\n",
       "      <th>Carbohydrates (% Daily Value)</th>\n",
       "      <th>Dietary Fiber</th>\n",
       "      <th>Dietary Fiber (% Daily Value)</th>\n",
       "      <th>Sugars</th>\n",
       "      <th>Protein</th>\n",
       "      <th>Vitamin A (% Daily Value)</th>\n",
       "      <th>Vitamin C (% Daily Value)</th>\n",
       "      <th>Calcium (% Daily Value)</th>\n",
       "      <th>Iron (% Daily Value)</th>\n",
       "    </tr>\n",
       "  </thead>\n",
       "  <tbody>\n",
       "    <tr>\n",
       "      <th>count</th>\n",
       "      <td>260.000000</td>\n",
       "      <td>260.000000</td>\n",
       "      <td>260.000000</td>\n",
       "      <td>260.000000</td>\n",
       "      <td>260.000000</td>\n",
       "      <td>260.000000</td>\n",
       "      <td>260.000000</td>\n",
       "      <td>260.000000</td>\n",
       "      <td>260.000000</td>\n",
       "      <td>260.000000</td>\n",
       "      <td>...</td>\n",
       "      <td>260.000000</td>\n",
       "      <td>260.000000</td>\n",
       "      <td>260.000000</td>\n",
       "      <td>260.000000</td>\n",
       "      <td>260.000000</td>\n",
       "      <td>260.000000</td>\n",
       "      <td>260.000000</td>\n",
       "      <td>260.000000</td>\n",
       "      <td>260.000000</td>\n",
       "      <td>260.000000</td>\n",
       "    </tr>\n",
       "    <tr>\n",
       "      <th>mean</th>\n",
       "      <td>368.269231</td>\n",
       "      <td>127.096154</td>\n",
       "      <td>14.165385</td>\n",
       "      <td>21.815385</td>\n",
       "      <td>6.007692</td>\n",
       "      <td>29.965385</td>\n",
       "      <td>0.203846</td>\n",
       "      <td>54.942308</td>\n",
       "      <td>18.392308</td>\n",
       "      <td>495.750000</td>\n",
       "      <td>...</td>\n",
       "      <td>47.346154</td>\n",
       "      <td>15.780769</td>\n",
       "      <td>1.630769</td>\n",
       "      <td>6.530769</td>\n",
       "      <td>29.423077</td>\n",
       "      <td>13.338462</td>\n",
       "      <td>13.426923</td>\n",
       "      <td>8.534615</td>\n",
       "      <td>20.973077</td>\n",
       "      <td>7.734615</td>\n",
       "    </tr>\n",
       "    <tr>\n",
       "      <th>std</th>\n",
       "      <td>240.269886</td>\n",
       "      <td>127.875914</td>\n",
       "      <td>14.205998</td>\n",
       "      <td>21.885199</td>\n",
       "      <td>5.321873</td>\n",
       "      <td>26.639209</td>\n",
       "      <td>0.429133</td>\n",
       "      <td>87.269257</td>\n",
       "      <td>29.091653</td>\n",
       "      <td>577.026323</td>\n",
       "      <td>...</td>\n",
       "      <td>28.252232</td>\n",
       "      <td>9.419544</td>\n",
       "      <td>1.567717</td>\n",
       "      <td>6.307057</td>\n",
       "      <td>28.679797</td>\n",
       "      <td>11.426146</td>\n",
       "      <td>24.366381</td>\n",
       "      <td>26.345542</td>\n",
       "      <td>17.019953</td>\n",
       "      <td>8.723263</td>\n",
       "    </tr>\n",
       "    <tr>\n",
       "      <th>min</th>\n",
       "      <td>0.000000</td>\n",
       "      <td>0.000000</td>\n",
       "      <td>0.000000</td>\n",
       "      <td>0.000000</td>\n",
       "      <td>0.000000</td>\n",
       "      <td>0.000000</td>\n",
       "      <td>0.000000</td>\n",
       "      <td>0.000000</td>\n",
       "      <td>0.000000</td>\n",
       "      <td>0.000000</td>\n",
       "      <td>...</td>\n",
       "      <td>0.000000</td>\n",
       "      <td>0.000000</td>\n",
       "      <td>0.000000</td>\n",
       "      <td>0.000000</td>\n",
       "      <td>0.000000</td>\n",
       "      <td>0.000000</td>\n",
       "      <td>0.000000</td>\n",
       "      <td>0.000000</td>\n",
       "      <td>0.000000</td>\n",
       "      <td>0.000000</td>\n",
       "    </tr>\n",
       "    <tr>\n",
       "      <th>25%</th>\n",
       "      <td>210.000000</td>\n",
       "      <td>20.000000</td>\n",
       "      <td>2.375000</td>\n",
       "      <td>3.750000</td>\n",
       "      <td>1.000000</td>\n",
       "      <td>4.750000</td>\n",
       "      <td>0.000000</td>\n",
       "      <td>5.000000</td>\n",
       "      <td>2.000000</td>\n",
       "      <td>107.500000</td>\n",
       "      <td>...</td>\n",
       "      <td>30.000000</td>\n",
       "      <td>10.000000</td>\n",
       "      <td>0.000000</td>\n",
       "      <td>0.000000</td>\n",
       "      <td>5.750000</td>\n",
       "      <td>4.000000</td>\n",
       "      <td>2.000000</td>\n",
       "      <td>0.000000</td>\n",
       "      <td>6.000000</td>\n",
       "      <td>0.000000</td>\n",
       "    </tr>\n",
       "    <tr>\n",
       "      <th>50%</th>\n",
       "      <td>340.000000</td>\n",
       "      <td>100.000000</td>\n",
       "      <td>11.000000</td>\n",
       "      <td>17.000000</td>\n",
       "      <td>5.000000</td>\n",
       "      <td>24.000000</td>\n",
       "      <td>0.000000</td>\n",
       "      <td>35.000000</td>\n",
       "      <td>11.000000</td>\n",
       "      <td>190.000000</td>\n",
       "      <td>...</td>\n",
       "      <td>44.000000</td>\n",
       "      <td>15.000000</td>\n",
       "      <td>1.000000</td>\n",
       "      <td>5.000000</td>\n",
       "      <td>17.500000</td>\n",
       "      <td>12.000000</td>\n",
       "      <td>8.000000</td>\n",
       "      <td>0.000000</td>\n",
       "      <td>20.000000</td>\n",
       "      <td>4.000000</td>\n",
       "    </tr>\n",
       "    <tr>\n",
       "      <th>75%</th>\n",
       "      <td>500.000000</td>\n",
       "      <td>200.000000</td>\n",
       "      <td>22.250000</td>\n",
       "      <td>35.000000</td>\n",
       "      <td>10.000000</td>\n",
       "      <td>48.000000</td>\n",
       "      <td>0.000000</td>\n",
       "      <td>65.000000</td>\n",
       "      <td>21.250000</td>\n",
       "      <td>865.000000</td>\n",
       "      <td>...</td>\n",
       "      <td>60.000000</td>\n",
       "      <td>20.000000</td>\n",
       "      <td>3.000000</td>\n",
       "      <td>10.000000</td>\n",
       "      <td>48.000000</td>\n",
       "      <td>19.000000</td>\n",
       "      <td>15.000000</td>\n",
       "      <td>4.000000</td>\n",
       "      <td>30.000000</td>\n",
       "      <td>15.000000</td>\n",
       "    </tr>\n",
       "    <tr>\n",
       "      <th>max</th>\n",
       "      <td>1880.000000</td>\n",
       "      <td>1060.000000</td>\n",
       "      <td>118.000000</td>\n",
       "      <td>182.000000</td>\n",
       "      <td>20.000000</td>\n",
       "      <td>102.000000</td>\n",
       "      <td>2.500000</td>\n",
       "      <td>575.000000</td>\n",
       "      <td>192.000000</td>\n",
       "      <td>3600.000000</td>\n",
       "      <td>...</td>\n",
       "      <td>141.000000</td>\n",
       "      <td>47.000000</td>\n",
       "      <td>7.000000</td>\n",
       "      <td>28.000000</td>\n",
       "      <td>128.000000</td>\n",
       "      <td>87.000000</td>\n",
       "      <td>170.000000</td>\n",
       "      <td>240.000000</td>\n",
       "      <td>70.000000</td>\n",
       "      <td>40.000000</td>\n",
       "    </tr>\n",
       "  </tbody>\n",
       "</table>\n",
       "<p>8 rows × 21 columns</p>\n",
       "</div>"
      ],
      "text/plain": [
       "          Calories  Calories from Fat   Total Fat  Total Fat (% Daily Value)  \\\n",
       "count   260.000000         260.000000  260.000000                 260.000000   \n",
       "mean    368.269231         127.096154   14.165385                  21.815385   \n",
       "std     240.269886         127.875914   14.205998                  21.885199   \n",
       "min       0.000000           0.000000    0.000000                   0.000000   \n",
       "25%     210.000000          20.000000    2.375000                   3.750000   \n",
       "50%     340.000000         100.000000   11.000000                  17.000000   \n",
       "75%     500.000000         200.000000   22.250000                  35.000000   \n",
       "max    1880.000000        1060.000000  118.000000                 182.000000   \n",
       "\n",
       "       Saturated Fat  Saturated Fat (% Daily Value)   Trans Fat  Cholesterol  \\\n",
       "count     260.000000                     260.000000  260.000000   260.000000   \n",
       "mean        6.007692                      29.965385    0.203846    54.942308   \n",
       "std         5.321873                      26.639209    0.429133    87.269257   \n",
       "min         0.000000                       0.000000    0.000000     0.000000   \n",
       "25%         1.000000                       4.750000    0.000000     5.000000   \n",
       "50%         5.000000                      24.000000    0.000000    35.000000   \n",
       "75%        10.000000                      48.000000    0.000000    65.000000   \n",
       "max        20.000000                     102.000000    2.500000   575.000000   \n",
       "\n",
       "       Cholesterol (% Daily Value)       Sodium  ...  Carbohydrates  \\\n",
       "count                   260.000000   260.000000  ...     260.000000   \n",
       "mean                     18.392308   495.750000  ...      47.346154   \n",
       "std                      29.091653   577.026323  ...      28.252232   \n",
       "min                       0.000000     0.000000  ...       0.000000   \n",
       "25%                       2.000000   107.500000  ...      30.000000   \n",
       "50%                      11.000000   190.000000  ...      44.000000   \n",
       "75%                      21.250000   865.000000  ...      60.000000   \n",
       "max                     192.000000  3600.000000  ...     141.000000   \n",
       "\n",
       "       Carbohydrates (% Daily Value)  Dietary Fiber  \\\n",
       "count                     260.000000     260.000000   \n",
       "mean                       15.780769       1.630769   \n",
       "std                         9.419544       1.567717   \n",
       "min                         0.000000       0.000000   \n",
       "25%                        10.000000       0.000000   \n",
       "50%                        15.000000       1.000000   \n",
       "75%                        20.000000       3.000000   \n",
       "max                        47.000000       7.000000   \n",
       "\n",
       "       Dietary Fiber (% Daily Value)      Sugars     Protein  \\\n",
       "count                     260.000000  260.000000  260.000000   \n",
       "mean                        6.530769   29.423077   13.338462   \n",
       "std                         6.307057   28.679797   11.426146   \n",
       "min                         0.000000    0.000000    0.000000   \n",
       "25%                         0.000000    5.750000    4.000000   \n",
       "50%                         5.000000   17.500000   12.000000   \n",
       "75%                        10.000000   48.000000   19.000000   \n",
       "max                        28.000000  128.000000   87.000000   \n",
       "\n",
       "       Vitamin A (% Daily Value)  Vitamin C (% Daily Value)  \\\n",
       "count                 260.000000                 260.000000   \n",
       "mean                   13.426923                   8.534615   \n",
       "std                    24.366381                  26.345542   \n",
       "min                     0.000000                   0.000000   \n",
       "25%                     2.000000                   0.000000   \n",
       "50%                     8.000000                   0.000000   \n",
       "75%                    15.000000                   4.000000   \n",
       "max                   170.000000                 240.000000   \n",
       "\n",
       "       Calcium (% Daily Value)  Iron (% Daily Value)  \n",
       "count               260.000000            260.000000  \n",
       "mean                 20.973077              7.734615  \n",
       "std                  17.019953              8.723263  \n",
       "min                   0.000000              0.000000  \n",
       "25%                   6.000000              0.000000  \n",
       "50%                  20.000000              4.000000  \n",
       "75%                  30.000000             15.000000  \n",
       "max                  70.000000             40.000000  \n",
       "\n",
       "[8 rows x 21 columns]"
      ]
     },
     "execution_count": 10,
     "metadata": {},
     "output_type": "execute_result"
    }
   ],
   "source": [
    "#seeing the count ,mean,min and more other information of each column in data set\n",
    "df.describe()"
   ]
  },
  {
   "cell_type": "markdown",
   "id": "f2b5c42b",
   "metadata": {},
   "source": [
    "# Cleaning and analyzing the data"
   ]
  },
  {
   "cell_type": "code",
   "execution_count": 11,
   "id": "552c3ca7",
   "metadata": {},
   "outputs": [
    {
     "data": {
      "text/plain": [
       "Category                         0\n",
       "Item                             0\n",
       "Serving Size                     0\n",
       "Calories                         0\n",
       "Calories from Fat                0\n",
       "Total Fat                        0\n",
       "Total Fat (% Daily Value)        0\n",
       "Saturated Fat                    0\n",
       "Saturated Fat (% Daily Value)    0\n",
       "Trans Fat                        0\n",
       "Cholesterol                      0\n",
       "Cholesterol (% Daily Value)      0\n",
       "Sodium                           0\n",
       "Sodium (% Daily Value)           0\n",
       "Carbohydrates                    0\n",
       "Carbohydrates (% Daily Value)    0\n",
       "Dietary Fiber                    0\n",
       "Dietary Fiber (% Daily Value)    0\n",
       "Sugars                           0\n",
       "Protein                          0\n",
       "Vitamin A (% Daily Value)        0\n",
       "Vitamin C (% Daily Value)        0\n",
       "Calcium (% Daily Value)          0\n",
       "Iron (% Daily Value)             0\n",
       "dtype: int64"
      ]
     },
     "execution_count": 11,
     "metadata": {},
     "output_type": "execute_result"
    }
   ],
   "source": [
    "#finding that how many null values are present in the dataset \n",
    "df.isnull().sum()"
   ]
  },
  {
   "cell_type": "code",
   "execution_count": 12,
   "id": "3bfa9629",
   "metadata": {},
   "outputs": [
    {
     "data": {
      "text/plain": [
       "Category                         260\n",
       "Item                             260\n",
       "Serving Size                     260\n",
       "Calories                         260\n",
       "Calories from Fat                260\n",
       "Total Fat                        260\n",
       "Total Fat (% Daily Value)        260\n",
       "Saturated Fat                    260\n",
       "Saturated Fat (% Daily Value)    260\n",
       "Trans Fat                        260\n",
       "Cholesterol                      260\n",
       "Cholesterol (% Daily Value)      260\n",
       "Sodium                           260\n",
       "Sodium (% Daily Value)           260\n",
       "Carbohydrates                    260\n",
       "Carbohydrates (% Daily Value)    260\n",
       "Dietary Fiber                    260\n",
       "Dietary Fiber (% Daily Value)    260\n",
       "Sugars                           260\n",
       "Protein                          260\n",
       "Vitamin A (% Daily Value)        260\n",
       "Vitamin C (% Daily Value)        260\n",
       "Calcium (% Daily Value)          260\n",
       "Iron (% Daily Value)             260\n",
       "dtype: int64"
      ]
     },
     "execution_count": 12,
     "metadata": {},
     "output_type": "execute_result"
    }
   ],
   "source": [
    "#finding how many not null values are present in the dataset \n",
    "df.notnull().sum()"
   ]
  },
  {
   "cell_type": "code",
   "execution_count": 13,
   "id": "77cff674",
   "metadata": {},
   "outputs": [
    {
     "data": {
      "text/plain": [
       "0"
      ]
     },
     "execution_count": 13,
     "metadata": {},
     "output_type": "execute_result"
    }
   ],
   "source": [
    "#finding how many duplicates values are present in the dataset \n",
    "df.duplicated().sum()"
   ]
  },
  {
   "cell_type": "code",
   "execution_count": 14,
   "id": "3ac5e545",
   "metadata": {},
   "outputs": [
    {
     "data": {
      "text/plain": [
       "['Category',\n",
       " 'Item',\n",
       " 'Serving Size',\n",
       " 'Calories',\n",
       " 'Calories from Fat',\n",
       " 'Total Fat',\n",
       " 'Total Fat (% Daily Value)',\n",
       " 'Saturated Fat',\n",
       " 'Saturated Fat (% Daily Value)',\n",
       " 'Trans Fat',\n",
       " 'Cholesterol',\n",
       " 'Cholesterol (% Daily Value)',\n",
       " 'Sodium',\n",
       " 'Sodium (% Daily Value)',\n",
       " 'Carbohydrates',\n",
       " 'Carbohydrates (% Daily Value)',\n",
       " 'Dietary Fiber',\n",
       " 'Dietary Fiber (% Daily Value)',\n",
       " 'Sugars',\n",
       " 'Protein',\n",
       " 'Vitamin A (% Daily Value)',\n",
       " 'Vitamin C (% Daily Value)',\n",
       " 'Calcium (% Daily Value)',\n",
       " 'Iron (% Daily Value)']"
      ]
     },
     "execution_count": 14,
     "metadata": {},
     "output_type": "execute_result"
    }
   ],
   "source": [
    "#converting the columns in the form of list \n",
    "list(df.columns)"
   ]
  },
  {
   "cell_type": "code",
   "execution_count": 15,
   "id": "b00b87b1",
   "metadata": {},
   "outputs": [
    {
     "data": {
      "text/html": [
       "<div>\n",
       "<style scoped>\n",
       "    .dataframe tbody tr th:only-of-type {\n",
       "        vertical-align: middle;\n",
       "    }\n",
       "\n",
       "    .dataframe tbody tr th {\n",
       "        vertical-align: top;\n",
       "    }\n",
       "\n",
       "    .dataframe thead th {\n",
       "        text-align: right;\n",
       "    }\n",
       "</style>\n",
       "<table border=\"1\" class=\"dataframe\">\n",
       "  <thead>\n",
       "    <tr style=\"text-align: right;\">\n",
       "      <th></th>\n",
       "      <th>category</th>\n",
       "      <th>item</th>\n",
       "      <th>serving_size</th>\n",
       "      <th>calories</th>\n",
       "      <th>calories_from_fat</th>\n",
       "      <th>total_fat</th>\n",
       "      <th>total_fat_(%_daily_value)</th>\n",
       "      <th>saturated_fat</th>\n",
       "      <th>saturated_fat_(%_daily_value)</th>\n",
       "      <th>trans_fat</th>\n",
       "      <th>...</th>\n",
       "      <th>carbohydrates</th>\n",
       "      <th>carbohydrates_(%_daily_value)</th>\n",
       "      <th>dietary_fiber</th>\n",
       "      <th>dietary_fiber_(%_daily_value)</th>\n",
       "      <th>sugars</th>\n",
       "      <th>protein</th>\n",
       "      <th>vitamin_a_(%_daily_value)</th>\n",
       "      <th>vitamin_c_(%_daily_value)</th>\n",
       "      <th>calcium_(%_daily_value)</th>\n",
       "      <th>iron_(%_daily_value)</th>\n",
       "    </tr>\n",
       "  </thead>\n",
       "  <tbody>\n",
       "    <tr>\n",
       "      <th>0</th>\n",
       "      <td>Breakfast</td>\n",
       "      <td>Egg McMuffin</td>\n",
       "      <td>4.8 oz (136 g)</td>\n",
       "      <td>300</td>\n",
       "      <td>120</td>\n",
       "      <td>13.0</td>\n",
       "      <td>20</td>\n",
       "      <td>5.0</td>\n",
       "      <td>25</td>\n",
       "      <td>0.0</td>\n",
       "      <td>...</td>\n",
       "      <td>31</td>\n",
       "      <td>10</td>\n",
       "      <td>4</td>\n",
       "      <td>17</td>\n",
       "      <td>3</td>\n",
       "      <td>17</td>\n",
       "      <td>10</td>\n",
       "      <td>0</td>\n",
       "      <td>25</td>\n",
       "      <td>15</td>\n",
       "    </tr>\n",
       "    <tr>\n",
       "      <th>1</th>\n",
       "      <td>Breakfast</td>\n",
       "      <td>Egg White Delight</td>\n",
       "      <td>4.8 oz (135 g)</td>\n",
       "      <td>250</td>\n",
       "      <td>70</td>\n",
       "      <td>8.0</td>\n",
       "      <td>12</td>\n",
       "      <td>3.0</td>\n",
       "      <td>15</td>\n",
       "      <td>0.0</td>\n",
       "      <td>...</td>\n",
       "      <td>30</td>\n",
       "      <td>10</td>\n",
       "      <td>4</td>\n",
       "      <td>17</td>\n",
       "      <td>3</td>\n",
       "      <td>18</td>\n",
       "      <td>6</td>\n",
       "      <td>0</td>\n",
       "      <td>25</td>\n",
       "      <td>8</td>\n",
       "    </tr>\n",
       "    <tr>\n",
       "      <th>2</th>\n",
       "      <td>Breakfast</td>\n",
       "      <td>Sausage McMuffin</td>\n",
       "      <td>3.9 oz (111 g)</td>\n",
       "      <td>370</td>\n",
       "      <td>200</td>\n",
       "      <td>23.0</td>\n",
       "      <td>35</td>\n",
       "      <td>8.0</td>\n",
       "      <td>42</td>\n",
       "      <td>0.0</td>\n",
       "      <td>...</td>\n",
       "      <td>29</td>\n",
       "      <td>10</td>\n",
       "      <td>4</td>\n",
       "      <td>17</td>\n",
       "      <td>2</td>\n",
       "      <td>14</td>\n",
       "      <td>8</td>\n",
       "      <td>0</td>\n",
       "      <td>25</td>\n",
       "      <td>10</td>\n",
       "    </tr>\n",
       "  </tbody>\n",
       "</table>\n",
       "<p>3 rows × 24 columns</p>\n",
       "</div>"
      ],
      "text/plain": [
       "    category               item    serving_size  calories  calories_from_fat  \\\n",
       "0  Breakfast       Egg McMuffin  4.8 oz (136 g)       300                120   \n",
       "1  Breakfast  Egg White Delight  4.8 oz (135 g)       250                 70   \n",
       "2  Breakfast   Sausage McMuffin  3.9 oz (111 g)       370                200   \n",
       "\n",
       "   total_fat  total_fat_(%_daily_value)  saturated_fat  \\\n",
       "0       13.0                         20            5.0   \n",
       "1        8.0                         12            3.0   \n",
       "2       23.0                         35            8.0   \n",
       "\n",
       "   saturated_fat_(%_daily_value)  trans_fat  ...  carbohydrates  \\\n",
       "0                             25        0.0  ...             31   \n",
       "1                             15        0.0  ...             30   \n",
       "2                             42        0.0  ...             29   \n",
       "\n",
       "   carbohydrates_(%_daily_value)  dietary_fiber  \\\n",
       "0                             10              4   \n",
       "1                             10              4   \n",
       "2                             10              4   \n",
       "\n",
       "   dietary_fiber_(%_daily_value)  sugars  protein  vitamin_a_(%_daily_value)  \\\n",
       "0                             17       3       17                         10   \n",
       "1                             17       3       18                          6   \n",
       "2                             17       2       14                          8   \n",
       "\n",
       "   vitamin_c_(%_daily_value)  calcium_(%_daily_value)  iron_(%_daily_value)  \n",
       "0                          0                       25                    15  \n",
       "1                          0                       25                     8  \n",
       "2                          0                       25                    10  \n",
       "\n",
       "[3 rows x 24 columns]"
      ]
     },
     "execution_count": 15,
     "metadata": {},
     "output_type": "execute_result"
    }
   ],
   "source": [
    "df.columns = df.columns.str.lower().str.replace(' ', '_')\n",
    "df.head(3)"
   ]
  },
  {
   "cell_type": "code",
   "execution_count": 16,
   "id": "f162fd87",
   "metadata": {},
   "outputs": [
    {
     "data": {
      "text/plain": [
       "array(['Breakfast', 'Beef & Pork', 'Chicken & Fish', 'Salads',\n",
       "       'Snacks & Sides', 'Desserts', 'Beverages', 'Coffee & Tea',\n",
       "       'Smoothies & Shakes'], dtype=object)"
      ]
     },
     "execution_count": 16,
     "metadata": {},
     "output_type": "execute_result"
    }
   ],
   "source": [
    "#finding the unique values in the category column of the dataset\n",
    "df['category'].unique()"
   ]
  },
  {
   "cell_type": "code",
   "execution_count": 17,
   "id": "11735a30",
   "metadata": {},
   "outputs": [
    {
     "data": {
      "text/plain": [
       "78"
      ]
     },
     "execution_count": 17,
     "metadata": {},
     "output_type": "execute_result"
    }
   ],
   "source": [
    "#finding the no.of unique values in the calories column of the dataset\n",
    "df['calories'].nunique()"
   ]
  },
  {
   "cell_type": "code",
   "execution_count": 18,
   "id": "108e218a",
   "metadata": {},
   "outputs": [
    {
     "data": {
      "text/plain": [
       "52"
      ]
     },
     "execution_count": 18,
     "metadata": {},
     "output_type": "execute_result"
    }
   ],
   "source": [
    "#finding the no.of unique values in the total fat column of the dataset\n",
    "df['total_fat'].nunique()"
   ]
  },
  {
   "cell_type": "code",
   "execution_count": 19,
   "id": "0a7bf10b",
   "metadata": {},
   "outputs": [
    {
     "data": {
      "text/plain": [
       "83"
      ]
     },
     "execution_count": 19,
     "metadata": {},
     "output_type": "execute_result"
    }
   ],
   "source": [
    "#finding the no.of unique values in the sugar column of the dataset\n",
    "df['sugars'].nunique()"
   ]
  },
  {
   "cell_type": "code",
   "execution_count": 20,
   "id": "1cd353b6",
   "metadata": {},
   "outputs": [
    {
     "data": {
      "text/plain": [
       "42"
      ]
     },
     "execution_count": 20,
     "metadata": {},
     "output_type": "execute_result"
    }
   ],
   "source": [
    "#finding the no.of unique values in the protein column of the dataset\n",
    "df['protein'].nunique()"
   ]
  },
  {
   "cell_type": "code",
   "execution_count": 21,
   "id": "72c9d1f6",
   "metadata": {},
   "outputs": [
    {
     "data": {
      "text/plain": [
       "35"
      ]
     },
     "execution_count": 21,
     "metadata": {},
     "output_type": "execute_result"
    }
   ],
   "source": [
    "#finding the no.of unique values in the cholesterol column of the dataset\n",
    "df[ 'cholesterol'].nunique()"
   ]
  },
  {
   "cell_type": "code",
   "execution_count": 22,
   "id": "9cdbb366",
   "metadata": {},
   "outputs": [
    {
     "data": {
      "text/plain": [
       "111"
      ]
     },
     "execution_count": 22,
     "metadata": {},
     "output_type": "execute_result"
    }
   ],
   "source": [
    "#finding the no.of unique values in the sodium column of the dataset\n",
    "df[ 'sodium'].nunique()"
   ]
  },
  {
   "cell_type": "code",
   "execution_count": 23,
   "id": "d5241f0b",
   "metadata": {},
   "outputs": [
    {
     "data": {
      "text/plain": [
       "84"
      ]
     },
     "execution_count": 23,
     "metadata": {},
     "output_type": "execute_result"
    }
   ],
   "source": [
    "#finding the no.of unique values in the carbohydrates column of the dataset\n",
    "df['carbohydrates'].nunique()"
   ]
  },
  {
   "cell_type": "code",
   "execution_count": 24,
   "id": "69cd0bb8",
   "metadata": {},
   "outputs": [
    {
     "data": {
      "text/plain": [
       "array([ 10,   6,   8,  15,   2,   0,   4,  20,  60,  70, 170, 100, 110,\n",
       "       160,  45,  25,  30,  40,  50], dtype=int64)"
      ]
     },
     "execution_count": 24,
     "metadata": {},
     "output_type": "execute_result"
    }
   ],
   "source": [
    "#finding the unique values in the vitamin A column of the dataset\n",
    "df[ 'vitamin_a_(%_daily_value)'].unique()"
   ]
  },
  {
   "cell_type": "code",
   "execution_count": 25,
   "id": "de02866b",
   "metadata": {},
   "outputs": [
    {
     "data": {
      "text/plain": [
       "array([  0,   2,   8,  10,  15,   4, 130,  20,  25,   6,  30,  45,  70,\n",
       "       160, 100, 240,  35], dtype=int64)"
      ]
     },
     "execution_count": 25,
     "metadata": {},
     "output_type": "execute_result"
    }
   ],
   "source": [
    "#finding the unique values in the vitamin C column of the dataset\n",
    "df['vitamin_c_(%_daily_value)'].unique()"
   ]
  },
  {
   "cell_type": "code",
   "execution_count": 26,
   "id": "372eafbf",
   "metadata": {},
   "outputs": [
    {
     "data": {
      "text/plain": [
       "array([25, 30, 15, 20,  6,  8, 10,  0,  2,  4, 35, 50, 40, 45, 60, 70],\n",
       "      dtype=int64)"
      ]
     },
     "execution_count": 26,
     "metadata": {},
     "output_type": "execute_result"
    }
   ],
   "source": [
    "#finding the unique values in the calcium column of the dataset\n",
    "df['calcium_(%_daily_value)'].unique()"
   ]
  },
  {
   "cell_type": "code",
   "execution_count": 27,
   "id": "56f187d4",
   "metadata": {},
   "outputs": [
    {
     "data": {
      "text/plain": [
       "array([15,  8, 10, 20, 25, 30, 40,  2, 35,  4,  6,  0], dtype=int64)"
      ]
     },
     "execution_count": 27,
     "metadata": {},
     "output_type": "execute_result"
    }
   ],
   "source": [
    "#finding the unique values in the iron column of the dataset\n",
    "df['iron_(%_daily_value)'].unique()"
   ]
  },
  {
   "cell_type": "code",
   "execution_count": 28,
   "id": "83ee35ad",
   "metadata": {},
   "outputs": [],
   "source": [
    "#changing the data type of the total fat column \n",
    "df['total_fat']=df['total_fat'].astype('int')"
   ]
  },
  {
   "cell_type": "code",
   "execution_count": 29,
   "id": "ad9283b3",
   "metadata": {},
   "outputs": [],
   "source": [
    "#changing the data type of the saturated fat column \n",
    "df['saturated_fat']=df['saturated_fat'].astype('int')"
   ]
  },
  {
   "cell_type": "code",
   "execution_count": 30,
   "id": "2347c9f0",
   "metadata": {},
   "outputs": [],
   "source": [
    "#changing the data type of the trans fat column \n",
    "df['trans_fat']=df['trans_fat'].astype('int')"
   ]
  },
  {
   "cell_type": "code",
   "execution_count": 31,
   "id": "4be09ccd",
   "metadata": {},
   "outputs": [],
   "source": [
    "#changing the data type of the serving size column \n",
    "df['serving_size']=df['serving_size'].astype('string')"
   ]
  },
  {
   "cell_type": "code",
   "execution_count": 32,
   "id": "eb407944",
   "metadata": {},
   "outputs": [],
   "source": [
    "#changing the data type of the item column \n",
    "df['item']=df['item'].astype('category')"
   ]
  },
  {
   "cell_type": "code",
   "execution_count": 33,
   "id": "1d2ebb0b",
   "metadata": {},
   "outputs": [],
   "source": [
    "#changing the data type of the category column \n",
    "df['category']=df['category'].astype('category')"
   ]
  },
  {
   "cell_type": "code",
   "execution_count": 34,
   "id": "79c09a6b",
   "metadata": {},
   "outputs": [
    {
     "name": "stdout",
     "output_type": "stream",
     "text": [
      "<class 'pandas.core.frame.DataFrame'>\n",
      "RangeIndex: 260 entries, 0 to 259\n",
      "Data columns (total 24 columns):\n",
      " #   Column                         Non-Null Count  Dtype   \n",
      "---  ------                         --------------  -----   \n",
      " 0   category                       260 non-null    category\n",
      " 1   item                           260 non-null    category\n",
      " 2   serving_size                   260 non-null    string  \n",
      " 3   calories                       260 non-null    int64   \n",
      " 4   calories_from_fat              260 non-null    int64   \n",
      " 5   total_fat                      260 non-null    int32   \n",
      " 6   total_fat_(%_daily_value)      260 non-null    int64   \n",
      " 7   saturated_fat                  260 non-null    int32   \n",
      " 8   saturated_fat_(%_daily_value)  260 non-null    int64   \n",
      " 9   trans_fat                      260 non-null    int32   \n",
      " 10  cholesterol                    260 non-null    int64   \n",
      " 11  cholesterol_(%_daily_value)    260 non-null    int64   \n",
      " 12  sodium                         260 non-null    int64   \n",
      " 13  sodium_(%_daily_value)         260 non-null    int64   \n",
      " 14  carbohydrates                  260 non-null    int64   \n",
      " 15  carbohydrates_(%_daily_value)  260 non-null    int64   \n",
      " 16  dietary_fiber                  260 non-null    int64   \n",
      " 17  dietary_fiber_(%_daily_value)  260 non-null    int64   \n",
      " 18  sugars                         260 non-null    int64   \n",
      " 19  protein                        260 non-null    int64   \n",
      " 20  vitamin_a_(%_daily_value)      260 non-null    int64   \n",
      " 21  vitamin_c_(%_daily_value)      260 non-null    int64   \n",
      " 22  calcium_(%_daily_value)        260 non-null    int64   \n",
      " 23  iron_(%_daily_value)           260 non-null    int64   \n",
      "dtypes: category(2), int32(3), int64(18), string(1)\n",
      "memory usage: 53.0 KB\n"
     ]
    }
   ],
   "source": [
    "df.info()"
   ]
  },
  {
   "cell_type": "markdown",
   "id": "ca99f3ad",
   "metadata": {},
   "source": [
    "# Descriptive statistic"
   ]
  },
  {
   "cell_type": "code",
   "execution_count": 35,
   "id": "23c550a2",
   "metadata": {},
   "outputs": [
    {
     "name": "stdout",
     "output_type": "stream",
     "text": [
      "0\n",
      "1880\n"
     ]
    }
   ],
   "source": [
    "#maximum and minimum value of the calories column\n",
    "print (df['calories'].min())\n",
    "print (df['calories'].max())"
   ]
  },
  {
   "cell_type": "code",
   "execution_count": 36,
   "id": "f6760d64",
   "metadata": {},
   "outputs": [
    {
     "data": {
      "text/plain": [
       "count     260.000000\n",
       "mean      368.269231\n",
       "std       240.269886\n",
       "min         0.000000\n",
       "25%       210.000000\n",
       "50%       340.000000\n",
       "75%       500.000000\n",
       "max      1880.000000\n",
       "Name: calories, dtype: float64"
      ]
     },
     "execution_count": 36,
     "metadata": {},
     "output_type": "execute_result"
    }
   ],
   "source": [
    "#seeing the count ,mean,min values and more other information of the calories column in data set\n",
    "df['calories'].describe()"
   ]
  },
  {
   "cell_type": "code",
   "execution_count": 37,
   "id": "d13aa212",
   "metadata": {},
   "outputs": [
    {
     "data": {
      "text/plain": [
       "category\n",
       "Chicken & Fish        1880\n",
       "Breakfast             1150\n",
       "Smoothies & Shakes     930\n",
       "Coffee & Tea           760\n",
       "Beef & Pork            750\n",
       "Snacks & Sides         510\n",
       "Salads                 450\n",
       "Desserts               340\n",
       "Beverages              280\n",
       "Name: calories, dtype: int64"
      ]
     },
     "execution_count": 37,
     "metadata": {},
     "output_type": "execute_result"
    }
   ],
   "source": [
    "#seeing which category has heighest calories in it\n",
    "df.groupby('category')['calories'].max().sort_values(ascending=False)"
   ]
  },
  {
   "cell_type": "code",
   "execution_count": 38,
   "id": "e7ac2f98",
   "metadata": {},
   "outputs": [
    {
     "data": {
      "text/plain": [
       "category\n",
       "Chicken & Fish        552.962963\n",
       "Smoothies & Shakes    531.428571\n",
       "Breakfast             526.666667\n",
       "Beef & Pork           494.000000\n",
       "Coffee & Tea          283.894737\n",
       "Salads                270.000000\n",
       "Snacks & Sides        245.769231\n",
       "Desserts              222.142857\n",
       "Beverages             113.703704\n",
       "Name: calories, dtype: float64"
      ]
     },
     "execution_count": 38,
     "metadata": {},
     "output_type": "execute_result"
    }
   ],
   "source": [
    "#seeing which category has average calories in it\n",
    "df.groupby('category')['calories'].mean().sort_values(ascending=False)"
   ]
  },
  {
   "cell_type": "code",
   "execution_count": 39,
   "id": "06f8e7f7",
   "metadata": {},
   "outputs": [
    {
     "name": "stdout",
     "output_type": "stream",
     "text": [
      "0\n",
      "118\n"
     ]
    }
   ],
   "source": [
    "#seeing the maximum and minimum value of the total fat column \n",
    "print (df['total_fat'].min())\n",
    "print (df['total_fat'].max())"
   ]
  },
  {
   "cell_type": "code",
   "execution_count": 40,
   "id": "5a416315",
   "metadata": {},
   "outputs": [
    {
     "data": {
      "text/plain": [
       "count    260.000000\n",
       "mean      14.119231\n",
       "std       14.244325\n",
       "min        0.000000\n",
       "25%        2.000000\n",
       "50%       11.000000\n",
       "75%       22.250000\n",
       "max      118.000000\n",
       "Name: total_fat, dtype: float64"
      ]
     },
     "execution_count": 40,
     "metadata": {},
     "output_type": "execute_result"
    }
   ],
   "source": [
    "#seeing the count ,mean,min values and more other information of the total fat column in data set\n",
    "df['total_fat'].describe()"
   ]
  },
  {
   "cell_type": "code",
   "execution_count": 41,
   "id": "b3cf94af",
   "metadata": {},
   "outputs": [
    {
     "data": {
      "text/plain": [
       "category\n",
       "Chicken & Fish        118\n",
       "Breakfast              60\n",
       "Beef & Pork            43\n",
       "Smoothies & Shakes     33\n",
       "Coffee & Tea           31\n",
       "Snacks & Sides         24\n",
       "Salads                 22\n",
       "Desserts               13\n",
       "Beverages               2\n",
       "Name: total_fat, dtype: int32"
      ]
     },
     "execution_count": 41,
     "metadata": {},
     "output_type": "execute_result"
    }
   ],
   "source": [
    "#seeing which category has heighest total fat in it\n",
    "df.groupby('category')['total_fat'].max().sort_values(ascending=False)"
   ]
  },
  {
   "cell_type": "code",
   "execution_count": 42,
   "id": "af7bc2df",
   "metadata": {},
   "outputs": [
    {
     "data": {
      "text/plain": [
       "category\n",
       "Breakfast             27.690476\n",
       "Chicken & Fish        26.962963\n",
       "Beef & Pork           24.866667\n",
       "Smoothies & Shakes    14.071429\n",
       "Salads                11.666667\n",
       "Snacks & Sides        10.538462\n",
       "Coffee & Tea           7.926316\n",
       "Desserts               7.285714\n",
       "Beverages              0.074074\n",
       "Name: total_fat, dtype: float64"
      ]
     },
     "execution_count": 42,
     "metadata": {},
     "output_type": "execute_result"
    }
   ],
   "source": [
    "#seeing which category has average total fat in it\n",
    "df.groupby('category')['total_fat'].mean().sort_values(ascending=False)"
   ]
  },
  {
   "cell_type": "code",
   "execution_count": 43,
   "id": "2866801a",
   "metadata": {},
   "outputs": [
    {
     "name": "stdout",
     "output_type": "stream",
     "text": [
      "0\n",
      "20\n"
     ]
    }
   ],
   "source": [
    "#seeing the maximum and minimum value of the saturated fat column \n",
    "print (df['saturated_fat'].min())\n",
    "print (df['saturated_fat'].max())"
   ]
  },
  {
   "cell_type": "code",
   "execution_count": 44,
   "id": "1536732a",
   "metadata": {},
   "outputs": [
    {
     "data": {
      "text/plain": [
       "count    260.000000\n",
       "mean       5.942308\n",
       "std        5.360421\n",
       "min        0.000000\n",
       "25%        1.000000\n",
       "50%        5.000000\n",
       "75%       10.000000\n",
       "max       20.000000\n",
       "Name: saturated_fat, dtype: float64"
      ]
     },
     "execution_count": 44,
     "metadata": {},
     "output_type": "execute_result"
    }
   ],
   "source": [
    "#seeing the count ,mean,min values and more other information of the saturated fat column in data set\n",
    "df['saturated_fat'].describe()"
   ]
  },
  {
   "cell_type": "code",
   "execution_count": 45,
   "id": "5e903704",
   "metadata": {},
   "outputs": [
    {
     "data": {
      "text/plain": [
       "category\n",
       "Breakfast             20\n",
       "Chicken & Fish        20\n",
       "Coffee & Tea          20\n",
       "Smoothies & Shakes    20\n",
       "Beef & Pork           19\n",
       "Desserts               7\n",
       "Salads                 6\n",
       "Snacks & Sides         5\n",
       "Beverages              1\n",
       "Name: saturated_fat, dtype: int32"
      ]
     },
     "execution_count": 45,
     "metadata": {},
     "output_type": "execute_result"
    }
   ],
   "source": [
    "#seeing which category has heighest saturated fat in it \n",
    "df.groupby('category')['saturated_fat'].max().sort_values(ascending=False)"
   ]
  },
  {
   "cell_type": "code",
   "execution_count": 46,
   "id": "7d2e8c80",
   "metadata": {},
   "outputs": [
    {
     "data": {
      "text/plain": [
       "category\n",
       "Breakfast             10.619048\n",
       "Beef & Pork           10.466667\n",
       "Smoothies & Shakes     8.321429\n",
       "Chicken & Fish         6.111111\n",
       "Coffee & Tea           4.863158\n",
       "Desserts               4.142857\n",
       "Salads                 3.500000\n",
       "Snacks & Sides         2.384615\n",
       "Beverages              0.037037\n",
       "Name: saturated_fat, dtype: float64"
      ]
     },
     "execution_count": 46,
     "metadata": {},
     "output_type": "execute_result"
    }
   ],
   "source": [
    "#seeing which category has average saturated fat in it \n",
    "df.groupby('category')['saturated_fat'].mean().sort_values(ascending=False)"
   ]
  },
  {
   "cell_type": "code",
   "execution_count": 47,
   "id": "6a685113",
   "metadata": {},
   "outputs": [
    {
     "name": "stdout",
     "output_type": "stream",
     "text": [
      "0\n",
      "2\n"
     ]
    }
   ],
   "source": [
    "#seeing the maximum and minimum value of the trans fat column \n",
    "print (df['trans_fat'].min())\n",
    "print (df['trans_fat'].max())"
   ]
  },
  {
   "cell_type": "code",
   "execution_count": 48,
   "id": "58fc312f",
   "metadata": {},
   "outputs": [
    {
     "data": {
      "text/plain": [
       "count    260.000000\n",
       "mean       0.153846\n",
       "std        0.372024\n",
       "min        0.000000\n",
       "25%        0.000000\n",
       "50%        0.000000\n",
       "75%        0.000000\n",
       "max        2.000000\n",
       "Name: trans_fat, dtype: float64"
      ]
     },
     "execution_count": 48,
     "metadata": {},
     "output_type": "execute_result"
    }
   ],
   "source": [
    "#seeing the count ,mean,min values and more other information of the trans fat column in data set\n",
    "df['trans_fat'].describe()"
   ]
  },
  {
   "cell_type": "code",
   "execution_count": 49,
   "id": "cdfa1246",
   "metadata": {},
   "outputs": [
    {
     "data": {
      "text/plain": [
       "category\n",
       "Beef & Pork           2\n",
       "Breakfast             1\n",
       "Chicken & Fish        1\n",
       "Coffee & Tea          1\n",
       "Smoothies & Shakes    1\n",
       "Beverages             0\n",
       "Desserts              0\n",
       "Salads                0\n",
       "Snacks & Sides        0\n",
       "Name: trans_fat, dtype: int32"
      ]
     },
     "execution_count": 49,
     "metadata": {},
     "output_type": "execute_result"
    }
   ],
   "source": [
    "#seeing which category has heighest trans fat in it\n",
    "df.groupby('category')['trans_fat'].max().sort_values(ascending=False)"
   ]
  },
  {
   "cell_type": "code",
   "execution_count": 50,
   "id": "9f7579a2",
   "metadata": {},
   "outputs": [
    {
     "data": {
      "text/plain": [
       "category\n",
       "Beef & Pork           0.866667\n",
       "Smoothies & Shakes    0.500000\n",
       "Coffee & Tea          0.094737\n",
       "Breakfast             0.071429\n",
       "Chicken & Fish        0.037037\n",
       "Beverages             0.000000\n",
       "Desserts              0.000000\n",
       "Salads                0.000000\n",
       "Snacks & Sides        0.000000\n",
       "Name: trans_fat, dtype: float64"
      ]
     },
     "execution_count": 50,
     "metadata": {},
     "output_type": "execute_result"
    }
   ],
   "source": [
    "#seeing which category has average trans fat in it \n",
    "df.groupby('category')['trans_fat'].mean().sort_values(ascending=False)"
   ]
  },
  {
   "cell_type": "code",
   "execution_count": 51,
   "id": "ac16b7aa",
   "metadata": {},
   "outputs": [
    {
     "name": "stdout",
     "output_type": "stream",
     "text": [
      "0\n",
      "575\n"
     ]
    }
   ],
   "source": [
    "#seeing the maximum and minimum value in the cholersterol column\n",
    "print (df['cholesterol'].min())\n",
    "print (df['cholesterol'].max())"
   ]
  },
  {
   "cell_type": "code",
   "execution_count": 52,
   "id": "cf10b6fb",
   "metadata": {},
   "outputs": [
    {
     "data": {
      "text/plain": [
       "count    260.000000\n",
       "mean      54.942308\n",
       "std       87.269257\n",
       "min        0.000000\n",
       "25%        5.000000\n",
       "50%       35.000000\n",
       "75%       65.000000\n",
       "max      575.000000\n",
       "Name: cholesterol, dtype: float64"
      ]
     },
     "execution_count": 52,
     "metadata": {},
     "output_type": "execute_result"
    }
   ],
   "source": [
    "#seeing the count ,mean,min values and more other information of the cholesterol column in data set\n",
    "df['cholesterol'].describe()"
   ]
  },
  {
   "cell_type": "code",
   "execution_count": 53,
   "id": "2220e831",
   "metadata": {},
   "outputs": [
    {
     "data": {
      "text/plain": [
       "category\n",
       "Breakfast             575\n",
       "Chicken & Fish        265\n",
       "Beef & Pork           160\n",
       "Coffee & Tea           95\n",
       "Smoothies & Shakes     90\n",
       "Salads                 85\n",
       "Snacks & Sides         45\n",
       "Desserts               30\n",
       "Beverages              10\n",
       "Name: cholesterol, dtype: int64"
      ]
     },
     "execution_count": 53,
     "metadata": {},
     "output_type": "execute_result"
    }
   ],
   "source": [
    "#seeing which category has heighest cholesterol in it\n",
    "df.groupby('category')['cholesterol'].max().sort_values(ascending=False)"
   ]
  },
  {
   "cell_type": "code",
   "execution_count": 54,
   "id": "53e11a81",
   "metadata": {},
   "outputs": [
    {
     "data": {
      "text/plain": [
       "category\n",
       "Breakfast             152.857143\n",
       "Beef & Pork            87.333333\n",
       "Chicken & Fish         75.370370\n",
       "Salads                 51.666667\n",
       "Smoothies & Shakes     45.000000\n",
       "Coffee & Tea           27.263158\n",
       "Snacks & Sides         18.461538\n",
       "Desserts               15.000000\n",
       "Beverages               0.555556\n",
       "Name: cholesterol, dtype: float64"
      ]
     },
     "execution_count": 54,
     "metadata": {},
     "output_type": "execute_result"
    }
   ],
   "source": [
    "#seeing which category has average cholesterol in it\n",
    "df.groupby('category')['cholesterol'].mean().sort_values(ascending=False)"
   ]
  },
  {
   "cell_type": "code",
   "execution_count": 55,
   "id": "9b5cd9b3",
   "metadata": {},
   "outputs": [
    {
     "name": "stdout",
     "output_type": "stream",
     "text": [
      "0\n",
      "3600\n"
     ]
    }
   ],
   "source": [
    "#seeing the maximum and minimum value of the sodium column \n",
    "print (df['sodium'].min())\n",
    "print (df['sodium'].max())"
   ]
  },
  {
   "cell_type": "code",
   "execution_count": 56,
   "id": "f74cce53",
   "metadata": {},
   "outputs": [
    {
     "data": {
      "text/plain": [
       "count     260.000000\n",
       "mean      495.750000\n",
       "std       577.026323\n",
       "min         0.000000\n",
       "25%       107.500000\n",
       "50%       190.000000\n",
       "75%       865.000000\n",
       "max      3600.000000\n",
       "Name: sodium, dtype: float64"
      ]
     },
     "execution_count": 56,
     "metadata": {},
     "output_type": "execute_result"
    }
   ],
   "source": [
    "#seeing the count ,mean,min values and more other information of the sodium column in data set\n",
    "df['sodium'].describe()"
   ]
  },
  {
   "cell_type": "code",
   "execution_count": 57,
   "id": "6c384a14",
   "metadata": {},
   "outputs": [
    {
     "data": {
      "text/plain": [
       "category\n",
       "Chicken & Fish        3600\n",
       "Breakfast             2290\n",
       "Beef & Pork           1470\n",
       "Salads                 860\n",
       "Snacks & Sides         810\n",
       "Smoothies & Shakes     400\n",
       "Coffee & Tea           280\n",
       "Desserts               170\n",
       "Beverages              140\n",
       "Name: sodium, dtype: int64"
      ]
     },
     "execution_count": 57,
     "metadata": {},
     "output_type": "execute_result"
    }
   ],
   "source": [
    "#seeing which category has heighest sodium in it\n",
    "df.groupby('category')['sodium'].max().sort_values(ascending=False)"
   ]
  },
  {
   "cell_type": "code",
   "execution_count": 58,
   "id": "42e76ac3",
   "metadata": {},
   "outputs": [
    {
     "data": {
      "text/plain": [
       "category\n",
       "Chicken & Fish        1257.777778\n",
       "Breakfast             1211.071429\n",
       "Beef & Pork           1020.666667\n",
       "Salads                 588.333333\n",
       "Snacks & Sides         395.769231\n",
       "Smoothies & Shakes     183.571429\n",
       "Coffee & Tea           136.894737\n",
       "Desserts               117.142857\n",
       "Beverages               41.481481\n",
       "Name: sodium, dtype: float64"
      ]
     },
     "execution_count": 58,
     "metadata": {},
     "output_type": "execute_result"
    }
   ],
   "source": [
    "#seeing which category has average sodium in it\n",
    "df.groupby('category')['sodium'].mean().sort_values(ascending=False)"
   ]
  },
  {
   "cell_type": "code",
   "execution_count": 59,
   "id": "68f0a8de",
   "metadata": {},
   "outputs": [
    {
     "name": "stdout",
     "output_type": "stream",
     "text": [
      "0\n",
      "141\n"
     ]
    }
   ],
   "source": [
    "#seeing the maximum and minimum value in the carbohydrates column \n",
    "print (df[ 'carbohydrates'].min())\n",
    "print (df[ 'carbohydrates'].max())"
   ]
  },
  {
   "cell_type": "code",
   "execution_count": 60,
   "id": "78f86c69",
   "metadata": {},
   "outputs": [
    {
     "data": {
      "text/plain": [
       "count    260.000000\n",
       "mean      47.346154\n",
       "std       28.252232\n",
       "min        0.000000\n",
       "25%       30.000000\n",
       "50%       44.000000\n",
       "75%       60.000000\n",
       "max      141.000000\n",
       "Name: carbohydrates, dtype: float64"
      ]
     },
     "execution_count": 60,
     "metadata": {},
     "output_type": "execute_result"
    }
   ],
   "source": [
    "#seeing the count ,mean,min values and more other information of the carbohydrates column in data set\n",
    "df[ 'carbohydrates'].describe()"
   ]
  },
  {
   "cell_type": "code",
   "execution_count": 61,
   "id": "6988033f",
   "metadata": {},
   "outputs": [
    {
     "data": {
      "text/plain": [
       "category\n",
       "Smoothies & Shakes    141\n",
       "Chicken & Fish        118\n",
       "Breakfast             116\n",
       "Coffee & Tea          111\n",
       "Beverages              76\n",
       "Snacks & Sides         67\n",
       "Desserts               60\n",
       "Beef & Pork            51\n",
       "Salads                 42\n",
       "Name: carbohydrates, dtype: int64"
      ]
     },
     "execution_count": 61,
     "metadata": {},
     "output_type": "execute_result"
    }
   ],
   "source": [
    "#seeing which category has heighest carbohydrates in it\n",
    "df.groupby('category')['carbohydrates'].max().sort_values(ascending=False)"
   ]
  },
  {
   "cell_type": "code",
   "execution_count": 62,
   "id": "fd87ffde",
   "metadata": {},
   "outputs": [
    {
     "data": {
      "text/plain": [
       "category\n",
       "Smoothies & Shakes    90.428571\n",
       "Breakfast             49.761905\n",
       "Chicken & Fish        49.074074\n",
       "Coffee & Tea          44.526316\n",
       "Beef & Pork           40.133333\n",
       "Desserts              34.857143\n",
       "Snacks & Sides        29.153846\n",
       "Beverages             28.814815\n",
       "Salads                21.666667\n",
       "Name: carbohydrates, dtype: float64"
      ]
     },
     "execution_count": 62,
     "metadata": {},
     "output_type": "execute_result"
    }
   ],
   "source": [
    "#seeing which category has average carbohydrates in it \n",
    "df.groupby('category')['carbohydrates'].mean().sort_values(ascending=False)"
   ]
  },
  {
   "cell_type": "code",
   "execution_count": 63,
   "id": "dc3b44a2",
   "metadata": {},
   "outputs": [
    {
     "name": "stdout",
     "output_type": "stream",
     "text": [
      "0\n",
      "7\n"
     ]
    }
   ],
   "source": [
    "#seeing the maximum and minimum value in the dietary fiber column \n",
    "print (df['dietary_fiber'].min())\n",
    "print (df['dietary_fiber'].max())"
   ]
  },
  {
   "cell_type": "code",
   "execution_count": 64,
   "id": "7929b340",
   "metadata": {},
   "outputs": [
    {
     "data": {
      "text/plain": [
       "count    260.000000\n",
       "mean       1.630769\n",
       "std        1.567717\n",
       "min        0.000000\n",
       "25%        0.000000\n",
       "50%        1.000000\n",
       "75%        3.000000\n",
       "max        7.000000\n",
       "Name: dietary_fiber, dtype: float64"
      ]
     },
     "execution_count": 64,
     "metadata": {},
     "output_type": "execute_result"
    }
   ],
   "source": [
    "#seeing the count ,mean,min values and more other information of the dietary fiber column in data set\n",
    "df['dietary_fiber'].describe()"
   ]
  },
  {
   "cell_type": "code",
   "execution_count": 65,
   "id": "0af0039f",
   "metadata": {},
   "outputs": [
    {
     "data": {
      "text/plain": [
       "category\n",
       "Breakfast             7\n",
       "Salads                7\n",
       "Chicken & Fish        6\n",
       "Smoothies & Shakes    5\n",
       "Snacks & Sides        5\n",
       "Beef & Pork           4\n",
       "Desserts              4\n",
       "Coffee & Tea          2\n",
       "Beverages             1\n",
       "Name: dietary_fiber, dtype: int64"
      ]
     },
     "execution_count": 65,
     "metadata": {},
     "output_type": "execute_result"
    }
   ],
   "source": [
    "#seeing which category has heighest dietary fiber in it \n",
    "df.groupby('category')['dietary_fiber'].max().sort_values(ascending=False)"
   ]
  },
  {
   "cell_type": "code",
   "execution_count": 66,
   "id": "480eb1eb",
   "metadata": {},
   "outputs": [
    {
     "data": {
      "text/plain": [
       "category\n",
       "Salads                4.500000\n",
       "Breakfast             3.261905\n",
       "Chicken & Fish        2.925926\n",
       "Beef & Pork           2.533333\n",
       "Snacks & Sides        1.538462\n",
       "Smoothies & Shakes    1.464286\n",
       "Desserts              1.000000\n",
       "Coffee & Tea          0.778947\n",
       "Beverages             0.037037\n",
       "Name: dietary_fiber, dtype: float64"
      ]
     },
     "execution_count": 66,
     "metadata": {},
     "output_type": "execute_result"
    }
   ],
   "source": [
    "#seeing which category has average dietary fiber in it \n",
    "df.groupby('category')['dietary_fiber'].mean().sort_values(ascending=False)"
   ]
  },
  {
   "cell_type": "code",
   "execution_count": 67,
   "id": "0d4faa17",
   "metadata": {},
   "outputs": [
    {
     "name": "stdout",
     "output_type": "stream",
     "text": [
      "0\n",
      "128\n"
     ]
    }
   ],
   "source": [
    "#seeing the maximum and minimum value in the sugar column \n",
    "print (df['sugars'].min())\n",
    "print (df['sugars'].max())"
   ]
  },
  {
   "cell_type": "code",
   "execution_count": 68,
   "id": "8b3b1b8b",
   "metadata": {},
   "outputs": [
    {
     "data": {
      "text/plain": [
       "count    260.000000\n",
       "mean      29.423077\n",
       "std       28.679797\n",
       "min        0.000000\n",
       "25%        5.750000\n",
       "50%       17.500000\n",
       "75%       48.000000\n",
       "max      128.000000\n",
       "Name: sugars, dtype: float64"
      ]
     },
     "execution_count": 68,
     "metadata": {},
     "output_type": "execute_result"
    }
   ],
   "source": [
    "#seeing the count ,mean,min values and more other information of the sugar column in data set\n",
    "df['sugars'].describe()"
   ]
  },
  {
   "cell_type": "code",
   "execution_count": 69,
   "id": "58292c06",
   "metadata": {},
   "outputs": [
    {
     "data": {
      "text/plain": [
       "category\n",
       "Smoothies & Shakes    128\n",
       "Coffee & Tea           99\n",
       "Beverages              76\n",
       "Desserts               48\n",
       "Breakfast              32\n",
       "Snacks & Sides         23\n",
       "Chicken & Fish         16\n",
       "Beef & Pork            14\n",
       "Salads                 12\n",
       "Name: sugars, dtype: int64"
      ]
     },
     "execution_count": 69,
     "metadata": {},
     "output_type": "execute_result"
    }
   ],
   "source": [
    "#seeing which category has heighest sugar in it \n",
    "df.groupby('category')['sugars'].max().sort_values(ascending=False)"
   ]
  },
  {
   "cell_type": "code",
   "execution_count": 70,
   "id": "39e7aa34",
   "metadata": {},
   "outputs": [
    {
     "data": {
      "text/plain": [
       "category\n",
       "Smoothies & Shakes    77.892857\n",
       "Coffee & Tea          39.610526\n",
       "Beverages             27.851852\n",
       "Desserts              26.142857\n",
       "Beef & Pork            8.800000\n",
       "Breakfast              8.261905\n",
       "Chicken & Fish         7.333333\n",
       "Salads                 6.833333\n",
       "Snacks & Sides         4.076923\n",
       "Name: sugars, dtype: float64"
      ]
     },
     "execution_count": 70,
     "metadata": {},
     "output_type": "execute_result"
    }
   ],
   "source": [
    "#seeing which category has average sugar in it \n",
    "df.groupby('category')['sugars'].mean().sort_values(ascending=False)"
   ]
  },
  {
   "cell_type": "code",
   "execution_count": 71,
   "id": "d997351c",
   "metadata": {},
   "outputs": [
    {
     "name": "stdout",
     "output_type": "stream",
     "text": [
      "0\n",
      "87\n"
     ]
    }
   ],
   "source": [
    "#seeing the maximum and minimum value in the proyein column\n",
    "print (df['protein'].min())\n",
    "print (df['protein'].max())"
   ]
  },
  {
   "cell_type": "code",
   "execution_count": 72,
   "id": "48f2a09e",
   "metadata": {},
   "outputs": [
    {
     "data": {
      "text/plain": [
       "count    260.000000\n",
       "mean      13.338462\n",
       "std       11.426146\n",
       "min        0.000000\n",
       "25%        4.000000\n",
       "50%       12.000000\n",
       "75%       19.000000\n",
       "max       87.000000\n",
       "Name: protein, dtype: float64"
      ]
     },
     "execution_count": 72,
     "metadata": {},
     "output_type": "execute_result"
    }
   ],
   "source": [
    "#seeing the count ,mean,min values and more other information of the protein column in data set\n",
    "df['protein'].describe()"
   ]
  },
  {
   "cell_type": "code",
   "execution_count": 73,
   "id": "7471674b",
   "metadata": {},
   "outputs": [
    {
     "data": {
      "text/plain": [
       "category\n",
       "Chicken & Fish        87\n",
       "Beef & Pork           48\n",
       "Breakfast             36\n",
       "Salads                29\n",
       "Smoothies & Shakes    21\n",
       "Coffee & Tea          19\n",
       "Snacks & Sides        16\n",
       "Beverages              9\n",
       "Desserts               8\n",
       "Name: protein, dtype: int64"
      ]
     },
     "execution_count": 73,
     "metadata": {},
     "output_type": "execute_result"
    }
   ],
   "source": [
    "#seeing which category has heighest protein in it\n",
    "df.groupby('category')['protein'].max().sort_values(ascending=False)"
   ]
  },
  {
   "cell_type": "code",
   "execution_count": 74,
   "id": "38f70fd7",
   "metadata": {},
   "outputs": [
    {
     "data": {
      "text/plain": [
       "category\n",
       "Chicken & Fish        29.111111\n",
       "Beef & Pork           27.333333\n",
       "Breakfast             19.857143\n",
       "Salads                19.833333\n",
       "Smoothies & Shakes    10.857143\n",
       "Coffee & Tea           8.863158\n",
       "Snacks & Sides         8.384615\n",
       "Desserts               4.000000\n",
       "Beverages              1.333333\n",
       "Name: protein, dtype: float64"
      ]
     },
     "execution_count": 74,
     "metadata": {},
     "output_type": "execute_result"
    }
   ],
   "source": [
    "#seeing which category has average protein in it\n",
    "df.groupby('category')['protein'].mean().sort_values(ascending=False)"
   ]
  },
  {
   "cell_type": "code",
   "execution_count": 75,
   "id": "6dbb53c2",
   "metadata": {},
   "outputs": [
    {
     "data": {
      "text/plain": [
       "item\n",
       "Chicken McNuggets (40 piece)                87\n",
       "Double Quarter Pounder with Cheese          48\n",
       "Chicken McNuggets (20 piece)                44\n",
       "Bacon Clubhouse Grilled Chicken Sandwich    40\n",
       "Premium Grilled Chicken Club Sandwich       40\n",
       "                                            ..\n",
       "Coffee (Medium)                              0\n",
       "Coffee (Large)                               0\n",
       "Coca-Cola Classic (Small)                    0\n",
       "Coca-Cola Classic (Medium)                   0\n",
       "Diet Coke (Large)                            0\n",
       "Name: protein, Length: 260, dtype: int64"
      ]
     },
     "execution_count": 75,
     "metadata": {},
     "output_type": "execute_result"
    }
   ],
   "source": [
    "#seeing which item has heighest protein in it\n",
    "df.groupby('item')['protein'].max().sort_values(ascending=False)"
   ]
  },
  {
   "cell_type": "code",
   "execution_count": 76,
   "id": "94b2ab9a",
   "metadata": {},
   "outputs": [
    {
     "data": {
      "text/plain": [
       "item\n",
       "Chicken McNuggets (40 piece)                                    1880\n",
       "Big Breakfast with Hotcakes (Large Biscuit)                     1150\n",
       "Big Breakfast with Hotcakes (Regular Biscuit)                   1090\n",
       "Big Breakfast with Hotcakes and Egg Whites (Large Biscuit)      1050\n",
       "Big Breakfast with Hotcakes and Egg Whites (Regular Biscuit)     990\n",
       "                                                                ... \n",
       "Diet Coke (Large)                                                  0\n",
       "Coffee (Large)                                                     0\n",
       "Diet Coke (Child)                                                  0\n",
       "Coffee (Medium)                                                    0\n",
       "Diet Dr Pepper (Small)                                             0\n",
       "Name: calories, Length: 260, dtype: int64"
      ]
     },
     "execution_count": 76,
     "metadata": {},
     "output_type": "execute_result"
    }
   ],
   "source": [
    "#seeing which item has heighest calories in it\n",
    "df.groupby('item')['calories'].max().sort_values(ascending=False)"
   ]
  },
  {
   "cell_type": "code",
   "execution_count": 77,
   "id": "2b8614f2",
   "metadata": {},
   "outputs": [
    {
     "data": {
      "text/plain": [
       "category\n",
       "Coffee & Tea          95\n",
       "Breakfast             42\n",
       "Smoothies & Shakes    28\n",
       "Beverages             27\n",
       "Chicken & Fish        27\n",
       "Beef & Pork           15\n",
       "Snacks & Sides        13\n",
       "Desserts               7\n",
       "Salads                 6\n",
       "Name: count, dtype: int64"
      ]
     },
     "execution_count": 77,
     "metadata": {},
     "output_type": "execute_result"
    }
   ],
   "source": [
    "#seeing how many category are their in the data set and the no.of counts of each category\n",
    "df['category'].value_counts()"
   ]
  },
  {
   "cell_type": "markdown",
   "id": "bfd80db5",
   "metadata": {},
   "source": [
    "# Customer and Product analysis"
   ]
  },
  {
   "cell_type": "code",
   "execution_count": 78,
   "id": "a252273e",
   "metadata": {},
   "outputs": [
    {
     "data": {
      "text/plain": [
       "item\n",
       "Hot Chocolate with Nonfat Milk (Large)    19.0\n",
       "Nonfat Caramel Mocha (Large)              17.0\n",
       "Mocha with Nonfat Milk (Large)            17.0\n",
       "Hot Chocolate (Large)                     17.0\n",
       "Nonfat Caramel Latte (Large)              16.0\n",
       "                                          ... \n",
       "Strawberry Shake (Small)                   NaN\n",
       "Strawberry Sundae                          NaN\n",
       "Vanilla Shake (Large)                      NaN\n",
       "Vanilla Shake (Medium)                     NaN\n",
       "Vanilla Shake (Small)                      NaN\n",
       "Name: protein, Length: 260, dtype: float64"
      ]
     },
     "execution_count": 78,
     "metadata": {},
     "output_type": "execute_result"
    }
   ],
   "source": [
    "#seeing the types of coffee and tea and which coffee and tea has average protein in it\n",
    "coffee_tea = df[df.category == 'Coffee & Tea']\n",
    "coffee_tea.groupby('item')['protein'].mean().sort_values(ascending=False)\n"
   ]
  },
  {
   "cell_type": "code",
   "execution_count": 79,
   "id": "3c8bc739",
   "metadata": {},
   "outputs": [
    {
     "data": {
      "text/plain": [
       "item\n",
       "Frappé Chocolate Chip (Large)     95.0\n",
       "Frappé Caramel (Large)            95.0\n",
       "Frappé Mocha (Large)              90.0\n",
       "Frappé Chocolate Chip (Medium)    80.0\n",
       "Frappé Caramel (Medium)           80.0\n",
       "                                  ... \n",
       "Strawberry Shake (Small)           NaN\n",
       "Strawberry Sundae                  NaN\n",
       "Vanilla Shake (Large)              NaN\n",
       "Vanilla Shake (Medium)             NaN\n",
       "Vanilla Shake (Small)              NaN\n",
       "Name: cholesterol, Length: 260, dtype: float64"
      ]
     },
     "execution_count": 79,
     "metadata": {},
     "output_type": "execute_result"
    }
   ],
   "source": [
    "#seeing the types of coffee and tea and which coffee and tea has average cholesterol  in it\n",
    "coffee_tea = df[df.category == 'Coffee & Tea']\n",
    "coffee_tea.groupby('item')['cholesterol'].mean().sort_values(ascending=False)"
   ]
  },
  {
   "cell_type": "code",
   "execution_count": 80,
   "id": "43c6bc91",
   "metadata": {},
   "outputs": [
    {
     "data": {
      "text/plain": [
       "item\n",
       "Double Quarter Pounder with Cheese           48.0\n",
       "Bacon Clubhouse Burger                       39.0\n",
       "Quarter Pounder with Bacon & Cheese          37.0\n",
       "Quarter Pounder with Bacon Habanero Ranch    37.0\n",
       "Quarter Pounder with Cheese                  30.0\n",
       "                                             ... \n",
       "Sweet Tea (Medium)                            NaN\n",
       "Sweet Tea (Small)                             NaN\n",
       "Vanilla Shake (Large)                         NaN\n",
       "Vanilla Shake (Medium)                        NaN\n",
       "Vanilla Shake (Small)                         NaN\n",
       "Name: protein, Length: 260, dtype: float64"
      ]
     },
     "execution_count": 80,
     "metadata": {},
     "output_type": "execute_result"
    }
   ],
   "source": [
    "#seeing the types of beef and pork and which beef and pork has average protein in it\n",
    "beef_pork = df[df.category == 'Beef & Pork']\n",
    "beef_pork.groupby('item')['protein'].mean().sort_values(ascending=False)"
   ]
  },
  {
   "cell_type": "code",
   "execution_count": 81,
   "id": "e1d0d179",
   "metadata": {},
   "outputs": [
    {
     "data": {
      "text/plain": [
       "item\n",
       "Double Quarter Pounder with Cheese           160.0\n",
       "Bacon Clubhouse Burger                       115.0\n",
       "Quarter Pounder with Bacon & Cheese          105.0\n",
       "Quarter Pounder with Bacon Habanero Ranch    105.0\n",
       "Quarter Pounder with Cheese                   95.0\n",
       "                                             ...  \n",
       "Sweet Tea (Medium)                             NaN\n",
       "Sweet Tea (Small)                              NaN\n",
       "Vanilla Shake (Large)                          NaN\n",
       "Vanilla Shake (Medium)                         NaN\n",
       "Vanilla Shake (Small)                          NaN\n",
       "Name: cholesterol, Length: 260, dtype: float64"
      ]
     },
     "execution_count": 81,
     "metadata": {},
     "output_type": "execute_result"
    }
   ],
   "source": [
    "#seeing the types of beef and pork and which beef and pork has average cholesterol in it\n",
    "beef_pork = df[df.category == 'Beef & Pork']\n",
    "beef_pork.groupby('item')['cholesterol'].mean().sort_values(ascending=False)"
   ]
  },
  {
   "cell_type": "code",
   "execution_count": 82,
   "id": "27432f8e",
   "metadata": {},
   "outputs": [
    {
     "data": {
      "text/plain": [
       "item\n",
       "McFlurry with Reese's Peanut Butter Cups (Medium)    21.0\n",
       "McFlurry with M&M’s Candies (Medium)                 20.0\n",
       "Chocolate Shake (Large)                              19.0\n",
       "Vanilla Shake (Large)                                18.0\n",
       "Strawberry Shake (Large)                             18.0\n",
       "                                                     ... \n",
       "Strawberry Sundae                                     NaN\n",
       "Sweet Tea (Child)                                     NaN\n",
       "Sweet Tea (Large)                                     NaN\n",
       "Sweet Tea (Medium)                                    NaN\n",
       "Sweet Tea (Small)                                     NaN\n",
       "Name: protein, Length: 260, dtype: float64"
      ]
     },
     "execution_count": 82,
     "metadata": {},
     "output_type": "execute_result"
    }
   ],
   "source": [
    "#seeing the types of smoothies and shakes and which smoothies and shakes has average protein in it\n",
    "shakes = df[df.category == 'Smoothies & Shakes']\n",
    "shakes.groupby('item')['protein'].mean().sort_values(ascending=False)"
   ]
  },
  {
   "cell_type": "code",
   "execution_count": 83,
   "id": "f20c57ff",
   "metadata": {},
   "outputs": [
    {
     "data": {
      "text/plain": [
       "item\n",
       "Vanilla Shake (Large)        90.0\n",
       "Strawberry Shake (Large)     90.0\n",
       "Shamrock Shake (Large)       90.0\n",
       "Chocolate Shake (Large)      85.0\n",
       "Strawberry Shake (Medium)    75.0\n",
       "                             ... \n",
       "Strawberry Sundae             NaN\n",
       "Sweet Tea (Child)             NaN\n",
       "Sweet Tea (Large)             NaN\n",
       "Sweet Tea (Medium)            NaN\n",
       "Sweet Tea (Small)             NaN\n",
       "Name: cholesterol, Length: 260, dtype: float64"
      ]
     },
     "execution_count": 83,
     "metadata": {},
     "output_type": "execute_result"
    }
   ],
   "source": [
    "#seeing the types of smoothies and shakes and which smoothies and shakes has average cholesterol in it\n",
    "shakes = df[df.category == 'Smoothies & Shakes']\n",
    "shakes.groupby('item')['cholesterol'].mean().sort_values(ascending=False)"
   ]
  },
  {
   "cell_type": "code",
   "execution_count": 84,
   "id": "2b114a74",
   "metadata": {},
   "outputs": [
    {
     "data": {
      "text/plain": [
       "item\n",
       "Premium Bacon Ranch Salad with Grilled Chicken    29.0\n",
       "Premium Southwest Salad with Grilled Chicken      27.0\n",
       "Premium Bacon Ranch Salad with Crispy Chicken     25.0\n",
       "Premium Southwest Salad with Crispy Chicken       23.0\n",
       "Premium Bacon Ranch Salad (without Chicken)        9.0\n",
       "                                                  ... \n",
       "Sweet Tea (Medium)                                 NaN\n",
       "Sweet Tea (Small)                                  NaN\n",
       "Vanilla Shake (Large)                              NaN\n",
       "Vanilla Shake (Medium)                             NaN\n",
       "Vanilla Shake (Small)                              NaN\n",
       "Name: protein, Length: 260, dtype: float64"
      ]
     },
     "execution_count": 84,
     "metadata": {},
     "output_type": "execute_result"
    }
   ],
   "source": [
    "#seeing the types of salads and which salads has average protein in it\n",
    "salads = df[df.category == 'Salads']\n",
    "salads.groupby('item')['protein'].mean().sort_values(ascending=False)"
   ]
  },
  {
   "cell_type": "code",
   "execution_count": 85,
   "id": "17ab1d9c",
   "metadata": {},
   "outputs": [
    {
     "data": {
      "text/plain": [
       "item\n",
       "Premium Bacon Ranch Salad with Grilled Chicken    85.0\n",
       "Premium Bacon Ranch Salad with Crispy Chicken     70.0\n",
       "Premium Southwest Salad with Grilled Chicken      70.0\n",
       "Premium Southwest Salad with Crispy Chicken       50.0\n",
       "Premium Bacon Ranch Salad (without Chicken)       25.0\n",
       "                                                  ... \n",
       "Sweet Tea (Medium)                                 NaN\n",
       "Sweet Tea (Small)                                  NaN\n",
       "Vanilla Shake (Large)                              NaN\n",
       "Vanilla Shake (Medium)                             NaN\n",
       "Vanilla Shake (Small)                              NaN\n",
       "Name: cholesterol, Length: 260, dtype: float64"
      ]
     },
     "execution_count": 85,
     "metadata": {},
     "output_type": "execute_result"
    }
   ],
   "source": [
    "#seeing the types of salads and which salads has average cholesterol in it\n",
    "salads = df[df.category == 'Salads']\n",
    "salads.groupby('item')['cholesterol'].mean().sort_values(ascending=False)"
   ]
  },
  {
   "cell_type": "code",
   "execution_count": 86,
   "id": "1ff9c0e1",
   "metadata": {},
   "outputs": [
    {
     "data": {
      "text/plain": [
       "item\n",
       "Chicken McNuggets (40 piece)                87.0\n",
       "Chicken McNuggets (20 piece)                44.0\n",
       "Bacon Clubhouse Grilled Chicken Sandwich    40.0\n",
       "Premium Grilled Chicken Club Sandwich       40.0\n",
       "Premium Crispy Chicken Club Sandwich        36.0\n",
       "                                            ... \n",
       "Sweet Tea (Medium)                           NaN\n",
       "Sweet Tea (Small)                            NaN\n",
       "Vanilla Shake (Large)                        NaN\n",
       "Vanilla Shake (Medium)                       NaN\n",
       "Vanilla Shake (Small)                        NaN\n",
       "Name: protein, Length: 260, dtype: float64"
      ]
     },
     "execution_count": 86,
     "metadata": {},
     "output_type": "execute_result"
    }
   ],
   "source": [
    "#seeing the types of chicken and fish and which chicken has average protein in it\n",
    "chicken_fish = df[df.category == 'Chicken & Fish']\n",
    "chicken_fish.groupby('item')['protein'].mean().sort_values(ascending=False)"
   ]
  },
  {
   "cell_type": "code",
   "execution_count": 87,
   "id": "70f9d081",
   "metadata": {},
   "outputs": [
    {
     "data": {
      "text/plain": [
       "item\n",
       "Chicken McNuggets (40 piece)                        265.0\n",
       "Chicken McNuggets (20 piece)                        135.0\n",
       "Bacon Clubhouse Grilled Chicken Sandwich            110.0\n",
       "Premium Grilled Chicken Club Sandwich               105.0\n",
       "Premium McWrap Chicken & Bacon (Grilled Chicken)     95.0\n",
       "                                                    ...  \n",
       "Sweet Tea (Medium)                                    NaN\n",
       "Sweet Tea (Small)                                     NaN\n",
       "Vanilla Shake (Large)                                 NaN\n",
       "Vanilla Shake (Medium)                                NaN\n",
       "Vanilla Shake (Small)                                 NaN\n",
       "Name: cholesterol, Length: 260, dtype: float64"
      ]
     },
     "execution_count": 87,
     "metadata": {},
     "output_type": "execute_result"
    }
   ],
   "source": [
    "#seeing the types of chicken and fish and which chicken and fish has average cholesterol in it\n",
    "chicken_fish = df[df.category == 'Chicken & Fish']\n",
    "chicken_fish.groupby('item')['cholesterol'].mean().sort_values(ascending=False)"
   ]
  },
  {
   "cell_type": "code",
   "execution_count": 88,
   "id": "b9611c18",
   "metadata": {},
   "outputs": [
    {
     "data": {
      "text/plain": [
       "category                                       Chicken & Fish\n",
       "item                             Chicken McNuggets (40 piece)\n",
       "serving_size                                  22.8 oz (646 g)\n",
       "calories                                                 1880\n",
       "calories_from_fat                                        1060\n",
       "total_fat                                                 118\n",
       "total_fat_(%_daily_value)                                 182\n",
       "saturated_fat                                              20\n",
       "saturated_fat_(%_daily_value)                             101\n",
       "trans_fat                                                   1\n",
       "cholesterol                                               265\n",
       "cholesterol_(%_daily_value)                                89\n",
       "sodium                                                   3600\n",
       "sodium_(%_daily_value)                                    150\n",
       "carbohydrates                                             118\n",
       "carbohydrates_(%_daily_value)                              39\n",
       "dietary_fiber                                               6\n",
       "dietary_fiber_(%_daily_value)                              24\n",
       "sugars                                                      1\n",
       "protein                                                    87\n",
       "vitamin_a_(%_daily_value)                                   0\n",
       "vitamin_c_(%_daily_value)                                  15\n",
       "calcium_(%_daily_value)                                     8\n",
       "iron_(%_daily_value)                                       25\n",
       "Name: 82, dtype: object"
      ]
     },
     "execution_count": 88,
     "metadata": {},
     "output_type": "execute_result"
    }
   ],
   "source": [
    "#In chicken and fish category how much maximum calories is present and in which item\n",
    "df.iloc[df[df['category'] == 'Chicken & Fish']['calories'].idxmax()]"
   ]
  },
  {
   "cell_type": "code",
   "execution_count": 89,
   "id": "59228490",
   "metadata": {},
   "outputs": [
    {
     "data": {
      "text/plain": [
       "category                                                                 Salads\n",
       "item                             Premium Bacon Ranch Salad with Grilled Chicken\n",
       "serving_size                                                     8.5 oz (241 g)\n",
       "calories                                                                    220\n",
       "calories_from_fat                                                            80\n",
       "total_fat                                                                     8\n",
       "total_fat_(%_daily_value)                                                    13\n",
       "saturated_fat                                                                 4\n",
       "saturated_fat_(%_daily_value)                                                20\n",
       "trans_fat                                                                     0\n",
       "cholesterol                                                                  85\n",
       "cholesterol_(%_daily_value)                                                  29\n",
       "sodium                                                                      690\n",
       "sodium_(%_daily_value)                                                       29\n",
       "carbohydrates                                                                 8\n",
       "carbohydrates_(%_daily_value)                                                 3\n",
       "dietary_fiber                                                                 2\n",
       "dietary_fiber_(%_daily_value)                                                10\n",
       "sugars                                                                        4\n",
       "protein                                                                      29\n",
       "vitamin_a_(%_daily_value)                                                   110\n",
       "vitamin_c_(%_daily_value)                                                    30\n",
       "calcium_(%_daily_value)                                                      15\n",
       "iron_(%_daily_value)                                                          8\n",
       "Name: 86, dtype: object"
      ]
     },
     "execution_count": 89,
     "metadata": {},
     "output_type": "execute_result"
    }
   ],
   "source": [
    "#In salads category how much maximum protein is present and in which item\n",
    "df.iloc[df[df['category'] == 'Salads']['protein'].idxmax()]"
   ]
  },
  {
   "cell_type": "code",
   "execution_count": 90,
   "id": "a64ce88e",
   "metadata": {},
   "outputs": [
    {
     "data": {
      "text/plain": [
       "category                                           Smoothies & Shakes\n",
       "item                             McFlurry with M&M’s Candies (Medium)\n",
       "serving_size                                          16.2 oz (460 g)\n",
       "calories                                                          930\n",
       "calories_from_fat                                                 290\n",
       "total_fat                                                          33\n",
       "total_fat_(%_daily_value)                                          50\n",
       "saturated_fat                                                      20\n",
       "saturated_fat_(%_daily_value)                                     102\n",
       "trans_fat                                                           1\n",
       "cholesterol                                                        75\n",
       "cholesterol_(%_daily_value)                                        25\n",
       "sodium                                                            260\n",
       "sodium_(%_daily_value)                                             11\n",
       "carbohydrates                                                     139\n",
       "carbohydrates_(%_daily_value)                                      46\n",
       "dietary_fiber                                                       2\n",
       "dietary_fiber_(%_daily_value)                                       7\n",
       "sugars                                                            128\n",
       "protein                                                            20\n",
       "vitamin_a_(%_daily_value)                                          25\n",
       "vitamin_c_(%_daily_value)                                           0\n",
       "calcium_(%_daily_value)                                            70\n",
       "iron_(%_daily_value)                                               10\n",
       "Name: 253, dtype: object"
      ]
     },
     "execution_count": 90,
     "metadata": {},
     "output_type": "execute_result"
    }
   ],
   "source": [
    "#In smoothies and shakes category how much maximum sugar is present and in which item\n",
    "df.iloc[df[df['category'] =='Smoothies & Shakes']['sugars'].idxmax()]"
   ]
  },
  {
   "cell_type": "code",
   "execution_count": 91,
   "id": "ab4a0168",
   "metadata": {},
   "outputs": [],
   "source": [
    "#filtering the columns with good and bad category \n",
    "df['goods'] = df[['vitamin_c_(%_daily_value)','vitamin_a_(%_daily_value)' ,'protein',\n",
    "                  'dietary_fiber_(%_daily_value)','calcium_(%_daily_value)' , 'iron_(%_daily_value)' ]].sum(axis = 1)\n",
    "df['bads']  =  df[['saturated_fat_(%_daily_value)','sodium_(%_daily_value)','cholesterol_(%_daily_value)',\n",
    "                   'calories']].sum( axis = 1)"
   ]
  },
  {
   "cell_type": "code",
   "execution_count": 92,
   "id": "47cba8dd",
   "metadata": {},
   "outputs": [
    {
     "data": {
      "text/html": [
       "<div>\n",
       "<style scoped>\n",
       "    .dataframe tbody tr th:only-of-type {\n",
       "        vertical-align: middle;\n",
       "    }\n",
       "\n",
       "    .dataframe tbody tr th {\n",
       "        vertical-align: top;\n",
       "    }\n",
       "\n",
       "    .dataframe thead th {\n",
       "        text-align: right;\n",
       "    }\n",
       "</style>\n",
       "<table border=\"1\" class=\"dataframe\">\n",
       "  <thead>\n",
       "    <tr style=\"text-align: right;\">\n",
       "      <th></th>\n",
       "      <th>category</th>\n",
       "      <th>item</th>\n",
       "      <th>serving_size</th>\n",
       "      <th>calories</th>\n",
       "      <th>calories_from_fat</th>\n",
       "      <th>total_fat</th>\n",
       "      <th>total_fat_(%_daily_value)</th>\n",
       "      <th>saturated_fat</th>\n",
       "      <th>saturated_fat_(%_daily_value)</th>\n",
       "      <th>trans_fat</th>\n",
       "      <th>...</th>\n",
       "      <th>dietary_fiber</th>\n",
       "      <th>dietary_fiber_(%_daily_value)</th>\n",
       "      <th>sugars</th>\n",
       "      <th>protein</th>\n",
       "      <th>vitamin_a_(%_daily_value)</th>\n",
       "      <th>vitamin_c_(%_daily_value)</th>\n",
       "      <th>calcium_(%_daily_value)</th>\n",
       "      <th>iron_(%_daily_value)</th>\n",
       "      <th>goods</th>\n",
       "      <th>bads</th>\n",
       "    </tr>\n",
       "  </thead>\n",
       "  <tbody>\n",
       "    <tr>\n",
       "      <th>0</th>\n",
       "      <td>Breakfast</td>\n",
       "      <td>Egg McMuffin</td>\n",
       "      <td>4.8 oz (136 g)</td>\n",
       "      <td>300</td>\n",
       "      <td>120</td>\n",
       "      <td>13</td>\n",
       "      <td>20</td>\n",
       "      <td>5</td>\n",
       "      <td>25</td>\n",
       "      <td>0</td>\n",
       "      <td>...</td>\n",
       "      <td>4</td>\n",
       "      <td>17</td>\n",
       "      <td>3</td>\n",
       "      <td>17</td>\n",
       "      <td>10</td>\n",
       "      <td>0</td>\n",
       "      <td>25</td>\n",
       "      <td>15</td>\n",
       "      <td>84</td>\n",
       "      <td>443</td>\n",
       "    </tr>\n",
       "    <tr>\n",
       "      <th>1</th>\n",
       "      <td>Breakfast</td>\n",
       "      <td>Egg White Delight</td>\n",
       "      <td>4.8 oz (135 g)</td>\n",
       "      <td>250</td>\n",
       "      <td>70</td>\n",
       "      <td>8</td>\n",
       "      <td>12</td>\n",
       "      <td>3</td>\n",
       "      <td>15</td>\n",
       "      <td>0</td>\n",
       "      <td>...</td>\n",
       "      <td>4</td>\n",
       "      <td>17</td>\n",
       "      <td>3</td>\n",
       "      <td>18</td>\n",
       "      <td>6</td>\n",
       "      <td>0</td>\n",
       "      <td>25</td>\n",
       "      <td>8</td>\n",
       "      <td>74</td>\n",
       "      <td>305</td>\n",
       "    </tr>\n",
       "    <tr>\n",
       "      <th>2</th>\n",
       "      <td>Breakfast</td>\n",
       "      <td>Sausage McMuffin</td>\n",
       "      <td>3.9 oz (111 g)</td>\n",
       "      <td>370</td>\n",
       "      <td>200</td>\n",
       "      <td>23</td>\n",
       "      <td>35</td>\n",
       "      <td>8</td>\n",
       "      <td>42</td>\n",
       "      <td>0</td>\n",
       "      <td>...</td>\n",
       "      <td>4</td>\n",
       "      <td>17</td>\n",
       "      <td>2</td>\n",
       "      <td>14</td>\n",
       "      <td>8</td>\n",
       "      <td>0</td>\n",
       "      <td>25</td>\n",
       "      <td>10</td>\n",
       "      <td>74</td>\n",
       "      <td>460</td>\n",
       "    </tr>\n",
       "    <tr>\n",
       "      <th>3</th>\n",
       "      <td>Breakfast</td>\n",
       "      <td>Sausage McMuffin with Egg</td>\n",
       "      <td>5.7 oz (161 g)</td>\n",
       "      <td>450</td>\n",
       "      <td>250</td>\n",
       "      <td>28</td>\n",
       "      <td>43</td>\n",
       "      <td>10</td>\n",
       "      <td>52</td>\n",
       "      <td>0</td>\n",
       "      <td>...</td>\n",
       "      <td>4</td>\n",
       "      <td>17</td>\n",
       "      <td>2</td>\n",
       "      <td>21</td>\n",
       "      <td>15</td>\n",
       "      <td>0</td>\n",
       "      <td>30</td>\n",
       "      <td>15</td>\n",
       "      <td>98</td>\n",
       "      <td>633</td>\n",
       "    </tr>\n",
       "    <tr>\n",
       "      <th>4</th>\n",
       "      <td>Breakfast</td>\n",
       "      <td>Sausage McMuffin with Egg Whites</td>\n",
       "      <td>5.7 oz (161 g)</td>\n",
       "      <td>400</td>\n",
       "      <td>210</td>\n",
       "      <td>23</td>\n",
       "      <td>35</td>\n",
       "      <td>8</td>\n",
       "      <td>42</td>\n",
       "      <td>0</td>\n",
       "      <td>...</td>\n",
       "      <td>4</td>\n",
       "      <td>17</td>\n",
       "      <td>2</td>\n",
       "      <td>21</td>\n",
       "      <td>6</td>\n",
       "      <td>0</td>\n",
       "      <td>25</td>\n",
       "      <td>10</td>\n",
       "      <td>79</td>\n",
       "      <td>495</td>\n",
       "    </tr>\n",
       "  </tbody>\n",
       "</table>\n",
       "<p>5 rows × 26 columns</p>\n",
       "</div>"
      ],
      "text/plain": [
       "    category                              item    serving_size  calories  \\\n",
       "0  Breakfast                      Egg McMuffin  4.8 oz (136 g)       300   \n",
       "1  Breakfast                 Egg White Delight  4.8 oz (135 g)       250   \n",
       "2  Breakfast                  Sausage McMuffin  3.9 oz (111 g)       370   \n",
       "3  Breakfast         Sausage McMuffin with Egg  5.7 oz (161 g)       450   \n",
       "4  Breakfast  Sausage McMuffin with Egg Whites  5.7 oz (161 g)       400   \n",
       "\n",
       "   calories_from_fat  total_fat  total_fat_(%_daily_value)  saturated_fat  \\\n",
       "0                120         13                         20              5   \n",
       "1                 70          8                         12              3   \n",
       "2                200         23                         35              8   \n",
       "3                250         28                         43             10   \n",
       "4                210         23                         35              8   \n",
       "\n",
       "   saturated_fat_(%_daily_value)  trans_fat  ...  dietary_fiber  \\\n",
       "0                             25          0  ...              4   \n",
       "1                             15          0  ...              4   \n",
       "2                             42          0  ...              4   \n",
       "3                             52          0  ...              4   \n",
       "4                             42          0  ...              4   \n",
       "\n",
       "   dietary_fiber_(%_daily_value)  sugars  protein  vitamin_a_(%_daily_value)  \\\n",
       "0                             17       3       17                         10   \n",
       "1                             17       3       18                          6   \n",
       "2                             17       2       14                          8   \n",
       "3                             17       2       21                         15   \n",
       "4                             17       2       21                          6   \n",
       "\n",
       "   vitamin_c_(%_daily_value)  calcium_(%_daily_value)  iron_(%_daily_value)  \\\n",
       "0                          0                       25                    15   \n",
       "1                          0                       25                     8   \n",
       "2                          0                       25                    10   \n",
       "3                          0                       30                    15   \n",
       "4                          0                       25                    10   \n",
       "\n",
       "   goods  bads  \n",
       "0     84   443  \n",
       "1     74   305  \n",
       "2     74   460  \n",
       "3     98   633  \n",
       "4     79   495  \n",
       "\n",
       "[5 rows x 26 columns]"
      ]
     },
     "execution_count": 92,
     "metadata": {},
     "output_type": "execute_result"
    }
   ],
   "source": [
    "#copying the breakfast columns only \n",
    "breakfast = df[df['category'] == 'Breakfast'].copy()\n",
    "breakfast.head()"
   ]
  },
  {
   "cell_type": "code",
   "execution_count": 93,
   "id": "015bd29a",
   "metadata": {},
   "outputs": [
    {
     "data": {
      "text/html": [
       "<div>\n",
       "<style scoped>\n",
       "    .dataframe tbody tr th:only-of-type {\n",
       "        vertical-align: middle;\n",
       "    }\n",
       "\n",
       "    .dataframe tbody tr th {\n",
       "        vertical-align: top;\n",
       "    }\n",
       "\n",
       "    .dataframe thead th {\n",
       "        text-align: right;\n",
       "    }\n",
       "</style>\n",
       "<table border=\"1\" class=\"dataframe\">\n",
       "  <thead>\n",
       "    <tr style=\"text-align: right;\">\n",
       "      <th></th>\n",
       "      <th>Good Breakfast</th>\n",
       "    </tr>\n",
       "  </thead>\n",
       "  <tbody>\n",
       "    <tr>\n",
       "      <th>40</th>\n",
       "      <td>Fruit &amp; Maple Oatmeal</td>\n",
       "    </tr>\n",
       "    <tr>\n",
       "      <th>41</th>\n",
       "      <td>Fruit &amp; Maple Oatmeal without Brown Sugar</td>\n",
       "    </tr>\n",
       "    <tr>\n",
       "      <th>32</th>\n",
       "      <td>Big Breakfast with Hotcakes (Large Biscuit)</td>\n",
       "    </tr>\n",
       "    <tr>\n",
       "      <th>31</th>\n",
       "      <td>Big Breakfast with Hotcakes (Regular Biscuit)</td>\n",
       "    </tr>\n",
       "    <tr>\n",
       "      <th>34</th>\n",
       "      <td>Big Breakfast with Hotcakes and Egg Whites (La...</td>\n",
       "    </tr>\n",
       "  </tbody>\n",
       "</table>\n",
       "</div>"
      ],
      "text/plain": [
       "                                       Good Breakfast\n",
       "40                              Fruit & Maple Oatmeal\n",
       "41          Fruit & Maple Oatmeal without Brown Sugar\n",
       "32        Big Breakfast with Hotcakes (Large Biscuit)\n",
       "31      Big Breakfast with Hotcakes (Regular Biscuit)\n",
       "34  Big Breakfast with Hotcakes and Egg Whites (La..."
      ]
     },
     "execution_count": 93,
     "metadata": {},
     "output_type": "execute_result"
    }
   ],
   "source": [
    "#seeing the good breakfast \n",
    "pd.DataFrame({'Good Breakfast' : breakfast.sort_values(['goods' , 'bads'] , ascending=[False , True])['item'][:5]})"
   ]
  },
  {
   "cell_type": "code",
   "execution_count": 94,
   "id": "8b587b5f",
   "metadata": {},
   "outputs": [
    {
     "data": {
      "text/html": [
       "<div>\n",
       "<style scoped>\n",
       "    .dataframe tbody tr th:only-of-type {\n",
       "        vertical-align: middle;\n",
       "    }\n",
       "\n",
       "    .dataframe tbody tr th {\n",
       "        vertical-align: top;\n",
       "    }\n",
       "\n",
       "    .dataframe thead th {\n",
       "        text-align: right;\n",
       "    }\n",
       "</style>\n",
       "<table border=\"1\" class=\"dataframe\">\n",
       "  <thead>\n",
       "    <tr style=\"text-align: right;\">\n",
       "      <th></th>\n",
       "      <th>item</th>\n",
       "      <th>goods</th>\n",
       "      <th>bads</th>\n",
       "    </tr>\n",
       "  </thead>\n",
       "  <tbody>\n",
       "    <tr>\n",
       "      <th>0</th>\n",
       "      <td>Egg McMuffin</td>\n",
       "      <td>84</td>\n",
       "      <td>443</td>\n",
       "    </tr>\n",
       "    <tr>\n",
       "      <th>2</th>\n",
       "      <td>Sausage McMuffin</td>\n",
       "      <td>74</td>\n",
       "      <td>460</td>\n",
       "    </tr>\n",
       "  </tbody>\n",
       "</table>\n",
       "</div>"
      ],
      "text/plain": [
       "               item  goods  bads\n",
       "0      Egg McMuffin     84   443\n",
       "2  Sausage McMuffin     74   460"
      ]
     },
     "execution_count": 94,
     "metadata": {},
     "output_type": "execute_result"
    }
   ],
   "source": [
    "#seeing which item is good and which item is bad in breakfast\n",
    "breakfast[(breakfast['item'] == 'Egg McMuffin')|\n",
    "        (breakfast['item'] == 'Sausage McMuffin') ][['item','goods' ,'bads']]"
   ]
  },
  {
   "cell_type": "code",
   "execution_count": 95,
   "id": "0603d2e8",
   "metadata": {},
   "outputs": [
    {
     "data": {
      "text/html": [
       "<div>\n",
       "<style scoped>\n",
       "    .dataframe tbody tr th:only-of-type {\n",
       "        vertical-align: middle;\n",
       "    }\n",
       "\n",
       "    .dataframe tbody tr th {\n",
       "        vertical-align: top;\n",
       "    }\n",
       "\n",
       "    .dataframe thead th {\n",
       "        text-align: right;\n",
       "    }\n",
       "</style>\n",
       "<table border=\"1\" class=\"dataframe\">\n",
       "  <thead>\n",
       "    <tr style=\"text-align: right;\">\n",
       "      <th></th>\n",
       "      <th>category</th>\n",
       "      <th>item</th>\n",
       "      <th>serving_size</th>\n",
       "      <th>calories</th>\n",
       "      <th>calories_from_fat</th>\n",
       "      <th>total_fat</th>\n",
       "      <th>total_fat_(%_daily_value)</th>\n",
       "      <th>saturated_fat</th>\n",
       "      <th>saturated_fat_(%_daily_value)</th>\n",
       "      <th>trans_fat</th>\n",
       "      <th>...</th>\n",
       "      <th>dietary_fiber</th>\n",
       "      <th>dietary_fiber_(%_daily_value)</th>\n",
       "      <th>sugars</th>\n",
       "      <th>protein</th>\n",
       "      <th>vitamin_a_(%_daily_value)</th>\n",
       "      <th>vitamin_c_(%_daily_value)</th>\n",
       "      <th>calcium_(%_daily_value)</th>\n",
       "      <th>iron_(%_daily_value)</th>\n",
       "      <th>goods</th>\n",
       "      <th>bads</th>\n",
       "    </tr>\n",
       "  </thead>\n",
       "  <tbody>\n",
       "    <tr>\n",
       "      <th>57</th>\n",
       "      <td>Chicken &amp; Fish</td>\n",
       "      <td>Premium Crispy Chicken Classic Sandwich</td>\n",
       "      <td>7.5 oz (213 g)</td>\n",
       "      <td>510</td>\n",
       "      <td>200</td>\n",
       "      <td>22</td>\n",
       "      <td>33</td>\n",
       "      <td>3</td>\n",
       "      <td>18</td>\n",
       "      <td>0</td>\n",
       "      <td>...</td>\n",
       "      <td>3</td>\n",
       "      <td>13</td>\n",
       "      <td>10</td>\n",
       "      <td>24</td>\n",
       "      <td>4</td>\n",
       "      <td>6</td>\n",
       "      <td>15</td>\n",
       "      <td>20</td>\n",
       "      <td>82</td>\n",
       "      <td>585</td>\n",
       "    </tr>\n",
       "    <tr>\n",
       "      <th>58</th>\n",
       "      <td>Chicken &amp; Fish</td>\n",
       "      <td>Premium Grilled Chicken Classic Sandwich</td>\n",
       "      <td>7 oz (200 g)</td>\n",
       "      <td>350</td>\n",
       "      <td>80</td>\n",
       "      <td>9</td>\n",
       "      <td>13</td>\n",
       "      <td>2</td>\n",
       "      <td>9</td>\n",
       "      <td>0</td>\n",
       "      <td>...</td>\n",
       "      <td>3</td>\n",
       "      <td>13</td>\n",
       "      <td>8</td>\n",
       "      <td>28</td>\n",
       "      <td>4</td>\n",
       "      <td>8</td>\n",
       "      <td>15</td>\n",
       "      <td>20</td>\n",
       "      <td>88</td>\n",
       "      <td>415</td>\n",
       "    </tr>\n",
       "    <tr>\n",
       "      <th>59</th>\n",
       "      <td>Chicken &amp; Fish</td>\n",
       "      <td>Premium Crispy Chicken Club Sandwich</td>\n",
       "      <td>8.8 oz (249 g)</td>\n",
       "      <td>670</td>\n",
       "      <td>300</td>\n",
       "      <td>33</td>\n",
       "      <td>51</td>\n",
       "      <td>9</td>\n",
       "      <td>44</td>\n",
       "      <td>0</td>\n",
       "      <td>...</td>\n",
       "      <td>3</td>\n",
       "      <td>14</td>\n",
       "      <td>11</td>\n",
       "      <td>36</td>\n",
       "      <td>8</td>\n",
       "      <td>20</td>\n",
       "      <td>30</td>\n",
       "      <td>20</td>\n",
       "      <td>128</td>\n",
       "      <td>802</td>\n",
       "    </tr>\n",
       "    <tr>\n",
       "      <th>60</th>\n",
       "      <td>Chicken &amp; Fish</td>\n",
       "      <td>Premium Grilled Chicken Club Sandwich</td>\n",
       "      <td>8.3 oz (235 g)</td>\n",
       "      <td>510</td>\n",
       "      <td>180</td>\n",
       "      <td>20</td>\n",
       "      <td>31</td>\n",
       "      <td>7</td>\n",
       "      <td>36</td>\n",
       "      <td>0</td>\n",
       "      <td>...</td>\n",
       "      <td>3</td>\n",
       "      <td>13</td>\n",
       "      <td>9</td>\n",
       "      <td>40</td>\n",
       "      <td>8</td>\n",
       "      <td>20</td>\n",
       "      <td>30</td>\n",
       "      <td>20</td>\n",
       "      <td>131</td>\n",
       "      <td>633</td>\n",
       "    </tr>\n",
       "    <tr>\n",
       "      <th>61</th>\n",
       "      <td>Chicken &amp; Fish</td>\n",
       "      <td>Premium Crispy Chicken Ranch BLT Sandwich</td>\n",
       "      <td>8.1 oz (230 g)</td>\n",
       "      <td>610</td>\n",
       "      <td>250</td>\n",
       "      <td>28</td>\n",
       "      <td>43</td>\n",
       "      <td>6</td>\n",
       "      <td>31</td>\n",
       "      <td>0</td>\n",
       "      <td>...</td>\n",
       "      <td>3</td>\n",
       "      <td>13</td>\n",
       "      <td>11</td>\n",
       "      <td>32</td>\n",
       "      <td>4</td>\n",
       "      <td>20</td>\n",
       "      <td>15</td>\n",
       "      <td>20</td>\n",
       "      <td>104</td>\n",
       "      <td>723</td>\n",
       "    </tr>\n",
       "  </tbody>\n",
       "</table>\n",
       "<p>5 rows × 26 columns</p>\n",
       "</div>"
      ],
      "text/plain": [
       "          category                                       item    serving_size  \\\n",
       "57  Chicken & Fish    Premium Crispy Chicken Classic Sandwich  7.5 oz (213 g)   \n",
       "58  Chicken & Fish   Premium Grilled Chicken Classic Sandwich    7 oz (200 g)   \n",
       "59  Chicken & Fish       Premium Crispy Chicken Club Sandwich  8.8 oz (249 g)   \n",
       "60  Chicken & Fish      Premium Grilled Chicken Club Sandwich  8.3 oz (235 g)   \n",
       "61  Chicken & Fish  Premium Crispy Chicken Ranch BLT Sandwich  8.1 oz (230 g)   \n",
       "\n",
       "    calories  calories_from_fat  total_fat  total_fat_(%_daily_value)  \\\n",
       "57       510                200         22                         33   \n",
       "58       350                 80          9                         13   \n",
       "59       670                300         33                         51   \n",
       "60       510                180         20                         31   \n",
       "61       610                250         28                         43   \n",
       "\n",
       "    saturated_fat  saturated_fat_(%_daily_value)  trans_fat  ...  \\\n",
       "57              3                             18          0  ...   \n",
       "58              2                              9          0  ...   \n",
       "59              9                             44          0  ...   \n",
       "60              7                             36          0  ...   \n",
       "61              6                             31          0  ...   \n",
       "\n",
       "    dietary_fiber  dietary_fiber_(%_daily_value)  sugars  protein  \\\n",
       "57              3                             13      10       24   \n",
       "58              3                             13       8       28   \n",
       "59              3                             14      11       36   \n",
       "60              3                             13       9       40   \n",
       "61              3                             13      11       32   \n",
       "\n",
       "    vitamin_a_(%_daily_value)  vitamin_c_(%_daily_value)  \\\n",
       "57                          4                          6   \n",
       "58                          4                          8   \n",
       "59                          8                         20   \n",
       "60                          8                         20   \n",
       "61                          4                         20   \n",
       "\n",
       "    calcium_(%_daily_value)  iron_(%_daily_value)  goods  bads  \n",
       "57                       15                    20     82   585  \n",
       "58                       15                    20     88   415  \n",
       "59                       30                    20    128   802  \n",
       "60                       30                    20    131   633  \n",
       "61                       15                    20    104   723  \n",
       "\n",
       "[5 rows x 26 columns]"
      ]
     },
     "execution_count": 95,
     "metadata": {},
     "output_type": "execute_result"
    }
   ],
   "source": [
    "#copying the chicken and fish column only \n",
    "chicken=df[df['category'] == 'Chicken & Fish'].copy()\n",
    "chicken.head()"
   ]
  },
  {
   "cell_type": "code",
   "execution_count": 96,
   "id": "8bd09dcc",
   "metadata": {},
   "outputs": [
    {
     "data": {
      "text/html": [
       "<div>\n",
       "<style scoped>\n",
       "    .dataframe tbody tr th:only-of-type {\n",
       "        vertical-align: middle;\n",
       "    }\n",
       "\n",
       "    .dataframe tbody tr th {\n",
       "        vertical-align: top;\n",
       "    }\n",
       "\n",
       "    .dataframe thead th {\n",
       "        text-align: right;\n",
       "    }\n",
       "</style>\n",
       "<table border=\"1\" class=\"dataframe\">\n",
       "  <thead>\n",
       "    <tr style=\"text-align: right;\">\n",
       "      <th></th>\n",
       "      <th>Good chicken and fish</th>\n",
       "    </tr>\n",
       "  </thead>\n",
       "  <tbody>\n",
       "    <tr>\n",
       "      <th>75</th>\n",
       "      <td>Premium McWrap Southwest Chicken (Grilled Chic...</td>\n",
       "    </tr>\n",
       "    <tr>\n",
       "      <th>71</th>\n",
       "      <td>Premium McWrap Chicken &amp; Bacon (Grilled Chicken)</td>\n",
       "    </tr>\n",
       "    <tr>\n",
       "      <th>70</th>\n",
       "      <td>Premium McWrap Chicken &amp; Bacon (Crispy Chicken)</td>\n",
       "    </tr>\n",
       "    <tr>\n",
       "      <th>74</th>\n",
       "      <td>Premium McWrap Southwest Chicken (Crispy Chicken)</td>\n",
       "    </tr>\n",
       "    <tr>\n",
       "      <th>82</th>\n",
       "      <td>Chicken McNuggets (40 piece)</td>\n",
       "    </tr>\n",
       "  </tbody>\n",
       "</table>\n",
       "</div>"
      ],
      "text/plain": [
       "                                Good chicken and fish\n",
       "75  Premium McWrap Southwest Chicken (Grilled Chic...\n",
       "71   Premium McWrap Chicken & Bacon (Grilled Chicken)\n",
       "70    Premium McWrap Chicken & Bacon (Crispy Chicken)\n",
       "74  Premium McWrap Southwest Chicken (Crispy Chicken)\n",
       "82                       Chicken McNuggets (40 piece)"
      ]
     },
     "execution_count": 96,
     "metadata": {},
     "output_type": "execute_result"
    }
   ],
   "source": [
    "#seeing the good  chicken and fish column  \n",
    "pd.DataFrame({'Good chicken and fish' : chicken.sort_values(['goods' , 'bads'] , ascending=[False , True])['item'][:5]})"
   ]
  },
  {
   "cell_type": "code",
   "execution_count": 97,
   "id": "4ce4985b",
   "metadata": {},
   "outputs": [
    {
     "data": {
      "text/html": [
       "<div>\n",
       "<style scoped>\n",
       "    .dataframe tbody tr th:only-of-type {\n",
       "        vertical-align: middle;\n",
       "    }\n",
       "\n",
       "    .dataframe tbody tr th {\n",
       "        vertical-align: top;\n",
       "    }\n",
       "\n",
       "    .dataframe thead th {\n",
       "        text-align: right;\n",
       "    }\n",
       "</style>\n",
       "<table border=\"1\" class=\"dataframe\">\n",
       "  <thead>\n",
       "    <tr style=\"text-align: right;\">\n",
       "      <th></th>\n",
       "      <th>item</th>\n",
       "      <th>goods</th>\n",
       "      <th>bads</th>\n",
       "    </tr>\n",
       "  </thead>\n",
       "  <tbody>\n",
       "    <tr>\n",
       "      <th>57</th>\n",
       "      <td>Premium Crispy Chicken Classic Sandwich</td>\n",
       "      <td>82</td>\n",
       "      <td>585</td>\n",
       "    </tr>\n",
       "    <tr>\n",
       "      <th>58</th>\n",
       "      <td>Premium Grilled Chicken Classic Sandwich</td>\n",
       "      <td>88</td>\n",
       "      <td>415</td>\n",
       "    </tr>\n",
       "  </tbody>\n",
       "</table>\n",
       "</div>"
      ],
      "text/plain": [
       "                                        item  goods  bads\n",
       "57   Premium Crispy Chicken Classic Sandwich     82   585\n",
       "58  Premium Grilled Chicken Classic Sandwich     88   415"
      ]
     },
     "execution_count": 97,
     "metadata": {},
     "output_type": "execute_result"
    }
   ],
   "source": [
    "#seeing which item is good and which item is bad in chicken and fish column \n",
    "chicken[(chicken['item'] == 'Premium Crispy Chicken Classic Sandwich')|\n",
    "        (chicken['item'] == 'Premium Grilled Chicken Classic Sandwich') ][['item','goods' ,'bads']]"
   ]
  },
  {
   "cell_type": "markdown",
   "id": "21b0d146",
   "metadata": {},
   "source": [
    "# visualization"
   ]
  },
  {
   "cell_type": "code",
   "execution_count": 98,
   "id": "dd228acc",
   "metadata": {},
   "outputs": [],
   "source": [
    "#seeing which category has high sugar in it \n",
    "data1=df.groupby(['category'])['sugars'].sum().sort_values(ascending=False)"
   ]
  },
  {
   "cell_type": "code",
   "execution_count": 99,
   "id": "00df9ed8",
   "metadata": {},
   "outputs": [
    {
     "data": {
      "text/plain": [
       "category\n",
       "Coffee & Tea          3763\n",
       "Smoothies & Shakes    2181\n",
       "Beverages              752\n",
       "Breakfast              347\n",
       "Chicken & Fish         198\n",
       "Desserts               183\n",
       "Beef & Pork            132\n",
       "Snacks & Sides          53\n",
       "Salads                  41\n",
       "Name: sugars, dtype: int64"
      ]
     },
     "execution_count": 99,
     "metadata": {},
     "output_type": "execute_result"
    }
   ],
   "source": [
    "data1"
   ]
  },
  {
   "cell_type": "code",
   "execution_count": 100,
   "id": "26468308",
   "metadata": {},
   "outputs": [],
   "source": [
    "#creating a data frame of data 1 \n",
    "data2=pd.DataFrame(data1)"
   ]
  },
  {
   "cell_type": "code",
   "execution_count": 101,
   "id": "f3bac444",
   "metadata": {},
   "outputs": [
    {
     "data": {
      "text/html": [
       "<div>\n",
       "<style scoped>\n",
       "    .dataframe tbody tr th:only-of-type {\n",
       "        vertical-align: middle;\n",
       "    }\n",
       "\n",
       "    .dataframe tbody tr th {\n",
       "        vertical-align: top;\n",
       "    }\n",
       "\n",
       "    .dataframe thead th {\n",
       "        text-align: right;\n",
       "    }\n",
       "</style>\n",
       "<table border=\"1\" class=\"dataframe\">\n",
       "  <thead>\n",
       "    <tr style=\"text-align: right;\">\n",
       "      <th></th>\n",
       "      <th>sugars</th>\n",
       "    </tr>\n",
       "    <tr>\n",
       "      <th>category</th>\n",
       "      <th></th>\n",
       "    </tr>\n",
       "  </thead>\n",
       "  <tbody>\n",
       "    <tr>\n",
       "      <th>Coffee &amp; Tea</th>\n",
       "      <td>3763</td>\n",
       "    </tr>\n",
       "    <tr>\n",
       "      <th>Smoothies &amp; Shakes</th>\n",
       "      <td>2181</td>\n",
       "    </tr>\n",
       "    <tr>\n",
       "      <th>Beverages</th>\n",
       "      <td>752</td>\n",
       "    </tr>\n",
       "    <tr>\n",
       "      <th>Breakfast</th>\n",
       "      <td>347</td>\n",
       "    </tr>\n",
       "    <tr>\n",
       "      <th>Chicken &amp; Fish</th>\n",
       "      <td>198</td>\n",
       "    </tr>\n",
       "    <tr>\n",
       "      <th>Desserts</th>\n",
       "      <td>183</td>\n",
       "    </tr>\n",
       "    <tr>\n",
       "      <th>Beef &amp; Pork</th>\n",
       "      <td>132</td>\n",
       "    </tr>\n",
       "    <tr>\n",
       "      <th>Snacks &amp; Sides</th>\n",
       "      <td>53</td>\n",
       "    </tr>\n",
       "    <tr>\n",
       "      <th>Salads</th>\n",
       "      <td>41</td>\n",
       "    </tr>\n",
       "  </tbody>\n",
       "</table>\n",
       "</div>"
      ],
      "text/plain": [
       "                    sugars\n",
       "category                  \n",
       "Coffee & Tea          3763\n",
       "Smoothies & Shakes    2181\n",
       "Beverages              752\n",
       "Breakfast              347\n",
       "Chicken & Fish         198\n",
       "Desserts               183\n",
       "Beef & Pork            132\n",
       "Snacks & Sides          53\n",
       "Salads                  41"
      ]
     },
     "execution_count": 101,
     "metadata": {},
     "output_type": "execute_result"
    }
   ],
   "source": [
    "data2"
   ]
  },
  {
   "cell_type": "code",
   "execution_count": 102,
   "id": "b2a70832",
   "metadata": {},
   "outputs": [],
   "source": [
    "#sorting the values in descending order \n",
    "data2=data2.sort_values('sugars',ascending=False)"
   ]
  },
  {
   "cell_type": "code",
   "execution_count": 103,
   "id": "9fa4e0b8",
   "metadata": {},
   "outputs": [
    {
     "data": {
      "text/html": [
       "<div>\n",
       "<style scoped>\n",
       "    .dataframe tbody tr th:only-of-type {\n",
       "        vertical-align: middle;\n",
       "    }\n",
       "\n",
       "    .dataframe tbody tr th {\n",
       "        vertical-align: top;\n",
       "    }\n",
       "\n",
       "    .dataframe thead th {\n",
       "        text-align: right;\n",
       "    }\n",
       "</style>\n",
       "<table border=\"1\" class=\"dataframe\">\n",
       "  <thead>\n",
       "    <tr style=\"text-align: right;\">\n",
       "      <th></th>\n",
       "      <th>sugars</th>\n",
       "    </tr>\n",
       "    <tr>\n",
       "      <th>category</th>\n",
       "      <th></th>\n",
       "    </tr>\n",
       "  </thead>\n",
       "  <tbody>\n",
       "    <tr>\n",
       "      <th>Coffee &amp; Tea</th>\n",
       "      <td>3763</td>\n",
       "    </tr>\n",
       "    <tr>\n",
       "      <th>Smoothies &amp; Shakes</th>\n",
       "      <td>2181</td>\n",
       "    </tr>\n",
       "    <tr>\n",
       "      <th>Beverages</th>\n",
       "      <td>752</td>\n",
       "    </tr>\n",
       "    <tr>\n",
       "      <th>Breakfast</th>\n",
       "      <td>347</td>\n",
       "    </tr>\n",
       "    <tr>\n",
       "      <th>Chicken &amp; Fish</th>\n",
       "      <td>198</td>\n",
       "    </tr>\n",
       "    <tr>\n",
       "      <th>Desserts</th>\n",
       "      <td>183</td>\n",
       "    </tr>\n",
       "    <tr>\n",
       "      <th>Beef &amp; Pork</th>\n",
       "      <td>132</td>\n",
       "    </tr>\n",
       "    <tr>\n",
       "      <th>Snacks &amp; Sides</th>\n",
       "      <td>53</td>\n",
       "    </tr>\n",
       "    <tr>\n",
       "      <th>Salads</th>\n",
       "      <td>41</td>\n",
       "    </tr>\n",
       "  </tbody>\n",
       "</table>\n",
       "</div>"
      ],
      "text/plain": [
       "                    sugars\n",
       "category                  \n",
       "Coffee & Tea          3763\n",
       "Smoothies & Shakes    2181\n",
       "Beverages              752\n",
       "Breakfast              347\n",
       "Chicken & Fish         198\n",
       "Desserts               183\n",
       "Beef & Pork            132\n",
       "Snacks & Sides          53\n",
       "Salads                  41"
      ]
     },
     "execution_count": 103,
     "metadata": {},
     "output_type": "execute_result"
    }
   ],
   "source": [
    "data2"
   ]
  },
  {
   "cell_type": "code",
   "execution_count": 104,
   "id": "fec782da",
   "metadata": {},
   "outputs": [
    {
     "data": {
      "text/plain": [
       "Text(0.5, 1.0, 'Relationship between category and sugar')"
      ]
     },
     "execution_count": 104,
     "metadata": {},
     "output_type": "execute_result"
    },
    {
     "data": {
      "image/png": "[encoded data removed]",
      "text/plain": [
       "<Figure size 640x480 with 1 Axes>"
      ]
     },
     "metadata": {},
     "output_type": "display_data"
    }
   ],
   "source": [
    "#ploting a bar graph between category and the sugar and seeing which category is having the heighest sugar\n",
    "data2['sugars'].plot.bar(color='black')\n",
    "plt.title('Relationship between category and sugar')"
   ]
  },
  {
   "cell_type": "code",
   "execution_count": 105,
   "id": "a1fc6f0d",
   "metadata": {},
   "outputs": [
    {
     "data": {
      "image/png": "[encoded data removed]",
      "text/plain": [
       "<Figure size 1500x800 with 1 Axes>"
      ]
     },
     "metadata": {},
     "output_type": "display_data"
    }
   ],
   "source": [
    "#ploting a bar graph betweeen category and protein and seeing which category is having the heighest protein\n",
    "plt.figure(figsize=(15,8))\n",
    "sns.barplot(data  = df , x = 'category' , y =  'protein'  )\n",
    "plt.title('Relationship between category and protein')\n",
    "plt.show()"
   ]
  },
  {
   "cell_type": "code",
   "execution_count": 106,
   "id": "c745c49f",
   "metadata": {},
   "outputs": [
    {
     "data": {
      "text/plain": [
       "Text(0.5, 1.0, 'Sodium v/s Category')"
      ]
     },
     "execution_count": 106,
     "metadata": {},
     "output_type": "execute_result"
    },
    {
     "data": {
      "image/png": "[encoded data removed]",
      "text/plain": [
       "<Figure size 640x480 with 1 Axes>"
      ]
     },
     "metadata": {},
     "output_type": "display_data"
    }
   ],
   "source": [
    "#seeing the outleirs between sodium and category\n",
    "sns.boxplot(x = df['sodium'],y = df['category'],hue = df['category'],palette = 'Set2')\n",
    "plt.title('Sodium v/s Category')"
   ]
  },
  {
   "cell_type": "code",
   "execution_count": 107,
   "id": "3fde292f",
   "metadata": {},
   "outputs": [
    {
     "data": {
      "text/plain": [
       "<Axes: >"
      ]
     },
     "execution_count": 107,
     "metadata": {},
     "output_type": "execute_result"
    },
    {
     "data": {
      "image/png": "[encoded data removed]",
      "text/plain": [
       "<Figure size 640x480 with 1 Axes>"
      ]
     },
     "metadata": {},
     "output_type": "display_data"
    }
   ],
   "source": [
    "#seeing the outleirs in protein \n",
    "sns.boxplot(df[\"protein\"])"
   ]
  },
  {
   "cell_type": "code",
   "execution_count": 108,
   "id": "732202eb",
   "metadata": {},
   "outputs": [
    {
     "data": {
      "text/plain": [
       "<Axes: >"
      ]
     },
     "execution_count": 108,
     "metadata": {},
     "output_type": "execute_result"
    },
    {
     "data": {
      "image/png": "[encoded data removed]",
      "text/plain": [
       "<Figure size 640x480 with 1 Axes>"
      ]
     },
     "metadata": {},
     "output_type": "display_data"
    }
   ],
   "source": [
    "#seeing the outleirs in carbohydrates\n",
    "sns.boxplot(df[\"carbohydrates\"])"
   ]
  },
  {
   "cell_type": "code",
   "execution_count": 109,
   "id": "79ab50fb",
   "metadata": {},
   "outputs": [],
   "source": [
    "#creating a new data frame which is only having the columns which are including numbers in the dataset \n",
    "numeric_data=df.select_dtypes(include='number')"
   ]
  },
  {
   "cell_type": "code",
   "execution_count": 110,
   "id": "39a39281",
   "metadata": {},
   "outputs": [
    {
     "data": {
      "text/html": [
       "<div>\n",
       "<style scoped>\n",
       "    .dataframe tbody tr th:only-of-type {\n",
       "        vertical-align: middle;\n",
       "    }\n",
       "\n",
       "    .dataframe tbody tr th {\n",
       "        vertical-align: top;\n",
       "    }\n",
       "\n",
       "    .dataframe thead th {\n",
       "        text-align: right;\n",
       "    }\n",
       "</style>\n",
       "<table border=\"1\" class=\"dataframe\">\n",
       "  <thead>\n",
       "    <tr style=\"text-align: right;\">\n",
       "      <th></th>\n",
       "      <th>calories</th>\n",
       "      <th>calories_from_fat</th>\n",
       "      <th>total_fat</th>\n",
       "      <th>total_fat_(%_daily_value)</th>\n",
       "      <th>saturated_fat</th>\n",
       "      <th>saturated_fat_(%_daily_value)</th>\n",
       "      <th>trans_fat</th>\n",
       "      <th>cholesterol</th>\n",
       "      <th>cholesterol_(%_daily_value)</th>\n",
       "      <th>sodium</th>\n",
       "      <th>...</th>\n",
       "      <th>dietary_fiber</th>\n",
       "      <th>dietary_fiber_(%_daily_value)</th>\n",
       "      <th>sugars</th>\n",
       "      <th>protein</th>\n",
       "      <th>vitamin_a_(%_daily_value)</th>\n",
       "      <th>vitamin_c_(%_daily_value)</th>\n",
       "      <th>calcium_(%_daily_value)</th>\n",
       "      <th>iron_(%_daily_value)</th>\n",
       "      <th>goods</th>\n",
       "      <th>bads</th>\n",
       "    </tr>\n",
       "  </thead>\n",
       "  <tbody>\n",
       "    <tr>\n",
       "      <th>0</th>\n",
       "      <td>300</td>\n",
       "      <td>120</td>\n",
       "      <td>13</td>\n",
       "      <td>20</td>\n",
       "      <td>5</td>\n",
       "      <td>25</td>\n",
       "      <td>0</td>\n",
       "      <td>260</td>\n",
       "      <td>87</td>\n",
       "      <td>750</td>\n",
       "      <td>...</td>\n",
       "      <td>4</td>\n",
       "      <td>17</td>\n",
       "      <td>3</td>\n",
       "      <td>17</td>\n",
       "      <td>10</td>\n",
       "      <td>0</td>\n",
       "      <td>25</td>\n",
       "      <td>15</td>\n",
       "      <td>84</td>\n",
       "      <td>443</td>\n",
       "    </tr>\n",
       "    <tr>\n",
       "      <th>1</th>\n",
       "      <td>250</td>\n",
       "      <td>70</td>\n",
       "      <td>8</td>\n",
       "      <td>12</td>\n",
       "      <td>3</td>\n",
       "      <td>15</td>\n",
       "      <td>0</td>\n",
       "      <td>25</td>\n",
       "      <td>8</td>\n",
       "      <td>770</td>\n",
       "      <td>...</td>\n",
       "      <td>4</td>\n",
       "      <td>17</td>\n",
       "      <td>3</td>\n",
       "      <td>18</td>\n",
       "      <td>6</td>\n",
       "      <td>0</td>\n",
       "      <td>25</td>\n",
       "      <td>8</td>\n",
       "      <td>74</td>\n",
       "      <td>305</td>\n",
       "    </tr>\n",
       "    <tr>\n",
       "      <th>2</th>\n",
       "      <td>370</td>\n",
       "      <td>200</td>\n",
       "      <td>23</td>\n",
       "      <td>35</td>\n",
       "      <td>8</td>\n",
       "      <td>42</td>\n",
       "      <td>0</td>\n",
       "      <td>45</td>\n",
       "      <td>15</td>\n",
       "      <td>780</td>\n",
       "      <td>...</td>\n",
       "      <td>4</td>\n",
       "      <td>17</td>\n",
       "      <td>2</td>\n",
       "      <td>14</td>\n",
       "      <td>8</td>\n",
       "      <td>0</td>\n",
       "      <td>25</td>\n",
       "      <td>10</td>\n",
       "      <td>74</td>\n",
       "      <td>460</td>\n",
       "    </tr>\n",
       "    <tr>\n",
       "      <th>3</th>\n",
       "      <td>450</td>\n",
       "      <td>250</td>\n",
       "      <td>28</td>\n",
       "      <td>43</td>\n",
       "      <td>10</td>\n",
       "      <td>52</td>\n",
       "      <td>0</td>\n",
       "      <td>285</td>\n",
       "      <td>95</td>\n",
       "      <td>860</td>\n",
       "      <td>...</td>\n",
       "      <td>4</td>\n",
       "      <td>17</td>\n",
       "      <td>2</td>\n",
       "      <td>21</td>\n",
       "      <td>15</td>\n",
       "      <td>0</td>\n",
       "      <td>30</td>\n",
       "      <td>15</td>\n",
       "      <td>98</td>\n",
       "      <td>633</td>\n",
       "    </tr>\n",
       "    <tr>\n",
       "      <th>4</th>\n",
       "      <td>400</td>\n",
       "      <td>210</td>\n",
       "      <td>23</td>\n",
       "      <td>35</td>\n",
       "      <td>8</td>\n",
       "      <td>42</td>\n",
       "      <td>0</td>\n",
       "      <td>50</td>\n",
       "      <td>16</td>\n",
       "      <td>880</td>\n",
       "      <td>...</td>\n",
       "      <td>4</td>\n",
       "      <td>17</td>\n",
       "      <td>2</td>\n",
       "      <td>21</td>\n",
       "      <td>6</td>\n",
       "      <td>0</td>\n",
       "      <td>25</td>\n",
       "      <td>10</td>\n",
       "      <td>79</td>\n",
       "      <td>495</td>\n",
       "    </tr>\n",
       "    <tr>\n",
       "      <th>...</th>\n",
       "      <td>...</td>\n",
       "      <td>...</td>\n",
       "      <td>...</td>\n",
       "      <td>...</td>\n",
       "      <td>...</td>\n",
       "      <td>...</td>\n",
       "      <td>...</td>\n",
       "      <td>...</td>\n",
       "      <td>...</td>\n",
       "      <td>...</td>\n",
       "      <td>...</td>\n",
       "      <td>...</td>\n",
       "      <td>...</td>\n",
       "      <td>...</td>\n",
       "      <td>...</td>\n",
       "      <td>...</td>\n",
       "      <td>...</td>\n",
       "      <td>...</td>\n",
       "      <td>...</td>\n",
       "      <td>...</td>\n",
       "      <td>...</td>\n",
       "    </tr>\n",
       "    <tr>\n",
       "      <th>255</th>\n",
       "      <td>510</td>\n",
       "      <td>150</td>\n",
       "      <td>17</td>\n",
       "      <td>26</td>\n",
       "      <td>9</td>\n",
       "      <td>44</td>\n",
       "      <td>0</td>\n",
       "      <td>45</td>\n",
       "      <td>14</td>\n",
       "      <td>280</td>\n",
       "      <td>...</td>\n",
       "      <td>1</td>\n",
       "      <td>4</td>\n",
       "      <td>64</td>\n",
       "      <td>12</td>\n",
       "      <td>15</td>\n",
       "      <td>0</td>\n",
       "      <td>40</td>\n",
       "      <td>8</td>\n",
       "      <td>79</td>\n",
       "      <td>580</td>\n",
       "    </tr>\n",
       "    <tr>\n",
       "      <th>256</th>\n",
       "      <td>690</td>\n",
       "      <td>200</td>\n",
       "      <td>23</td>\n",
       "      <td>35</td>\n",
       "      <td>12</td>\n",
       "      <td>58</td>\n",
       "      <td>1</td>\n",
       "      <td>55</td>\n",
       "      <td>19</td>\n",
       "      <td>380</td>\n",
       "      <td>...</td>\n",
       "      <td>1</td>\n",
       "      <td>5</td>\n",
       "      <td>85</td>\n",
       "      <td>15</td>\n",
       "      <td>20</td>\n",
       "      <td>0</td>\n",
       "      <td>50</td>\n",
       "      <td>10</td>\n",
       "      <td>100</td>\n",
       "      <td>783</td>\n",
       "    </tr>\n",
       "    <tr>\n",
       "      <th>257</th>\n",
       "      <td>340</td>\n",
       "      <td>100</td>\n",
       "      <td>11</td>\n",
       "      <td>17</td>\n",
       "      <td>6</td>\n",
       "      <td>29</td>\n",
       "      <td>0</td>\n",
       "      <td>30</td>\n",
       "      <td>9</td>\n",
       "      <td>190</td>\n",
       "      <td>...</td>\n",
       "      <td>1</td>\n",
       "      <td>2</td>\n",
       "      <td>43</td>\n",
       "      <td>8</td>\n",
       "      <td>10</td>\n",
       "      <td>0</td>\n",
       "      <td>25</td>\n",
       "      <td>6</td>\n",
       "      <td>51</td>\n",
       "      <td>386</td>\n",
       "    </tr>\n",
       "    <tr>\n",
       "      <th>258</th>\n",
       "      <td>810</td>\n",
       "      <td>290</td>\n",
       "      <td>32</td>\n",
       "      <td>50</td>\n",
       "      <td>15</td>\n",
       "      <td>76</td>\n",
       "      <td>1</td>\n",
       "      <td>60</td>\n",
       "      <td>20</td>\n",
       "      <td>400</td>\n",
       "      <td>...</td>\n",
       "      <td>2</td>\n",
       "      <td>9</td>\n",
       "      <td>103</td>\n",
       "      <td>21</td>\n",
       "      <td>20</td>\n",
       "      <td>0</td>\n",
       "      <td>60</td>\n",
       "      <td>6</td>\n",
       "      <td>116</td>\n",
       "      <td>923</td>\n",
       "    </tr>\n",
       "    <tr>\n",
       "      <th>259</th>\n",
       "      <td>410</td>\n",
       "      <td>150</td>\n",
       "      <td>16</td>\n",
       "      <td>25</td>\n",
       "      <td>8</td>\n",
       "      <td>38</td>\n",
       "      <td>0</td>\n",
       "      <td>30</td>\n",
       "      <td>10</td>\n",
       "      <td>200</td>\n",
       "      <td>...</td>\n",
       "      <td>1</td>\n",
       "      <td>5</td>\n",
       "      <td>51</td>\n",
       "      <td>10</td>\n",
       "      <td>10</td>\n",
       "      <td>0</td>\n",
       "      <td>30</td>\n",
       "      <td>4</td>\n",
       "      <td>59</td>\n",
       "      <td>466</td>\n",
       "    </tr>\n",
       "  </tbody>\n",
       "</table>\n",
       "<p>260 rows × 23 columns</p>\n",
       "</div>"
      ],
      "text/plain": [
       "     calories  calories_from_fat  total_fat  total_fat_(%_daily_value)  \\\n",
       "0         300                120         13                         20   \n",
       "1         250                 70          8                         12   \n",
       "2         370                200         23                         35   \n",
       "3         450                250         28                         43   \n",
       "4         400                210         23                         35   \n",
       "..        ...                ...        ...                        ...   \n",
       "255       510                150         17                         26   \n",
       "256       690                200         23                         35   \n",
       "257       340                100         11                         17   \n",
       "258       810                290         32                         50   \n",
       "259       410                150         16                         25   \n",
       "\n",
       "     saturated_fat  saturated_fat_(%_daily_value)  trans_fat  cholesterol  \\\n",
       "0                5                             25          0          260   \n",
       "1                3                             15          0           25   \n",
       "2                8                             42          0           45   \n",
       "3               10                             52          0          285   \n",
       "4                8                             42          0           50   \n",
       "..             ...                            ...        ...          ...   \n",
       "255              9                             44          0           45   \n",
       "256             12                             58          1           55   \n",
       "257              6                             29          0           30   \n",
       "258             15                             76          1           60   \n",
       "259              8                             38          0           30   \n",
       "\n",
       "     cholesterol_(%_daily_value)  sodium  ...  dietary_fiber  \\\n",
       "0                             87     750  ...              4   \n",
       "1                              8     770  ...              4   \n",
       "2                             15     780  ...              4   \n",
       "3                             95     860  ...              4   \n",
       "4                             16     880  ...              4   \n",
       "..                           ...     ...  ...            ...   \n",
       "255                           14     280  ...              1   \n",
       "256                           19     380  ...              1   \n",
       "257                            9     190  ...              1   \n",
       "258                           20     400  ...              2   \n",
       "259                           10     200  ...              1   \n",
       "\n",
       "     dietary_fiber_(%_daily_value)  sugars  protein  \\\n",
       "0                               17       3       17   \n",
       "1                               17       3       18   \n",
       "2                               17       2       14   \n",
       "3                               17       2       21   \n",
       "4                               17       2       21   \n",
       "..                             ...     ...      ...   \n",
       "255                              4      64       12   \n",
       "256                              5      85       15   \n",
       "257                              2      43        8   \n",
       "258                              9     103       21   \n",
       "259                              5      51       10   \n",
       "\n",
       "     vitamin_a_(%_daily_value)  vitamin_c_(%_daily_value)  \\\n",
       "0                           10                          0   \n",
       "1                            6                          0   \n",
       "2                            8                          0   \n",
       "3                           15                          0   \n",
       "4                            6                          0   \n",
       "..                         ...                        ...   \n",
       "255                         15                          0   \n",
       "256                         20                          0   \n",
       "257                         10                          0   \n",
       "258                         20                          0   \n",
       "259                         10                          0   \n",
       "\n",
       "     calcium_(%_daily_value)  iron_(%_daily_value)  goods  bads  \n",
       "0                         25                    15     84   443  \n",
       "1                         25                     8     74   305  \n",
       "2                         25                    10     74   460  \n",
       "3                         30                    15     98   633  \n",
       "4                         25                    10     79   495  \n",
       "..                       ...                   ...    ...   ...  \n",
       "255                       40                     8     79   580  \n",
       "256                       50                    10    100   783  \n",
       "257                       25                     6     51   386  \n",
       "258                       60                     6    116   923  \n",
       "259                       30                     4     59   466  \n",
       "\n",
       "[260 rows x 23 columns]"
      ]
     },
     "execution_count": 110,
     "metadata": {},
     "output_type": "execute_result"
    }
   ],
   "source": [
    "numeric_data"
   ]
  },
  {
   "cell_type": "code",
   "execution_count": 111,
   "id": "2c69d0d2",
   "metadata": {},
   "outputs": [
    {
     "data": {
      "text/html": [
       "<div>\n",
       "<style scoped>\n",
       "    .dataframe tbody tr th:only-of-type {\n",
       "        vertical-align: middle;\n",
       "    }\n",
       "\n",
       "    .dataframe tbody tr th {\n",
       "        vertical-align: top;\n",
       "    }\n",
       "\n",
       "    .dataframe thead th {\n",
       "        text-align: right;\n",
       "    }\n",
       "</style>\n",
       "<table border=\"1\" class=\"dataframe\">\n",
       "  <thead>\n",
       "    <tr style=\"text-align: right;\">\n",
       "      <th></th>\n",
       "      <th>calories</th>\n",
       "      <th>calories_from_fat</th>\n",
       "      <th>total_fat</th>\n",
       "      <th>total_fat_(%_daily_value)</th>\n",
       "      <th>saturated_fat</th>\n",
       "      <th>saturated_fat_(%_daily_value)</th>\n",
       "      <th>trans_fat</th>\n",
       "      <th>cholesterol</th>\n",
       "      <th>cholesterol_(%_daily_value)</th>\n",
       "      <th>sodium</th>\n",
       "      <th>...</th>\n",
       "      <th>dietary_fiber</th>\n",
       "      <th>dietary_fiber_(%_daily_value)</th>\n",
       "      <th>sugars</th>\n",
       "      <th>protein</th>\n",
       "      <th>vitamin_a_(%_daily_value)</th>\n",
       "      <th>vitamin_c_(%_daily_value)</th>\n",
       "      <th>calcium_(%_daily_value)</th>\n",
       "      <th>iron_(%_daily_value)</th>\n",
       "      <th>goods</th>\n",
       "      <th>bads</th>\n",
       "    </tr>\n",
       "  </thead>\n",
       "  <tbody>\n",
       "    <tr>\n",
       "      <th>calories</th>\n",
       "      <td>1.000000</td>\n",
       "      <td>0.904588</td>\n",
       "      <td>0.903924</td>\n",
       "      <td>0.904123</td>\n",
       "      <td>0.843127</td>\n",
       "      <td>0.847631</td>\n",
       "      <td>0.488066</td>\n",
       "      <td>0.596399</td>\n",
       "      <td>0.595208</td>\n",
       "      <td>0.712309</td>\n",
       "      <td>...</td>\n",
       "      <td>0.538894</td>\n",
       "      <td>0.540014</td>\n",
       "      <td>0.259598</td>\n",
       "      <td>0.787847</td>\n",
       "      <td>0.108844</td>\n",
       "      <td>-0.068747</td>\n",
       "      <td>0.428426</td>\n",
       "      <td>0.643552</td>\n",
       "      <td>0.506850</td>\n",
       "      <td>0.991687</td>\n",
       "    </tr>\n",
       "    <tr>\n",
       "      <th>calories_from_fat</th>\n",
       "      <td>0.904588</td>\n",
       "      <td>1.000000</td>\n",
       "      <td>0.999640</td>\n",
       "      <td>0.999725</td>\n",
       "      <td>0.845412</td>\n",
       "      <td>0.849592</td>\n",
       "      <td>0.391689</td>\n",
       "      <td>0.682161</td>\n",
       "      <td>0.681607</td>\n",
       "      <td>0.846624</td>\n",
       "      <td>...</td>\n",
       "      <td>0.581274</td>\n",
       "      <td>0.575621</td>\n",
       "      <td>-0.115285</td>\n",
       "      <td>0.807913</td>\n",
       "      <td>0.056731</td>\n",
       "      <td>-0.087331</td>\n",
       "      <td>0.161034</td>\n",
       "      <td>0.735894</td>\n",
       "      <td>0.408966</td>\n",
       "      <td>0.934511</td>\n",
       "    </tr>\n",
       "    <tr>\n",
       "      <th>total_fat</th>\n",
       "      <td>0.903924</td>\n",
       "      <td>0.999640</td>\n",
       "      <td>1.000000</td>\n",
       "      <td>0.999704</td>\n",
       "      <td>0.845505</td>\n",
       "      <td>0.849730</td>\n",
       "      <td>0.389967</td>\n",
       "      <td>0.680306</td>\n",
       "      <td>0.679761</td>\n",
       "      <td>0.845909</td>\n",
       "      <td>...</td>\n",
       "      <td>0.580151</td>\n",
       "      <td>0.574491</td>\n",
       "      <td>-0.115947</td>\n",
       "      <td>0.806835</td>\n",
       "      <td>0.053705</td>\n",
       "      <td>-0.088477</td>\n",
       "      <td>0.160927</td>\n",
       "      <td>0.734566</td>\n",
       "      <td>0.406315</td>\n",
       "      <td>0.933753</td>\n",
       "    </tr>\n",
       "    <tr>\n",
       "      <th>total_fat_(%_daily_value)</th>\n",
       "      <td>0.904123</td>\n",
       "      <td>0.999725</td>\n",
       "      <td>0.999704</td>\n",
       "      <td>1.000000</td>\n",
       "      <td>0.845708</td>\n",
       "      <td>0.849973</td>\n",
       "      <td>0.390938</td>\n",
       "      <td>0.680940</td>\n",
       "      <td>0.680378</td>\n",
       "      <td>0.846728</td>\n",
       "      <td>...</td>\n",
       "      <td>0.580592</td>\n",
       "      <td>0.575033</td>\n",
       "      <td>-0.115761</td>\n",
       "      <td>0.807922</td>\n",
       "      <td>0.054038</td>\n",
       "      <td>-0.089353</td>\n",
       "      <td>0.162031</td>\n",
       "      <td>0.735478</td>\n",
       "      <td>0.406851</td>\n",
       "      <td>0.934060</td>\n",
       "    </tr>\n",
       "    <tr>\n",
       "      <th>saturated_fat</th>\n",
       "      <td>0.843127</td>\n",
       "      <td>0.845412</td>\n",
       "      <td>0.845505</td>\n",
       "      <td>0.845708</td>\n",
       "      <td>1.000000</td>\n",
       "      <td>0.998809</td>\n",
       "      <td>0.585301</td>\n",
       "      <td>0.630934</td>\n",
       "      <td>0.630039</td>\n",
       "      <td>0.582690</td>\n",
       "      <td>...</td>\n",
       "      <td>0.344796</td>\n",
       "      <td>0.339633</td>\n",
       "      <td>0.198137</td>\n",
       "      <td>0.601575</td>\n",
       "      <td>0.059428</td>\n",
       "      <td>-0.182984</td>\n",
       "      <td>0.404560</td>\n",
       "      <td>0.574689</td>\n",
       "      <td>0.339942</td>\n",
       "      <td>0.872401</td>\n",
       "    </tr>\n",
       "    <tr>\n",
       "      <th>saturated_fat_(%_daily_value)</th>\n",
       "      <td>0.847631</td>\n",
       "      <td>0.849592</td>\n",
       "      <td>0.849730</td>\n",
       "      <td>0.849973</td>\n",
       "      <td>0.998809</td>\n",
       "      <td>1.000000</td>\n",
       "      <td>0.583755</td>\n",
       "      <td>0.633603</td>\n",
       "      <td>0.632712</td>\n",
       "      <td>0.588694</td>\n",
       "      <td>...</td>\n",
       "      <td>0.356831</td>\n",
       "      <td>0.351797</td>\n",
       "      <td>0.195928</td>\n",
       "      <td>0.606581</td>\n",
       "      <td>0.065376</td>\n",
       "      <td>-0.178059</td>\n",
       "      <td>0.401139</td>\n",
       "      <td>0.580488</td>\n",
       "      <td>0.347712</td>\n",
       "      <td>0.876856</td>\n",
       "    </tr>\n",
       "    <tr>\n",
       "      <th>trans_fat</th>\n",
       "      <td>0.488066</td>\n",
       "      <td>0.391689</td>\n",
       "      <td>0.389967</td>\n",
       "      <td>0.390938</td>\n",
       "      <td>0.585301</td>\n",
       "      <td>0.583755</td>\n",
       "      <td>1.000000</td>\n",
       "      <td>0.238121</td>\n",
       "      <td>0.235563</td>\n",
       "      <td>0.131028</td>\n",
       "      <td>...</td>\n",
       "      <td>0.005092</td>\n",
       "      <td>0.004557</td>\n",
       "      <td>0.361536</td>\n",
       "      <td>0.319232</td>\n",
       "      <td>0.047671</td>\n",
       "      <td>-0.083665</td>\n",
       "      <td>0.356156</td>\n",
       "      <td>0.251766</td>\n",
       "      <td>0.211070</td>\n",
       "      <td>0.476464</td>\n",
       "    </tr>\n",
       "    <tr>\n",
       "      <th>cholesterol</th>\n",
       "      <td>0.596399</td>\n",
       "      <td>0.682161</td>\n",
       "      <td>0.680306</td>\n",
       "      <td>0.680940</td>\n",
       "      <td>0.630934</td>\n",
       "      <td>0.633603</td>\n",
       "      <td>0.238121</td>\n",
       "      <td>1.000000</td>\n",
       "      <td>0.999855</td>\n",
       "      <td>0.624362</td>\n",
       "      <td>...</td>\n",
       "      <td>0.435575</td>\n",
       "      <td>0.440266</td>\n",
       "      <td>-0.135518</td>\n",
       "      <td>0.561561</td>\n",
       "      <td>0.080239</td>\n",
       "      <td>-0.082978</td>\n",
       "      <td>0.132077</td>\n",
       "      <td>0.655000</td>\n",
       "      <td>0.327970</td>\n",
       "      <td>0.681372</td>\n",
       "    </tr>\n",
       "    <tr>\n",
       "      <th>cholesterol_(%_daily_value)</th>\n",
       "      <td>0.595208</td>\n",
       "      <td>0.681607</td>\n",
       "      <td>0.679761</td>\n",
       "      <td>0.680378</td>\n",
       "      <td>0.630039</td>\n",
       "      <td>0.632712</td>\n",
       "      <td>0.235563</td>\n",
       "      <td>0.999855</td>\n",
       "      <td>1.000000</td>\n",
       "      <td>0.623320</td>\n",
       "      <td>...</td>\n",
       "      <td>0.434940</td>\n",
       "      <td>0.439814</td>\n",
       "      <td>-0.136459</td>\n",
       "      <td>0.560957</td>\n",
       "      <td>0.080059</td>\n",
       "      <td>-0.083315</td>\n",
       "      <td>0.132382</td>\n",
       "      <td>0.653167</td>\n",
       "      <td>0.327315</td>\n",
       "      <td>0.680270</td>\n",
       "    </tr>\n",
       "    <tr>\n",
       "      <th>sodium</th>\n",
       "      <td>0.712309</td>\n",
       "      <td>0.846624</td>\n",
       "      <td>0.845909</td>\n",
       "      <td>0.846728</td>\n",
       "      <td>0.582690</td>\n",
       "      <td>0.588694</td>\n",
       "      <td>0.131028</td>\n",
       "      <td>0.624362</td>\n",
       "      <td>0.623320</td>\n",
       "      <td>1.000000</td>\n",
       "      <td>...</td>\n",
       "      <td>0.694389</td>\n",
       "      <td>0.689995</td>\n",
       "      <td>-0.426536</td>\n",
       "      <td>0.869802</td>\n",
       "      <td>0.083068</td>\n",
       "      <td>-0.030769</td>\n",
       "      <td>-0.024074</td>\n",
       "      <td>0.871593</td>\n",
       "      <td>0.439848</td>\n",
       "      <td>0.763815</td>\n",
       "    </tr>\n",
       "    <tr>\n",
       "      <th>sodium_(%_daily_value)</th>\n",
       "      <td>0.713415</td>\n",
       "      <td>0.847276</td>\n",
       "      <td>0.846539</td>\n",
       "      <td>0.847368</td>\n",
       "      <td>0.583961</td>\n",
       "      <td>0.589958</td>\n",
       "      <td>0.132098</td>\n",
       "      <td>0.624743</td>\n",
       "      <td>0.623720</td>\n",
       "      <td>0.999929</td>\n",
       "      <td>...</td>\n",
       "      <td>0.693913</td>\n",
       "      <td>0.689464</td>\n",
       "      <td>-0.424943</td>\n",
       "      <td>0.869870</td>\n",
       "      <td>0.083259</td>\n",
       "      <td>-0.030945</td>\n",
       "      <td>-0.022145</td>\n",
       "      <td>0.870742</td>\n",
       "      <td>0.440291</td>\n",
       "      <td>0.764858</td>\n",
       "    </tr>\n",
       "    <tr>\n",
       "      <th>carbohydrates</th>\n",
       "      <td>0.781539</td>\n",
       "      <td>0.461672</td>\n",
       "      <td>0.460665</td>\n",
       "      <td>0.460516</td>\n",
       "      <td>0.588803</td>\n",
       "      <td>0.591322</td>\n",
       "      <td>0.465485</td>\n",
       "      <td>0.270977</td>\n",
       "      <td>0.269300</td>\n",
       "      <td>0.200796</td>\n",
       "      <td>...</td>\n",
       "      <td>0.224577</td>\n",
       "      <td>0.228257</td>\n",
       "      <td>0.762362</td>\n",
       "      <td>0.352122</td>\n",
       "      <td>0.083802</td>\n",
       "      <td>-0.034724</td>\n",
       "      <td>0.589699</td>\n",
       "      <td>0.210241</td>\n",
       "      <td>0.357751</td>\n",
       "      <td>0.721244</td>\n",
       "    </tr>\n",
       "    <tr>\n",
       "      <th>carbohydrates_(%_daily_value)</th>\n",
       "      <td>0.781242</td>\n",
       "      <td>0.461463</td>\n",
       "      <td>0.460437</td>\n",
       "      <td>0.460298</td>\n",
       "      <td>0.589382</td>\n",
       "      <td>0.591655</td>\n",
       "      <td>0.464701</td>\n",
       "      <td>0.272662</td>\n",
       "      <td>0.270992</td>\n",
       "      <td>0.201032</td>\n",
       "      <td>...</td>\n",
       "      <td>0.224058</td>\n",
       "      <td>0.227285</td>\n",
       "      <td>0.762282</td>\n",
       "      <td>0.352178</td>\n",
       "      <td>0.083376</td>\n",
       "      <td>-0.035450</td>\n",
       "      <td>0.590263</td>\n",
       "      <td>0.210643</td>\n",
       "      <td>0.357328</td>\n",
       "      <td>0.721218</td>\n",
       "    </tr>\n",
       "    <tr>\n",
       "      <th>dietary_fiber</th>\n",
       "      <td>0.538894</td>\n",
       "      <td>0.581274</td>\n",
       "      <td>0.580151</td>\n",
       "      <td>0.580592</td>\n",
       "      <td>0.344796</td>\n",
       "      <td>0.356831</td>\n",
       "      <td>0.005092</td>\n",
       "      <td>0.435575</td>\n",
       "      <td>0.434940</td>\n",
       "      <td>0.694389</td>\n",
       "      <td>...</td>\n",
       "      <td>1.000000</td>\n",
       "      <td>0.986350</td>\n",
       "      <td>-0.295178</td>\n",
       "      <td>0.641345</td>\n",
       "      <td>0.340518</td>\n",
       "      <td>0.141935</td>\n",
       "      <td>0.028711</td>\n",
       "      <td>0.740411</td>\n",
       "      <td>0.630459</td>\n",
       "      <td>0.561422</td>\n",
       "    </tr>\n",
       "    <tr>\n",
       "      <th>dietary_fiber_(%_daily_value)</th>\n",
       "      <td>0.540014</td>\n",
       "      <td>0.575621</td>\n",
       "      <td>0.574491</td>\n",
       "      <td>0.575033</td>\n",
       "      <td>0.339633</td>\n",
       "      <td>0.351797</td>\n",
       "      <td>0.004557</td>\n",
       "      <td>0.440266</td>\n",
       "      <td>0.439814</td>\n",
       "      <td>0.689995</td>\n",
       "      <td>...</td>\n",
       "      <td>0.986350</td>\n",
       "      <td>1.000000</td>\n",
       "      <td>-0.287014</td>\n",
       "      <td>0.656648</td>\n",
       "      <td>0.361380</td>\n",
       "      <td>0.150019</td>\n",
       "      <td>0.052359</td>\n",
       "      <td>0.737814</td>\n",
       "      <td>0.656855</td>\n",
       "      <td>0.561989</td>\n",
       "    </tr>\n",
       "    <tr>\n",
       "      <th>sugars</th>\n",
       "      <td>0.259598</td>\n",
       "      <td>-0.115285</td>\n",
       "      <td>-0.115947</td>\n",
       "      <td>-0.115761</td>\n",
       "      <td>0.198137</td>\n",
       "      <td>0.195928</td>\n",
       "      <td>0.361536</td>\n",
       "      <td>-0.135518</td>\n",
       "      <td>-0.136459</td>\n",
       "      <td>-0.426536</td>\n",
       "      <td>...</td>\n",
       "      <td>-0.295178</td>\n",
       "      <td>-0.287014</td>\n",
       "      <td>1.000000</td>\n",
       "      <td>-0.179940</td>\n",
       "      <td>0.048488</td>\n",
       "      <td>-0.069847</td>\n",
       "      <td>0.600093</td>\n",
       "      <td>-0.364767</td>\n",
       "      <td>0.048577</td>\n",
       "      <td>0.178148</td>\n",
       "    </tr>\n",
       "    <tr>\n",
       "      <th>protein</th>\n",
       "      <td>0.787847</td>\n",
       "      <td>0.807913</td>\n",
       "      <td>0.806835</td>\n",
       "      <td>0.807922</td>\n",
       "      <td>0.601575</td>\n",
       "      <td>0.606581</td>\n",
       "      <td>0.319232</td>\n",
       "      <td>0.561561</td>\n",
       "      <td>0.560957</td>\n",
       "      <td>0.869802</td>\n",
       "      <td>...</td>\n",
       "      <td>0.641345</td>\n",
       "      <td>0.656648</td>\n",
       "      <td>-0.179940</td>\n",
       "      <td>1.000000</td>\n",
       "      <td>0.214098</td>\n",
       "      <td>-0.045777</td>\n",
       "      <td>0.327971</td>\n",
       "      <td>0.792719</td>\n",
       "      <td>0.621593</td>\n",
       "      <td>0.809464</td>\n",
       "    </tr>\n",
       "    <tr>\n",
       "      <th>vitamin_a_(%_daily_value)</th>\n",
       "      <td>0.108844</td>\n",
       "      <td>0.056731</td>\n",
       "      <td>0.053705</td>\n",
       "      <td>0.054038</td>\n",
       "      <td>0.059428</td>\n",
       "      <td>0.065376</td>\n",
       "      <td>0.047671</td>\n",
       "      <td>0.080239</td>\n",
       "      <td>0.080059</td>\n",
       "      <td>0.083068</td>\n",
       "      <td>...</td>\n",
       "      <td>0.340518</td>\n",
       "      <td>0.361380</td>\n",
       "      <td>0.048488</td>\n",
       "      <td>0.214098</td>\n",
       "      <td>1.000000</td>\n",
       "      <td>0.069171</td>\n",
       "      <td>0.179190</td>\n",
       "      <td>0.137879</td>\n",
       "      <td>0.681499</td>\n",
       "      <td>0.107482</td>\n",
       "    </tr>\n",
       "    <tr>\n",
       "      <th>vitamin_c_(%_daily_value)</th>\n",
       "      <td>-0.068747</td>\n",
       "      <td>-0.087331</td>\n",
       "      <td>-0.088477</td>\n",
       "      <td>-0.089353</td>\n",
       "      <td>-0.182984</td>\n",
       "      <td>-0.178059</td>\n",
       "      <td>-0.083665</td>\n",
       "      <td>-0.082978</td>\n",
       "      <td>-0.083315</td>\n",
       "      <td>-0.030769</td>\n",
       "      <td>...</td>\n",
       "      <td>0.141935</td>\n",
       "      <td>0.150019</td>\n",
       "      <td>-0.069847</td>\n",
       "      <td>-0.045777</td>\n",
       "      <td>0.069171</td>\n",
       "      <td>1.000000</td>\n",
       "      <td>-0.215380</td>\n",
       "      <td>0.001292</td>\n",
       "      <td>0.480592</td>\n",
       "      <td>-0.081482</td>\n",
       "    </tr>\n",
       "    <tr>\n",
       "      <th>calcium_(%_daily_value)</th>\n",
       "      <td>0.428426</td>\n",
       "      <td>0.161034</td>\n",
       "      <td>0.160927</td>\n",
       "      <td>0.162031</td>\n",
       "      <td>0.404560</td>\n",
       "      <td>0.401139</td>\n",
       "      <td>0.356156</td>\n",
       "      <td>0.132077</td>\n",
       "      <td>0.132382</td>\n",
       "      <td>-0.024074</td>\n",
       "      <td>...</td>\n",
       "      <td>0.028711</td>\n",
       "      <td>0.052359</td>\n",
       "      <td>0.600093</td>\n",
       "      <td>0.327971</td>\n",
       "      <td>0.179190</td>\n",
       "      <td>-0.215380</td>\n",
       "      <td>1.000000</td>\n",
       "      <td>0.034149</td>\n",
       "      <td>0.389274</td>\n",
       "      <td>0.390064</td>\n",
       "    </tr>\n",
       "    <tr>\n",
       "      <th>iron_(%_daily_value)</th>\n",
       "      <td>0.643552</td>\n",
       "      <td>0.735894</td>\n",
       "      <td>0.734566</td>\n",
       "      <td>0.735478</td>\n",
       "      <td>0.574689</td>\n",
       "      <td>0.580488</td>\n",
       "      <td>0.251766</td>\n",
       "      <td>0.655000</td>\n",
       "      <td>0.653167</td>\n",
       "      <td>0.871593</td>\n",
       "      <td>...</td>\n",
       "      <td>0.740411</td>\n",
       "      <td>0.737814</td>\n",
       "      <td>-0.364767</td>\n",
       "      <td>0.792719</td>\n",
       "      <td>0.137879</td>\n",
       "      <td>0.001292</td>\n",
       "      <td>0.034149</td>\n",
       "      <td>1.000000</td>\n",
       "      <td>0.511786</td>\n",
       "      <td>0.700522</td>\n",
       "    </tr>\n",
       "    <tr>\n",
       "      <th>goods</th>\n",
       "      <td>0.506850</td>\n",
       "      <td>0.408966</td>\n",
       "      <td>0.406315</td>\n",
       "      <td>0.406851</td>\n",
       "      <td>0.339942</td>\n",
       "      <td>0.347712</td>\n",
       "      <td>0.211070</td>\n",
       "      <td>0.327970</td>\n",
       "      <td>0.327315</td>\n",
       "      <td>0.439848</td>\n",
       "      <td>...</td>\n",
       "      <td>0.630459</td>\n",
       "      <td>0.656855</td>\n",
       "      <td>0.048577</td>\n",
       "      <td>0.621593</td>\n",
       "      <td>0.681499</td>\n",
       "      <td>0.480592</td>\n",
       "      <td>0.389274</td>\n",
       "      <td>0.511786</td>\n",
       "      <td>1.000000</td>\n",
       "      <td>0.504155</td>\n",
       "    </tr>\n",
       "    <tr>\n",
       "      <th>bads</th>\n",
       "      <td>0.991687</td>\n",
       "      <td>0.934511</td>\n",
       "      <td>0.933753</td>\n",
       "      <td>0.934060</td>\n",
       "      <td>0.872401</td>\n",
       "      <td>0.876856</td>\n",
       "      <td>0.476464</td>\n",
       "      <td>0.681372</td>\n",
       "      <td>0.680270</td>\n",
       "      <td>0.763815</td>\n",
       "      <td>...</td>\n",
       "      <td>0.561422</td>\n",
       "      <td>0.561989</td>\n",
       "      <td>0.178148</td>\n",
       "      <td>0.809464</td>\n",
       "      <td>0.107482</td>\n",
       "      <td>-0.081482</td>\n",
       "      <td>0.390064</td>\n",
       "      <td>0.700522</td>\n",
       "      <td>0.504155</td>\n",
       "      <td>1.000000</td>\n",
       "    </tr>\n",
       "  </tbody>\n",
       "</table>\n",
       "<p>23 rows × 23 columns</p>\n",
       "</div>"
      ],
      "text/plain": [
       "                               calories  calories_from_fat  total_fat  \\\n",
       "calories                       1.000000           0.904588   0.903924   \n",
       "calories_from_fat              0.904588           1.000000   0.999640   \n",
       "total_fat                      0.903924           0.999640   1.000000   \n",
       "total_fat_(%_daily_value)      0.904123           0.999725   0.999704   \n",
       "saturated_fat                  0.843127           0.845412   0.845505   \n",
       "saturated_fat_(%_daily_value)  0.847631           0.849592   0.849730   \n",
       "trans_fat                      0.488066           0.391689   0.389967   \n",
       "cholesterol                    0.596399           0.682161   0.680306   \n",
       "cholesterol_(%_daily_value)    0.595208           0.681607   0.679761   \n",
       "sodium                         0.712309           0.846624   0.845909   \n",
       "sodium_(%_daily_value)         0.713415           0.847276   0.846539   \n",
       "carbohydrates                  0.781539           0.461672   0.460665   \n",
       "carbohydrates_(%_daily_value)  0.781242           0.461463   0.460437   \n",
       "dietary_fiber                  0.538894           0.581274   0.580151   \n",
       "dietary_fiber_(%_daily_value)  0.540014           0.575621   0.574491   \n",
       "sugars                         0.259598          -0.115285  -0.115947   \n",
       "protein                        0.787847           0.807913   0.806835   \n",
       "vitamin_a_(%_daily_value)      0.108844           0.056731   0.053705   \n",
       "vitamin_c_(%_daily_value)     -0.068747          -0.087331  -0.088477   \n",
       "calcium_(%_daily_value)        0.428426           0.161034   0.160927   \n",
       "iron_(%_daily_value)           0.643552           0.735894   0.734566   \n",
       "goods                          0.506850           0.408966   0.406315   \n",
       "bads                           0.991687           0.934511   0.933753   \n",
       "\n",
       "                               total_fat_(%_daily_value)  saturated_fat  \\\n",
       "calories                                        0.904123       0.843127   \n",
       "calories_from_fat                               0.999725       0.845412   \n",
       "total_fat                                       0.999704       0.845505   \n",
       "total_fat_(%_daily_value)                       1.000000       0.845708   \n",
       "saturated_fat                                   0.845708       1.000000   \n",
       "saturated_fat_(%_daily_value)                   0.849973       0.998809   \n",
       "trans_fat                                       0.390938       0.585301   \n",
       "cholesterol                                     0.680940       0.630934   \n",
       "cholesterol_(%_daily_value)                     0.680378       0.630039   \n",
       "sodium                                          0.846728       0.582690   \n",
       "sodium_(%_daily_value)                          0.847368       0.583961   \n",
       "carbohydrates                                   0.460516       0.588803   \n",
       "carbohydrates_(%_daily_value)                   0.460298       0.589382   \n",
       "dietary_fiber                                   0.580592       0.344796   \n",
       "dietary_fiber_(%_daily_value)                   0.575033       0.339633   \n",
       "sugars                                         -0.115761       0.198137   \n",
       "protein                                         0.807922       0.601575   \n",
       "vitamin_a_(%_daily_value)                       0.054038       0.059428   \n",
       "vitamin_c_(%_daily_value)                      -0.089353      -0.182984   \n",
       "calcium_(%_daily_value)                         0.162031       0.404560   \n",
       "iron_(%_daily_value)                            0.735478       0.574689   \n",
       "goods                                           0.406851       0.339942   \n",
       "bads                                            0.934060       0.872401   \n",
       "\n",
       "                               saturated_fat_(%_daily_value)  trans_fat  \\\n",
       "calories                                            0.847631   0.488066   \n",
       "calories_from_fat                                   0.849592   0.391689   \n",
       "total_fat                                           0.849730   0.389967   \n",
       "total_fat_(%_daily_value)                           0.849973   0.390938   \n",
       "saturated_fat                                       0.998809   0.585301   \n",
       "saturated_fat_(%_daily_value)                       1.000000   0.583755   \n",
       "trans_fat                                           0.583755   1.000000   \n",
       "cholesterol                                         0.633603   0.238121   \n",
       "cholesterol_(%_daily_value)                         0.632712   0.235563   \n",
       "sodium                                              0.588694   0.131028   \n",
       "sodium_(%_daily_value)                              0.589958   0.132098   \n",
       "carbohydrates                                       0.591322   0.465485   \n",
       "carbohydrates_(%_daily_value)                       0.591655   0.464701   \n",
       "dietary_fiber                                       0.356831   0.005092   \n",
       "dietary_fiber_(%_daily_value)                       0.351797   0.004557   \n",
       "sugars                                              0.195928   0.361536   \n",
       "protein                                             0.606581   0.319232   \n",
       "vitamin_a_(%_daily_value)                           0.065376   0.047671   \n",
       "vitamin_c_(%_daily_value)                          -0.178059  -0.083665   \n",
       "calcium_(%_daily_value)                             0.401139   0.356156   \n",
       "iron_(%_daily_value)                                0.580488   0.251766   \n",
       "goods                                               0.347712   0.211070   \n",
       "bads                                                0.876856   0.476464   \n",
       "\n",
       "                               cholesterol  cholesterol_(%_daily_value)  \\\n",
       "calories                          0.596399                     0.595208   \n",
       "calories_from_fat                 0.682161                     0.681607   \n",
       "total_fat                         0.680306                     0.679761   \n",
       "total_fat_(%_daily_value)         0.680940                     0.680378   \n",
       "saturated_fat                     0.630934                     0.630039   \n",
       "saturated_fat_(%_daily_value)     0.633603                     0.632712   \n",
       "trans_fat                         0.238121                     0.235563   \n",
       "cholesterol                       1.000000                     0.999855   \n",
       "cholesterol_(%_daily_value)       0.999855                     1.000000   \n",
       "sodium                            0.624362                     0.623320   \n",
       "sodium_(%_daily_value)            0.624743                     0.623720   \n",
       "carbohydrates                     0.270977                     0.269300   \n",
       "carbohydrates_(%_daily_value)     0.272662                     0.270992   \n",
       "dietary_fiber                     0.435575                     0.434940   \n",
       "dietary_fiber_(%_daily_value)     0.440266                     0.439814   \n",
       "sugars                           -0.135518                    -0.136459   \n",
       "protein                           0.561561                     0.560957   \n",
       "vitamin_a_(%_daily_value)         0.080239                     0.080059   \n",
       "vitamin_c_(%_daily_value)        -0.082978                    -0.083315   \n",
       "calcium_(%_daily_value)           0.132077                     0.132382   \n",
       "iron_(%_daily_value)              0.655000                     0.653167   \n",
       "goods                             0.327970                     0.327315   \n",
       "bads                              0.681372                     0.680270   \n",
       "\n",
       "                                 sodium  ...  dietary_fiber  \\\n",
       "calories                       0.712309  ...       0.538894   \n",
       "calories_from_fat              0.846624  ...       0.581274   \n",
       "total_fat                      0.845909  ...       0.580151   \n",
       "total_fat_(%_daily_value)      0.846728  ...       0.580592   \n",
       "saturated_fat                  0.582690  ...       0.344796   \n",
       "saturated_fat_(%_daily_value)  0.588694  ...       0.356831   \n",
       "trans_fat                      0.131028  ...       0.005092   \n",
       "cholesterol                    0.624362  ...       0.435575   \n",
       "cholesterol_(%_daily_value)    0.623320  ...       0.434940   \n",
       "sodium                         1.000000  ...       0.694389   \n",
       "sodium_(%_daily_value)         0.999929  ...       0.693913   \n",
       "carbohydrates                  0.200796  ...       0.224577   \n",
       "carbohydrates_(%_daily_value)  0.201032  ...       0.224058   \n",
       "dietary_fiber                  0.694389  ...       1.000000   \n",
       "dietary_fiber_(%_daily_value)  0.689995  ...       0.986350   \n",
       "sugars                        -0.426536  ...      -0.295178   \n",
       "protein                        0.869802  ...       0.641345   \n",
       "vitamin_a_(%_daily_value)      0.083068  ...       0.340518   \n",
       "vitamin_c_(%_daily_value)     -0.030769  ...       0.141935   \n",
       "calcium_(%_daily_value)       -0.024074  ...       0.028711   \n",
       "iron_(%_daily_value)           0.871593  ...       0.740411   \n",
       "goods                          0.439848  ...       0.630459   \n",
       "bads                           0.763815  ...       0.561422   \n",
       "\n",
       "                               dietary_fiber_(%_daily_value)    sugars  \\\n",
       "calories                                            0.540014  0.259598   \n",
       "calories_from_fat                                   0.575621 -0.115285   \n",
       "total_fat                                           0.574491 -0.115947   \n",
       "total_fat_(%_daily_value)                           0.575033 -0.115761   \n",
       "saturated_fat                                       0.339633  0.198137   \n",
       "saturated_fat_(%_daily_value)                       0.351797  0.195928   \n",
       "trans_fat                                           0.004557  0.361536   \n",
       "cholesterol                                         0.440266 -0.135518   \n",
       "cholesterol_(%_daily_value)                         0.439814 -0.136459   \n",
       "sodium                                              0.689995 -0.426536   \n",
       "sodium_(%_daily_value)                              0.689464 -0.424943   \n",
       "carbohydrates                                       0.228257  0.762362   \n",
       "carbohydrates_(%_daily_value)                       0.227285  0.762282   \n",
       "dietary_fiber                                       0.986350 -0.295178   \n",
       "dietary_fiber_(%_daily_value)                       1.000000 -0.287014   \n",
       "sugars                                             -0.287014  1.000000   \n",
       "protein                                             0.656648 -0.179940   \n",
       "vitamin_a_(%_daily_value)                           0.361380  0.048488   \n",
       "vitamin_c_(%_daily_value)                           0.150019 -0.069847   \n",
       "calcium_(%_daily_value)                             0.052359  0.600093   \n",
       "iron_(%_daily_value)                                0.737814 -0.364767   \n",
       "goods                                               0.656855  0.048577   \n",
       "bads                                                0.561989  0.178148   \n",
       "\n",
       "                                protein  vitamin_a_(%_daily_value)  \\\n",
       "calories                       0.787847                   0.108844   \n",
       "calories_from_fat              0.807913                   0.056731   \n",
       "total_fat                      0.806835                   0.053705   \n",
       "total_fat_(%_daily_value)      0.807922                   0.054038   \n",
       "saturated_fat                  0.601575                   0.059428   \n",
       "saturated_fat_(%_daily_value)  0.606581                   0.065376   \n",
       "trans_fat                      0.319232                   0.047671   \n",
       "cholesterol                    0.561561                   0.080239   \n",
       "cholesterol_(%_daily_value)    0.560957                   0.080059   \n",
       "sodium                         0.869802                   0.083068   \n",
       "sodium_(%_daily_value)         0.869870                   0.083259   \n",
       "carbohydrates                  0.352122                   0.083802   \n",
       "carbohydrates_(%_daily_value)  0.352178                   0.083376   \n",
       "dietary_fiber                  0.641345                   0.340518   \n",
       "dietary_fiber_(%_daily_value)  0.656648                   0.361380   \n",
       "sugars                        -0.179940                   0.048488   \n",
       "protein                        1.000000                   0.214098   \n",
       "vitamin_a_(%_daily_value)      0.214098                   1.000000   \n",
       "vitamin_c_(%_daily_value)     -0.045777                   0.069171   \n",
       "calcium_(%_daily_value)        0.327971                   0.179190   \n",
       "iron_(%_daily_value)           0.792719                   0.137879   \n",
       "goods                          0.621593                   0.681499   \n",
       "bads                           0.809464                   0.107482   \n",
       "\n",
       "                               vitamin_c_(%_daily_value)  \\\n",
       "calories                                       -0.068747   \n",
       "calories_from_fat                              -0.087331   \n",
       "total_fat                                      -0.088477   \n",
       "total_fat_(%_daily_value)                      -0.089353   \n",
       "saturated_fat                                  -0.182984   \n",
       "saturated_fat_(%_daily_value)                  -0.178059   \n",
       "trans_fat                                      -0.083665   \n",
       "cholesterol                                    -0.082978   \n",
       "cholesterol_(%_daily_value)                    -0.083315   \n",
       "sodium                                         -0.030769   \n",
       "sodium_(%_daily_value)                         -0.030945   \n",
       "carbohydrates                                  -0.034724   \n",
       "carbohydrates_(%_daily_value)                  -0.035450   \n",
       "dietary_fiber                                   0.141935   \n",
       "dietary_fiber_(%_daily_value)                   0.150019   \n",
       "sugars                                         -0.069847   \n",
       "protein                                        -0.045777   \n",
       "vitamin_a_(%_daily_value)                       0.069171   \n",
       "vitamin_c_(%_daily_value)                       1.000000   \n",
       "calcium_(%_daily_value)                        -0.215380   \n",
       "iron_(%_daily_value)                            0.001292   \n",
       "goods                                           0.480592   \n",
       "bads                                           -0.081482   \n",
       "\n",
       "                               calcium_(%_daily_value)  iron_(%_daily_value)  \\\n",
       "calories                                      0.428426              0.643552   \n",
       "calories_from_fat                             0.161034              0.735894   \n",
       "total_fat                                     0.160927              0.734566   \n",
       "total_fat_(%_daily_value)                     0.162031              0.735478   \n",
       "saturated_fat                                 0.404560              0.574689   \n",
       "saturated_fat_(%_daily_value)                 0.401139              0.580488   \n",
       "trans_fat                                     0.356156              0.251766   \n",
       "cholesterol                                   0.132077              0.655000   \n",
       "cholesterol_(%_daily_value)                   0.132382              0.653167   \n",
       "sodium                                       -0.024074              0.871593   \n",
       "sodium_(%_daily_value)                       -0.022145              0.870742   \n",
       "carbohydrates                                 0.589699              0.210241   \n",
       "carbohydrates_(%_daily_value)                 0.590263              0.210643   \n",
       "dietary_fiber                                 0.028711              0.740411   \n",
       "dietary_fiber_(%_daily_value)                 0.052359              0.737814   \n",
       "sugars                                        0.600093             -0.364767   \n",
       "protein                                       0.327971              0.792719   \n",
       "vitamin_a_(%_daily_value)                     0.179190              0.137879   \n",
       "vitamin_c_(%_daily_value)                    -0.215380              0.001292   \n",
       "calcium_(%_daily_value)                       1.000000              0.034149   \n",
       "iron_(%_daily_value)                          0.034149              1.000000   \n",
       "goods                                         0.389274              0.511786   \n",
       "bads                                          0.390064              0.700522   \n",
       "\n",
       "                                  goods      bads  \n",
       "calories                       0.506850  0.991687  \n",
       "calories_from_fat              0.408966  0.934511  \n",
       "total_fat                      0.406315  0.933753  \n",
       "total_fat_(%_daily_value)      0.406851  0.934060  \n",
       "saturated_fat                  0.339942  0.872401  \n",
       "saturated_fat_(%_daily_value)  0.347712  0.876856  \n",
       "trans_fat                      0.211070  0.476464  \n",
       "cholesterol                    0.327970  0.681372  \n",
       "cholesterol_(%_daily_value)    0.327315  0.680270  \n",
       "sodium                         0.439848  0.763815  \n",
       "sodium_(%_daily_value)         0.440291  0.764858  \n",
       "carbohydrates                  0.357751  0.721244  \n",
       "carbohydrates_(%_daily_value)  0.357328  0.721218  \n",
       "dietary_fiber                  0.630459  0.561422  \n",
       "dietary_fiber_(%_daily_value)  0.656855  0.561989  \n",
       "sugars                         0.048577  0.178148  \n",
       "protein                        0.621593  0.809464  \n",
       "vitamin_a_(%_daily_value)      0.681499  0.107482  \n",
       "vitamin_c_(%_daily_value)      0.480592 -0.081482  \n",
       "calcium_(%_daily_value)        0.389274  0.390064  \n",
       "iron_(%_daily_value)           0.511786  0.700522  \n",
       "goods                          1.000000  0.504155  \n",
       "bads                           0.504155  1.000000  \n",
       "\n",
       "[23 rows x 23 columns]"
      ]
     },
     "execution_count": 111,
     "metadata": {},
     "output_type": "execute_result"
    }
   ],
   "source": [
    "#It shows the correlation \n",
    "numeric_data.corr()"
   ]
  },
  {
   "cell_type": "code",
   "execution_count": 112,
   "id": "bbacb81a",
   "metadata": {},
   "outputs": [
    {
     "data": {
      "text/plain": [
       "<Axes: >"
      ]
     },
     "execution_count": 112,
     "metadata": {},
     "output_type": "execute_result"
    },
    {
     "data": {
      "image/png": "[encoded data removed]",
      "text/plain": [
       "<Figure size 1000x1000 with 2 Axes>"
      ]
     },
     "metadata": {},
     "output_type": "display_data"
    }
   ],
   "source": [
    "#HeatMap or heatMatrix shows correlation across all numerical variables\n",
    "plt.figure(figsize=(10,10))\n",
    "sns.heatmap(data=numeric_data.corr())"
   ]
  },
  {
   "cell_type": "code",
   "execution_count": 113,
   "id": "9f6d73f2",
   "metadata": {},
   "outputs": [
    {
     "data": {
      "text/plain": [
       "Text(0.5, 1.0, 'Carbohydrates vs Sugars')"
      ]
     },
     "execution_count": 113,
     "metadata": {},
     "output_type": "execute_result"
    },
    {
     "data": {
      "image/png": "[encoded data removed]",
      "text/plain": [
       "<Figure size 800x500 with 1 Axes>"
      ]
     },
     "metadata": {},
     "output_type": "display_data"
    }
   ],
   "source": [
    "#creating the scatter plot between carbohydrates and sugar \n",
    "plt.figure(figsize=(8,5))\n",
    "sns.scatterplot(x='carbohydrates',y='sugars',data=df)\n",
    "plt.title('Carbohydrates vs Sugars')"
   ]
  },
  {
   "cell_type": "code",
   "execution_count": 114,
   "id": "57bd914d",
   "metadata": {},
   "outputs": [
    {
     "data": {
      "text/plain": [
       "Text(0.5, 1.0, 'Carbohydrates vs Sugars')"
      ]
     },
     "execution_count": 114,
     "metadata": {},
     "output_type": "execute_result"
    },
    {
     "data": {
      "image/png": "[encoded data removed]",
      "text/plain": [
       "<Figure size 800x500 with 1 Axes>"
      ]
     },
     "metadata": {},
     "output_type": "display_data"
    }
   ],
   "source": [
    "#creating the regression plot between the carbohydrates and sugar \n",
    "plt.figure(figsize=(8,5))\n",
    "sns.regplot(x='carbohydrates',y='sugars',data=df,color='purple')\n",
    "plt.title('Carbohydrates vs Sugars')"
   ]
  },
  {
   "cell_type": "code",
   "execution_count": 115,
   "id": "82abd187",
   "metadata": {},
   "outputs": [
    {
     "data": {
      "text/plain": [
       "Text(0.5, 1.0, 'protein vs calories')"
      ]
     },
     "execution_count": 115,
     "metadata": {},
     "output_type": "execute_result"
    },
    {
     "data": {
      "image/png": "[encoded data removed]",
      "text/plain": [
       "<Figure size 800x500 with 1 Axes>"
      ]
     },
     "metadata": {},
     "output_type": "display_data"
    }
   ],
   "source": [
    "#creating the scatter plot between protein and calories\n",
    "plt.figure(figsize=(8,5))\n",
    "sns.scatterplot(x='protein',y='calories',data=df,color='gray')\n",
    "plt.title('protein vs calories')"
   ]
  },
  {
   "cell_type": "code",
   "execution_count": 116,
   "id": "52bedbd1",
   "metadata": {},
   "outputs": [
    {
     "data": {
      "text/plain": [
       "Text(0.5, 1.0, 'protein vs Sugars')"
      ]
     },
     "execution_count": 116,
     "metadata": {},
     "output_type": "execute_result"
    },
    {
     "data": {
      "image/png": "[encoded data removed]",
      "text/plain": [
       "<Figure size 800x500 with 1 Axes>"
      ]
     },
     "metadata": {},
     "output_type": "display_data"
    }
   ],
   "source": [
    "#creating a regression plot between the protein and sugar\n",
    "plt.figure(figsize=(8,5))\n",
    "sns.regplot(x='protein',y='sugars',data=df)\n",
    "plt.title('protein vs Sugars')"
   ]
  },
  {
   "cell_type": "markdown",
   "id": "dd8aece7",
   "metadata": {},
   "source": [
    "# Recommendation"
   ]
  },
  {
   "cell_type": "raw",
   "id": "85102813",
   "metadata": {},
   "source": [
    "Based on the provided data, here are some actionable recommendations based on exploratory data analysis (EDA):\n",
    "\n",
    "1.Highlight Lower Calorie Options: Identify menu items with lower calorie counts and promote them as healthier choices. For example, the \"Egg White Delight\" has fewer calories compared to other breakfast options like the \"Sausage McMuffin with Egg.\"\n",
    "2.Offer More Variety in Nutrient Profiles: Consider expanding the menu to include more options with varied nutrient profiles. This can cater to different dietary preferences and requirements. For instance, adding more items with higher fiber content or lower saturated fat levels could appeal to health-conscious customers.\n",
    "3.Promote Healthier Beverages: Encourage the consumption of healthier beverages, especially for customers looking to manage their calorie intake. Options like fruit smoothies with no added sugars could be highlighted as alternatives to high-calorie milkshakes.\n",
    "4.Provide Nutritional Information Prominently: Ensure that nutritional information is easily accessible to customers, both in-store and online. This transparency can help customers make informed choices about their meals.\n",
    "5.Offer Customization Options: Allow customers to customize their orders to meet their dietary needs. For example, offering the option to substitute egg whites for whole eggs or choosing a lighter dressing for salads can give customers more control over their calorie and nutrient intake.\n",
    "6.Introduce Portion Control Options: Consider offering smaller portion sizes or snack options for items like the McFlurry, allowing customers to indulge in their favorite treats without consuming excessive calories.\n",
    "7.Educate Staff on Nutritional Content: Ensure that staff members are knowledgeable about the nutritional content of menu items so they can provide accurate information and assist customers in making healthier choices.\n",
    "By implementing these recommendations, you can help customers make healthier choices while still enjoying their favorite McDonald's menu items."
   ]
  },
  {
   "cell_type": "code",
   "execution_count": null,
   "id": "ea9c7f0d",
   "metadata": {},
   "outputs": [],
   "source": []
  }
 ],
 "metadata": {
  "kernelspec": {
   "display_name": "Python 3 (ipykernel)",
   "language": "python",
   "name": "python3"
  },
  "language_info": {
   "codemirror_mode": {
    "name": "ipython",
    "version": 3
   },
   "file_extension": ".py",
   "mimetype": "text/x-python",
   "name": "python",
   "nbconvert_exporter": "python",
   "pygments_lexer": "ipython3",
   "version": "3.11.5"
  }
 },
 "nbformat": 4,
 "nbformat_minor": 5
}
