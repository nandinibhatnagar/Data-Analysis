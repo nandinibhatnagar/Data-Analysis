{
 "cells": [
  {
   "cell_type": "code",
   "execution_count": 1,
   "id": "db58c8c4",
   "metadata": {},
   "outputs": [],
   "source": [
    "import numpy as np\n",
    "import pandas as pd\n",
    "import matplotlib.pyplot as plt\n",
    "import seaborn as sns"
   ]
  },
  {
   "cell_type": "markdown",
   "id": "3ffb66df",
   "metadata": {},
   "source": [
    "# Loading the data"
   ]
  },
  {
   "cell_type": "code",
   "execution_count": 2,
   "id": "4b2971ab",
   "metadata": {},
   "outputs": [],
   "source": [
    "#loading the file \n",
    "df=pd.read_csv(\"retail_sales.csv\")"
   ]
  },
  {
   "cell_type": "code",
   "execution_count": 3,
   "id": "5af55334",
   "metadata": {},
   "outputs": [
    {
     "data": {
      "text/html": [
       "<div>\n",
       "<style scoped>\n",
       "    .dataframe tbody tr th:only-of-type {\n",
       "        vertical-align: middle;\n",
       "    }\n",
       "\n",
       "    .dataframe tbody tr th {\n",
       "        vertical-align: top;\n",
       "    }\n",
       "\n",
       "    .dataframe thead th {\n",
       "        text-align: right;\n",
       "    }\n",
       "</style>\n",
       "<table border=\"1\" class=\"dataframe\">\n",
       "  <thead>\n",
       "    <tr style=\"text-align: right;\">\n",
       "      <th></th>\n",
       "      <th>Transaction ID</th>\n",
       "      <th>Date</th>\n",
       "      <th>Customer ID</th>\n",
       "      <th>Gender</th>\n",
       "      <th>Age</th>\n",
       "      <th>Product Category</th>\n",
       "      <th>Quantity</th>\n",
       "      <th>Price per Unit</th>\n",
       "      <th>Total Amount</th>\n",
       "    </tr>\n",
       "  </thead>\n",
       "  <tbody>\n",
       "    <tr>\n",
       "      <th>0</th>\n",
       "      <td>1</td>\n",
       "      <td>24-11-2023</td>\n",
       "      <td>CUST001</td>\n",
       "      <td>Male</td>\n",
       "      <td>34</td>\n",
       "      <td>Beauty</td>\n",
       "      <td>3</td>\n",
       "      <td>50</td>\n",
       "      <td>150</td>\n",
       "    </tr>\n",
       "    <tr>\n",
       "      <th>1</th>\n",
       "      <td>2</td>\n",
       "      <td>27-02-2023</td>\n",
       "      <td>CUST002</td>\n",
       "      <td>Female</td>\n",
       "      <td>26</td>\n",
       "      <td>Clothing</td>\n",
       "      <td>2</td>\n",
       "      <td>500</td>\n",
       "      <td>1000</td>\n",
       "    </tr>\n",
       "    <tr>\n",
       "      <th>2</th>\n",
       "      <td>3</td>\n",
       "      <td>13-01-2023</td>\n",
       "      <td>CUST003</td>\n",
       "      <td>Male</td>\n",
       "      <td>50</td>\n",
       "      <td>Electronics</td>\n",
       "      <td>1</td>\n",
       "      <td>30</td>\n",
       "      <td>30</td>\n",
       "    </tr>\n",
       "    <tr>\n",
       "      <th>3</th>\n",
       "      <td>4</td>\n",
       "      <td>21-05-2023</td>\n",
       "      <td>CUST004</td>\n",
       "      <td>Male</td>\n",
       "      <td>37</td>\n",
       "      <td>Clothing</td>\n",
       "      <td>1</td>\n",
       "      <td>500</td>\n",
       "      <td>500</td>\n",
       "    </tr>\n",
       "    <tr>\n",
       "      <th>4</th>\n",
       "      <td>5</td>\n",
       "      <td>06-05-2023</td>\n",
       "      <td>CUST005</td>\n",
       "      <td>Male</td>\n",
       "      <td>30</td>\n",
       "      <td>Beauty</td>\n",
       "      <td>2</td>\n",
       "      <td>50</td>\n",
       "      <td>100</td>\n",
       "    </tr>\n",
       "    <tr>\n",
       "      <th>...</th>\n",
       "      <td>...</td>\n",
       "      <td>...</td>\n",
       "      <td>...</td>\n",
       "      <td>...</td>\n",
       "      <td>...</td>\n",
       "      <td>...</td>\n",
       "      <td>...</td>\n",
       "      <td>...</td>\n",
       "      <td>...</td>\n",
       "    </tr>\n",
       "    <tr>\n",
       "      <th>995</th>\n",
       "      <td>996</td>\n",
       "      <td>16-05-2023</td>\n",
       "      <td>CUST996</td>\n",
       "      <td>Male</td>\n",
       "      <td>62</td>\n",
       "      <td>Clothing</td>\n",
       "      <td>1</td>\n",
       "      <td>50</td>\n",
       "      <td>50</td>\n",
       "    </tr>\n",
       "    <tr>\n",
       "      <th>996</th>\n",
       "      <td>997</td>\n",
       "      <td>17-11-2023</td>\n",
       "      <td>CUST997</td>\n",
       "      <td>Male</td>\n",
       "      <td>52</td>\n",
       "      <td>Beauty</td>\n",
       "      <td>3</td>\n",
       "      <td>30</td>\n",
       "      <td>90</td>\n",
       "    </tr>\n",
       "    <tr>\n",
       "      <th>997</th>\n",
       "      <td>998</td>\n",
       "      <td>29-10-2023</td>\n",
       "      <td>CUST998</td>\n",
       "      <td>Female</td>\n",
       "      <td>23</td>\n",
       "      <td>Beauty</td>\n",
       "      <td>4</td>\n",
       "      <td>25</td>\n",
       "      <td>100</td>\n",
       "    </tr>\n",
       "    <tr>\n",
       "      <th>998</th>\n",
       "      <td>999</td>\n",
       "      <td>05-12-2023</td>\n",
       "      <td>CUST999</td>\n",
       "      <td>Female</td>\n",
       "      <td>36</td>\n",
       "      <td>Electronics</td>\n",
       "      <td>3</td>\n",
       "      <td>50</td>\n",
       "      <td>150</td>\n",
       "    </tr>\n",
       "    <tr>\n",
       "      <th>999</th>\n",
       "      <td>1000</td>\n",
       "      <td>12-04-2023</td>\n",
       "      <td>CUST1000</td>\n",
       "      <td>Male</td>\n",
       "      <td>47</td>\n",
       "      <td>Electronics</td>\n",
       "      <td>4</td>\n",
       "      <td>30</td>\n",
       "      <td>120</td>\n",
       "    </tr>\n",
       "  </tbody>\n",
       "</table>\n",
       "<p>1000 rows × 9 columns</p>\n",
       "</div>"
      ],
      "text/plain": [
       "     Transaction ID        Date Customer ID  Gender  Age Product Category  \\\n",
       "0                 1  24-11-2023     CUST001    Male   34           Beauty   \n",
       "1                 2  27-02-2023     CUST002  Female   26         Clothing   \n",
       "2                 3  13-01-2023     CUST003    Male   50      Electronics   \n",
       "3                 4  21-05-2023     CUST004    Male   37         Clothing   \n",
       "4                 5  06-05-2023     CUST005    Male   30           Beauty   \n",
       "..              ...         ...         ...     ...  ...              ...   \n",
       "995             996  16-05-2023     CUST996    Male   62         Clothing   \n",
       "996             997  17-11-2023     CUST997    Male   52           Beauty   \n",
       "997             998  29-10-2023     CUST998  Female   23           Beauty   \n",
       "998             999  05-12-2023     CUST999  Female   36      Electronics   \n",
       "999            1000  12-04-2023    CUST1000    Male   47      Electronics   \n",
       "\n",
       "     Quantity  Price per Unit  Total Amount  \n",
       "0           3              50           150  \n",
       "1           2             500          1000  \n",
       "2           1              30            30  \n",
       "3           1             500           500  \n",
       "4           2              50           100  \n",
       "..        ...             ...           ...  \n",
       "995         1              50            50  \n",
       "996         3              30            90  \n",
       "997         4              25           100  \n",
       "998         3              50           150  \n",
       "999         4              30           120  \n",
       "\n",
       "[1000 rows x 9 columns]"
      ]
     },
     "execution_count": 3,
     "metadata": {},
     "output_type": "execute_result"
    }
   ],
   "source": [
    "df"
   ]
  },
  {
   "cell_type": "code",
   "execution_count": 4,
   "id": "9b33b691",
   "metadata": {},
   "outputs": [
    {
     "data": {
      "text/html": [
       "<div>\n",
       "<style scoped>\n",
       "    .dataframe tbody tr th:only-of-type {\n",
       "        vertical-align: middle;\n",
       "    }\n",
       "\n",
       "    .dataframe tbody tr th {\n",
       "        vertical-align: top;\n",
       "    }\n",
       "\n",
       "    .dataframe thead th {\n",
       "        text-align: right;\n",
       "    }\n",
       "</style>\n",
       "<table border=\"1\" class=\"dataframe\">\n",
       "  <thead>\n",
       "    <tr style=\"text-align: right;\">\n",
       "      <th></th>\n",
       "      <th>Transaction ID</th>\n",
       "      <th>Date</th>\n",
       "      <th>Customer ID</th>\n",
       "      <th>Gender</th>\n",
       "      <th>Age</th>\n",
       "      <th>Product Category</th>\n",
       "      <th>Quantity</th>\n",
       "      <th>Price per Unit</th>\n",
       "      <th>Total Amount</th>\n",
       "    </tr>\n",
       "  </thead>\n",
       "  <tbody>\n",
       "    <tr>\n",
       "      <th>0</th>\n",
       "      <td>1</td>\n",
       "      <td>24-11-2023</td>\n",
       "      <td>CUST001</td>\n",
       "      <td>Male</td>\n",
       "      <td>34</td>\n",
       "      <td>Beauty</td>\n",
       "      <td>3</td>\n",
       "      <td>50</td>\n",
       "      <td>150</td>\n",
       "    </tr>\n",
       "    <tr>\n",
       "      <th>1</th>\n",
       "      <td>2</td>\n",
       "      <td>27-02-2023</td>\n",
       "      <td>CUST002</td>\n",
       "      <td>Female</td>\n",
       "      <td>26</td>\n",
       "      <td>Clothing</td>\n",
       "      <td>2</td>\n",
       "      <td>500</td>\n",
       "      <td>1000</td>\n",
       "    </tr>\n",
       "    <tr>\n",
       "      <th>2</th>\n",
       "      <td>3</td>\n",
       "      <td>13-01-2023</td>\n",
       "      <td>CUST003</td>\n",
       "      <td>Male</td>\n",
       "      <td>50</td>\n",
       "      <td>Electronics</td>\n",
       "      <td>1</td>\n",
       "      <td>30</td>\n",
       "      <td>30</td>\n",
       "    </tr>\n",
       "    <tr>\n",
       "      <th>3</th>\n",
       "      <td>4</td>\n",
       "      <td>21-05-2023</td>\n",
       "      <td>CUST004</td>\n",
       "      <td>Male</td>\n",
       "      <td>37</td>\n",
       "      <td>Clothing</td>\n",
       "      <td>1</td>\n",
       "      <td>500</td>\n",
       "      <td>500</td>\n",
       "    </tr>\n",
       "    <tr>\n",
       "      <th>4</th>\n",
       "      <td>5</td>\n",
       "      <td>06-05-2023</td>\n",
       "      <td>CUST005</td>\n",
       "      <td>Male</td>\n",
       "      <td>30</td>\n",
       "      <td>Beauty</td>\n",
       "      <td>2</td>\n",
       "      <td>50</td>\n",
       "      <td>100</td>\n",
       "    </tr>\n",
       "  </tbody>\n",
       "</table>\n",
       "</div>"
      ],
      "text/plain": [
       "   Transaction ID        Date Customer ID  Gender  Age Product Category  \\\n",
       "0               1  24-11-2023     CUST001    Male   34           Beauty   \n",
       "1               2  27-02-2023     CUST002  Female   26         Clothing   \n",
       "2               3  13-01-2023     CUST003    Male   50      Electronics   \n",
       "3               4  21-05-2023     CUST004    Male   37         Clothing   \n",
       "4               5  06-05-2023     CUST005    Male   30           Beauty   \n",
       "\n",
       "   Quantity  Price per Unit  Total Amount  \n",
       "0         3              50           150  \n",
       "1         2             500          1000  \n",
       "2         1              30            30  \n",
       "3         1             500           500  \n",
       "4         2              50           100  "
      ]
     },
     "execution_count": 4,
     "metadata": {},
     "output_type": "execute_result"
    }
   ],
   "source": [
    "#seeing the first 5 rows details of the dataset\n",
    "df.head()"
   ]
  },
  {
   "cell_type": "code",
   "execution_count": 5,
   "id": "6e5c018b",
   "metadata": {},
   "outputs": [
    {
     "data": {
      "text/html": [
       "<div>\n",
       "<style scoped>\n",
       "    .dataframe tbody tr th:only-of-type {\n",
       "        vertical-align: middle;\n",
       "    }\n",
       "\n",
       "    .dataframe tbody tr th {\n",
       "        vertical-align: top;\n",
       "    }\n",
       "\n",
       "    .dataframe thead th {\n",
       "        text-align: right;\n",
       "    }\n",
       "</style>\n",
       "<table border=\"1\" class=\"dataframe\">\n",
       "  <thead>\n",
       "    <tr style=\"text-align: right;\">\n",
       "      <th></th>\n",
       "      <th>Transaction ID</th>\n",
       "      <th>Date</th>\n",
       "      <th>Customer ID</th>\n",
       "      <th>Gender</th>\n",
       "      <th>Age</th>\n",
       "      <th>Product Category</th>\n",
       "      <th>Quantity</th>\n",
       "      <th>Price per Unit</th>\n",
       "      <th>Total Amount</th>\n",
       "    </tr>\n",
       "  </thead>\n",
       "  <tbody>\n",
       "    <tr>\n",
       "      <th>995</th>\n",
       "      <td>996</td>\n",
       "      <td>16-05-2023</td>\n",
       "      <td>CUST996</td>\n",
       "      <td>Male</td>\n",
       "      <td>62</td>\n",
       "      <td>Clothing</td>\n",
       "      <td>1</td>\n",
       "      <td>50</td>\n",
       "      <td>50</td>\n",
       "    </tr>\n",
       "    <tr>\n",
       "      <th>996</th>\n",
       "      <td>997</td>\n",
       "      <td>17-11-2023</td>\n",
       "      <td>CUST997</td>\n",
       "      <td>Male</td>\n",
       "      <td>52</td>\n",
       "      <td>Beauty</td>\n",
       "      <td>3</td>\n",
       "      <td>30</td>\n",
       "      <td>90</td>\n",
       "    </tr>\n",
       "    <tr>\n",
       "      <th>997</th>\n",
       "      <td>998</td>\n",
       "      <td>29-10-2023</td>\n",
       "      <td>CUST998</td>\n",
       "      <td>Female</td>\n",
       "      <td>23</td>\n",
       "      <td>Beauty</td>\n",
       "      <td>4</td>\n",
       "      <td>25</td>\n",
       "      <td>100</td>\n",
       "    </tr>\n",
       "    <tr>\n",
       "      <th>998</th>\n",
       "      <td>999</td>\n",
       "      <td>05-12-2023</td>\n",
       "      <td>CUST999</td>\n",
       "      <td>Female</td>\n",
       "      <td>36</td>\n",
       "      <td>Electronics</td>\n",
       "      <td>3</td>\n",
       "      <td>50</td>\n",
       "      <td>150</td>\n",
       "    </tr>\n",
       "    <tr>\n",
       "      <th>999</th>\n",
       "      <td>1000</td>\n",
       "      <td>12-04-2023</td>\n",
       "      <td>CUST1000</td>\n",
       "      <td>Male</td>\n",
       "      <td>47</td>\n",
       "      <td>Electronics</td>\n",
       "      <td>4</td>\n",
       "      <td>30</td>\n",
       "      <td>120</td>\n",
       "    </tr>\n",
       "  </tbody>\n",
       "</table>\n",
       "</div>"
      ],
      "text/plain": [
       "     Transaction ID        Date Customer ID  Gender  Age Product Category  \\\n",
       "995             996  16-05-2023     CUST996    Male   62         Clothing   \n",
       "996             997  17-11-2023     CUST997    Male   52           Beauty   \n",
       "997             998  29-10-2023     CUST998  Female   23           Beauty   \n",
       "998             999  05-12-2023     CUST999  Female   36      Electronics   \n",
       "999            1000  12-04-2023    CUST1000    Male   47      Electronics   \n",
       "\n",
       "     Quantity  Price per Unit  Total Amount  \n",
       "995         1              50            50  \n",
       "996         3              30            90  \n",
       "997         4              25           100  \n",
       "998         3              50           150  \n",
       "999         4              30           120  "
      ]
     },
     "execution_count": 5,
     "metadata": {},
     "output_type": "execute_result"
    }
   ],
   "source": [
    "#seeing the last 5 rows details of the dataset\n",
    "df.tail()"
   ]
  },
  {
   "cell_type": "code",
   "execution_count": 6,
   "id": "c2e74356",
   "metadata": {},
   "outputs": [
    {
     "data": {
      "text/plain": [
       "Index(['Transaction ID', 'Date', 'Customer ID', 'Gender', 'Age',\n",
       "       'Product Category', 'Quantity', 'Price per Unit', 'Total Amount'],\n",
       "      dtype='object')"
      ]
     },
     "execution_count": 6,
     "metadata": {},
     "output_type": "execute_result"
    }
   ],
   "source": [
    "#seeing that how many columns are present in the dataset\n",
    "df.columns"
   ]
  },
  {
   "cell_type": "code",
   "execution_count": 7,
   "id": "e0bf55e9",
   "metadata": {},
   "outputs": [
    {
     "data": {
      "text/plain": [
       "(1000, 9)"
      ]
     },
     "execution_count": 7,
     "metadata": {},
     "output_type": "execute_result"
    }
   ],
   "source": [
    "#seeing the no. of rows and columns present in the dataset \n",
    "df.shape"
   ]
  },
  {
   "cell_type": "code",
   "execution_count": 8,
   "id": "a3f64839",
   "metadata": {},
   "outputs": [
    {
     "data": {
      "text/plain": [
       "9000"
      ]
     },
     "execution_count": 8,
     "metadata": {},
     "output_type": "execute_result"
    }
   ],
   "source": [
    "#seeing how many elements are present in the dataset\n",
    "df.size"
   ]
  },
  {
   "cell_type": "code",
   "execution_count": 9,
   "id": "5982952b",
   "metadata": {},
   "outputs": [
    {
     "name": "stdout",
     "output_type": "stream",
     "text": [
      "<class 'pandas.core.frame.DataFrame'>\n",
      "RangeIndex: 1000 entries, 0 to 999\n",
      "Data columns (total 9 columns):\n",
      " #   Column            Non-Null Count  Dtype \n",
      "---  ------            --------------  ----- \n",
      " 0   Transaction ID    1000 non-null   int64 \n",
      " 1   Date              1000 non-null   object\n",
      " 2   Customer ID       1000 non-null   object\n",
      " 3   Gender            1000 non-null   object\n",
      " 4   Age               1000 non-null   int64 \n",
      " 5   Product Category  1000 non-null   object\n",
      " 6   Quantity          1000 non-null   int64 \n",
      " 7   Price per Unit    1000 non-null   int64 \n",
      " 8   Total Amount      1000 non-null   int64 \n",
      "dtypes: int64(5), object(4)\n",
      "memory usage: 70.4+ KB\n"
     ]
    }
   ],
   "source": [
    "#seeing what information did the dataset is giving(example: columns,datatypes non null counts)\n",
    "df.info()"
   ]
  },
  {
   "cell_type": "code",
   "execution_count": 10,
   "id": "e1e75f00",
   "metadata": {},
   "outputs": [
    {
     "data": {
      "text/html": [
       "<div>\n",
       "<style scoped>\n",
       "    .dataframe tbody tr th:only-of-type {\n",
       "        vertical-align: middle;\n",
       "    }\n",
       "\n",
       "    .dataframe tbody tr th {\n",
       "        vertical-align: top;\n",
       "    }\n",
       "\n",
       "    .dataframe thead th {\n",
       "        text-align: right;\n",
       "    }\n",
       "</style>\n",
       "<table border=\"1\" class=\"dataframe\">\n",
       "  <thead>\n",
       "    <tr style=\"text-align: right;\">\n",
       "      <th></th>\n",
       "      <th>Transaction ID</th>\n",
       "      <th>Age</th>\n",
       "      <th>Quantity</th>\n",
       "      <th>Price per Unit</th>\n",
       "      <th>Total Amount</th>\n",
       "    </tr>\n",
       "  </thead>\n",
       "  <tbody>\n",
       "    <tr>\n",
       "      <th>count</th>\n",
       "      <td>1000.000000</td>\n",
       "      <td>1000.00000</td>\n",
       "      <td>1000.000000</td>\n",
       "      <td>1000.000000</td>\n",
       "      <td>1000.000000</td>\n",
       "    </tr>\n",
       "    <tr>\n",
       "      <th>mean</th>\n",
       "      <td>500.500000</td>\n",
       "      <td>41.39200</td>\n",
       "      <td>2.514000</td>\n",
       "      <td>179.890000</td>\n",
       "      <td>456.000000</td>\n",
       "    </tr>\n",
       "    <tr>\n",
       "      <th>std</th>\n",
       "      <td>288.819436</td>\n",
       "      <td>13.68143</td>\n",
       "      <td>1.132734</td>\n",
       "      <td>189.681356</td>\n",
       "      <td>559.997632</td>\n",
       "    </tr>\n",
       "    <tr>\n",
       "      <th>min</th>\n",
       "      <td>1.000000</td>\n",
       "      <td>18.00000</td>\n",
       "      <td>1.000000</td>\n",
       "      <td>25.000000</td>\n",
       "      <td>25.000000</td>\n",
       "    </tr>\n",
       "    <tr>\n",
       "      <th>25%</th>\n",
       "      <td>250.750000</td>\n",
       "      <td>29.00000</td>\n",
       "      <td>1.000000</td>\n",
       "      <td>30.000000</td>\n",
       "      <td>60.000000</td>\n",
       "    </tr>\n",
       "    <tr>\n",
       "      <th>50%</th>\n",
       "      <td>500.500000</td>\n",
       "      <td>42.00000</td>\n",
       "      <td>3.000000</td>\n",
       "      <td>50.000000</td>\n",
       "      <td>135.000000</td>\n",
       "    </tr>\n",
       "    <tr>\n",
       "      <th>75%</th>\n",
       "      <td>750.250000</td>\n",
       "      <td>53.00000</td>\n",
       "      <td>4.000000</td>\n",
       "      <td>300.000000</td>\n",
       "      <td>900.000000</td>\n",
       "    </tr>\n",
       "    <tr>\n",
       "      <th>max</th>\n",
       "      <td>1000.000000</td>\n",
       "      <td>64.00000</td>\n",
       "      <td>4.000000</td>\n",
       "      <td>500.000000</td>\n",
       "      <td>2000.000000</td>\n",
       "    </tr>\n",
       "  </tbody>\n",
       "</table>\n",
       "</div>"
      ],
      "text/plain": [
       "       Transaction ID         Age     Quantity  Price per Unit  Total Amount\n",
       "count     1000.000000  1000.00000  1000.000000     1000.000000   1000.000000\n",
       "mean       500.500000    41.39200     2.514000      179.890000    456.000000\n",
       "std        288.819436    13.68143     1.132734      189.681356    559.997632\n",
       "min          1.000000    18.00000     1.000000       25.000000     25.000000\n",
       "25%        250.750000    29.00000     1.000000       30.000000     60.000000\n",
       "50%        500.500000    42.00000     3.000000       50.000000    135.000000\n",
       "75%        750.250000    53.00000     4.000000      300.000000    900.000000\n",
       "max       1000.000000    64.00000     4.000000      500.000000   2000.000000"
      ]
     },
     "execution_count": 10,
     "metadata": {},
     "output_type": "execute_result"
    }
   ],
   "source": [
    "#seeing the count ,mean,min and more other information of each column in data set\n",
    "df.describe()"
   ]
  },
  {
   "cell_type": "markdown",
   "id": "b802175f",
   "metadata": {},
   "source": [
    "# cleaning and analyzing the data"
   ]
  },
  {
   "cell_type": "code",
   "execution_count": 11,
   "id": "122b908a",
   "metadata": {},
   "outputs": [
    {
     "data": {
      "text/plain": [
       "Transaction ID      0\n",
       "Date                0\n",
       "Customer ID         0\n",
       "Gender              0\n",
       "Age                 0\n",
       "Product Category    0\n",
       "Quantity            0\n",
       "Price per Unit      0\n",
       "Total Amount        0\n",
       "dtype: int64"
      ]
     },
     "execution_count": 11,
     "metadata": {},
     "output_type": "execute_result"
    }
   ],
   "source": [
    "#finding that how many null values are present in the dataset \n",
    "df.isnull().sum()"
   ]
  },
  {
   "cell_type": "code",
   "execution_count": 12,
   "id": "82367391",
   "metadata": {},
   "outputs": [
    {
     "data": {
      "text/plain": [
       "Transaction ID      1000\n",
       "Date                1000\n",
       "Customer ID         1000\n",
       "Gender              1000\n",
       "Age                 1000\n",
       "Product Category    1000\n",
       "Quantity            1000\n",
       "Price per Unit      1000\n",
       "Total Amount        1000\n",
       "dtype: int64"
      ]
     },
     "execution_count": 12,
     "metadata": {},
     "output_type": "execute_result"
    }
   ],
   "source": [
    "#finding how many not null values are present in the dataset \n",
    "df.notnull().sum()"
   ]
  },
  {
   "cell_type": "code",
   "execution_count": 13,
   "id": "9d2e1d79",
   "metadata": {},
   "outputs": [
    {
     "data": {
      "text/plain": [
       "0"
      ]
     },
     "execution_count": 13,
     "metadata": {},
     "output_type": "execute_result"
    }
   ],
   "source": [
    "#finding how many duplicates values are present in the dataset \n",
    "df.duplicated().sum()"
   ]
  },
  {
   "cell_type": "code",
   "execution_count": 14,
   "id": "d3bb6f77",
   "metadata": {},
   "outputs": [
    {
     "data": {
      "text/plain": [
       "['Transaction ID',\n",
       " 'Date',\n",
       " 'Customer ID',\n",
       " 'Gender',\n",
       " 'Age',\n",
       " 'Product Category',\n",
       " 'Quantity',\n",
       " 'Price per Unit',\n",
       " 'Total Amount']"
      ]
     },
     "execution_count": 14,
     "metadata": {},
     "output_type": "execute_result"
    }
   ],
   "source": [
    "#converting the columns in the form of list \n",
    "list(df.columns)"
   ]
  },
  {
   "cell_type": "code",
   "execution_count": 15,
   "id": "0e569e25",
   "metadata": {},
   "outputs": [],
   "source": [
    "#rename the columns\n",
    "df.rename(columns={'Product Category':'Product_category'},inplace=True)\n",
    "df.rename(columns={'Price per Unit':'Price_per_unit'},inplace=True)\n",
    "df.rename(columns={'Total Amount':'Total_amount'},inplace=True)\n"
   ]
  },
  {
   "cell_type": "code",
   "execution_count": 16,
   "id": "10eb4c8d",
   "metadata": {},
   "outputs": [
    {
     "data": {
      "text/html": [
       "<div>\n",
       "<style scoped>\n",
       "    .dataframe tbody tr th:only-of-type {\n",
       "        vertical-align: middle;\n",
       "    }\n",
       "\n",
       "    .dataframe tbody tr th {\n",
       "        vertical-align: top;\n",
       "    }\n",
       "\n",
       "    .dataframe thead th {\n",
       "        text-align: right;\n",
       "    }\n",
       "</style>\n",
       "<table border=\"1\" class=\"dataframe\">\n",
       "  <thead>\n",
       "    <tr style=\"text-align: right;\">\n",
       "      <th></th>\n",
       "      <th>Transaction ID</th>\n",
       "      <th>Date</th>\n",
       "      <th>Customer ID</th>\n",
       "      <th>Gender</th>\n",
       "      <th>Age</th>\n",
       "      <th>Product_category</th>\n",
       "      <th>Quantity</th>\n",
       "      <th>Price_per_unit</th>\n",
       "      <th>Total_amount</th>\n",
       "    </tr>\n",
       "  </thead>\n",
       "  <tbody>\n",
       "    <tr>\n",
       "      <th>0</th>\n",
       "      <td>1</td>\n",
       "      <td>24-11-2023</td>\n",
       "      <td>CUST001</td>\n",
       "      <td>Male</td>\n",
       "      <td>34</td>\n",
       "      <td>Beauty</td>\n",
       "      <td>3</td>\n",
       "      <td>50</td>\n",
       "      <td>150</td>\n",
       "    </tr>\n",
       "    <tr>\n",
       "      <th>1</th>\n",
       "      <td>2</td>\n",
       "      <td>27-02-2023</td>\n",
       "      <td>CUST002</td>\n",
       "      <td>Female</td>\n",
       "      <td>26</td>\n",
       "      <td>Clothing</td>\n",
       "      <td>2</td>\n",
       "      <td>500</td>\n",
       "      <td>1000</td>\n",
       "    </tr>\n",
       "  </tbody>\n",
       "</table>\n",
       "</div>"
      ],
      "text/plain": [
       "   Transaction ID        Date Customer ID  Gender  Age Product_category  \\\n",
       "0               1  24-11-2023     CUST001    Male   34           Beauty   \n",
       "1               2  27-02-2023     CUST002  Female   26         Clothing   \n",
       "\n",
       "   Quantity  Price_per_unit  Total_amount  \n",
       "0         3              50           150  \n",
       "1         2             500          1000  "
      ]
     },
     "execution_count": 16,
     "metadata": {},
     "output_type": "execute_result"
    }
   ],
   "source": [
    "df.head(2)"
   ]
  },
  {
   "cell_type": "code",
   "execution_count": 17,
   "id": "267a9d9f",
   "metadata": {},
   "outputs": [
    {
     "data": {
      "text/plain": [
       "array([34, 26, 50, 37, 30, 45, 46, 63, 52, 23, 35, 22, 64, 42, 19, 27, 47,\n",
       "       62, 18, 49, 28, 38, 43, 39, 44, 51, 58, 48, 55, 20, 40, 54, 36, 31,\n",
       "       21, 57, 25, 56, 29, 61, 32, 41, 59, 60, 33, 53, 24], dtype=int64)"
      ]
     },
     "execution_count": 17,
     "metadata": {},
     "output_type": "execute_result"
    }
   ],
   "source": [
    "#finding the unique values in the age column of the dataset\n",
    "df['Age'].unique()"
   ]
  },
  {
   "cell_type": "code",
   "execution_count": 18,
   "id": "28aac155",
   "metadata": {},
   "outputs": [
    {
     "data": {
      "text/plain": [
       "array([ 150, 1000,   30,  500,  100,   50,  600,  200,   75, 1500,  120,\n",
       "       2000,  900,  300, 1200,   90,   25,   60], dtype=int64)"
      ]
     },
     "execution_count": 18,
     "metadata": {},
     "output_type": "execute_result"
    }
   ],
   "source": [
    "#finding the unique values in the total amount column of the dataset \n",
    "df['Total_amount'].unique()"
   ]
  },
  {
   "cell_type": "code",
   "execution_count": 19,
   "id": "fe231d8e",
   "metadata": {},
   "outputs": [
    {
     "data": {
      "text/plain": [
       "array([ 50, 500,  30,  25, 300], dtype=int64)"
      ]
     },
     "execution_count": 19,
     "metadata": {},
     "output_type": "execute_result"
    }
   ],
   "source": [
    "#finding the unique values in the price_per_unit column of the data set\n",
    "df['Price_per_unit'].unique()"
   ]
  },
  {
   "cell_type": "code",
   "execution_count": 20,
   "id": "346de174",
   "metadata": {},
   "outputs": [
    {
     "data": {
      "text/plain": [
       "array(['Beauty', 'Clothing', 'Electronics'], dtype=object)"
      ]
     },
     "execution_count": 20,
     "metadata": {},
     "output_type": "execute_result"
    }
   ],
   "source": [
    "#finding the unique values in the product category column of the dataset\n",
    "df['Product_category'].unique()"
   ]
  },
  {
   "cell_type": "code",
   "execution_count": 21,
   "id": "968d7219",
   "metadata": {},
   "outputs": [],
   "source": [
    "#changing the data type of the gender column \n",
    "df['Gender']=df['Gender'].astype('category')"
   ]
  },
  {
   "cell_type": "code",
   "execution_count": 22,
   "id": "3a02719b",
   "metadata": {},
   "outputs": [],
   "source": [
    "df['Date']=df['Date'].astype('category')"
   ]
  },
  {
   "cell_type": "code",
   "execution_count": 23,
   "id": "0908a935",
   "metadata": {},
   "outputs": [],
   "source": [
    "#changing the data type of the product category column \n",
    "df['Product_category']=df['Product_category'].astype('category')"
   ]
  },
  {
   "cell_type": "code",
   "execution_count": 24,
   "id": "c6f1153f",
   "metadata": {},
   "outputs": [
    {
     "name": "stdout",
     "output_type": "stream",
     "text": [
      "<class 'pandas.core.frame.DataFrame'>\n",
      "RangeIndex: 1000 entries, 0 to 999\n",
      "Data columns (total 9 columns):\n",
      " #   Column            Non-Null Count  Dtype   \n",
      "---  ------            --------------  -----   \n",
      " 0   Transaction ID    1000 non-null   int64   \n",
      " 1   Date              1000 non-null   category\n",
      " 2   Customer ID       1000 non-null   object  \n",
      " 3   Gender            1000 non-null   category\n",
      " 4   Age               1000 non-null   int64   \n",
      " 5   Product_category  1000 non-null   category\n",
      " 6   Quantity          1000 non-null   int64   \n",
      " 7   Price_per_unit    1000 non-null   int64   \n",
      " 8   Total_amount      1000 non-null   int64   \n",
      "dtypes: category(3), int64(5), object(1)\n",
      "memory usage: 62.0+ KB\n"
     ]
    }
   ],
   "source": [
    "df.info()"
   ]
  },
  {
   "cell_type": "code",
   "execution_count": 25,
   "id": "6565fb3c",
   "metadata": {},
   "outputs": [
    {
     "data": {
      "text/html": [
       "<div>\n",
       "<style scoped>\n",
       "    .dataframe tbody tr th:only-of-type {\n",
       "        vertical-align: middle;\n",
       "    }\n",
       "\n",
       "    .dataframe tbody tr th {\n",
       "        vertical-align: top;\n",
       "    }\n",
       "\n",
       "    .dataframe thead th {\n",
       "        text-align: right;\n",
       "    }\n",
       "</style>\n",
       "<table border=\"1\" class=\"dataframe\">\n",
       "  <thead>\n",
       "    <tr style=\"text-align: right;\">\n",
       "      <th></th>\n",
       "      <th>Transaction ID</th>\n",
       "      <th>Date</th>\n",
       "      <th>Gender</th>\n",
       "      <th>Age</th>\n",
       "      <th>Product_category</th>\n",
       "      <th>Quantity</th>\n",
       "      <th>Price_per_unit</th>\n",
       "      <th>Total_amount</th>\n",
       "    </tr>\n",
       "  </thead>\n",
       "  <tbody>\n",
       "    <tr>\n",
       "      <th>0</th>\n",
       "      <td>1</td>\n",
       "      <td>24-11-2023</td>\n",
       "      <td>Male</td>\n",
       "      <td>34</td>\n",
       "      <td>Beauty</td>\n",
       "      <td>3</td>\n",
       "      <td>50</td>\n",
       "      <td>150</td>\n",
       "    </tr>\n",
       "    <tr>\n",
       "      <th>1</th>\n",
       "      <td>2</td>\n",
       "      <td>27-02-2023</td>\n",
       "      <td>Female</td>\n",
       "      <td>26</td>\n",
       "      <td>Clothing</td>\n",
       "      <td>2</td>\n",
       "      <td>500</td>\n",
       "      <td>1000</td>\n",
       "    </tr>\n",
       "  </tbody>\n",
       "</table>\n",
       "</div>"
      ],
      "text/plain": [
       "   Transaction ID        Date  Gender  Age Product_category  Quantity  \\\n",
       "0               1  24-11-2023    Male   34           Beauty         3   \n",
       "1               2  27-02-2023  Female   26         Clothing         2   \n",
       "\n",
       "   Price_per_unit  Total_amount  \n",
       "0              50           150  \n",
       "1             500          1000  "
      ]
     },
     "execution_count": 25,
     "metadata": {},
     "output_type": "execute_result"
    }
   ],
   "source": [
    "#deleting the customer id column from the dataset \n",
    "df.drop(labels=['Customer ID'],axis=1).head(2)"
   ]
  },
  {
   "cell_type": "code",
   "execution_count": 26,
   "id": "d6c7fea8",
   "metadata": {},
   "outputs": [
    {
     "data": {
      "text/html": [
       "<div>\n",
       "<style scoped>\n",
       "    .dataframe tbody tr th:only-of-type {\n",
       "        vertical-align: middle;\n",
       "    }\n",
       "\n",
       "    .dataframe tbody tr th {\n",
       "        vertical-align: top;\n",
       "    }\n",
       "\n",
       "    .dataframe thead th {\n",
       "        text-align: right;\n",
       "    }\n",
       "</style>\n",
       "<table border=\"1\" class=\"dataframe\">\n",
       "  <thead>\n",
       "    <tr style=\"text-align: right;\">\n",
       "      <th></th>\n",
       "      <th>Date</th>\n",
       "      <th>Gender</th>\n",
       "      <th>Age</th>\n",
       "      <th>Product_category</th>\n",
       "      <th>Quantity</th>\n",
       "      <th>Price_per_unit</th>\n",
       "      <th>Total_amount</th>\n",
       "    </tr>\n",
       "  </thead>\n",
       "  <tbody>\n",
       "    <tr>\n",
       "      <th>0</th>\n",
       "      <td>24-11-2023</td>\n",
       "      <td>Male</td>\n",
       "      <td>34</td>\n",
       "      <td>Beauty</td>\n",
       "      <td>3</td>\n",
       "      <td>50</td>\n",
       "      <td>150</td>\n",
       "    </tr>\n",
       "    <tr>\n",
       "      <th>1</th>\n",
       "      <td>27-02-2023</td>\n",
       "      <td>Female</td>\n",
       "      <td>26</td>\n",
       "      <td>Clothing</td>\n",
       "      <td>2</td>\n",
       "      <td>500</td>\n",
       "      <td>1000</td>\n",
       "    </tr>\n",
       "  </tbody>\n",
       "</table>\n",
       "</div>"
      ],
      "text/plain": [
       "         Date  Gender  Age Product_category  Quantity  Price_per_unit  \\\n",
       "0  24-11-2023    Male   34           Beauty         3              50   \n",
       "1  27-02-2023  Female   26         Clothing         2             500   \n",
       "\n",
       "   Total_amount  \n",
       "0           150  \n",
       "1          1000  "
      ]
     },
     "execution_count": 26,
     "metadata": {},
     "output_type": "execute_result"
    }
   ],
   "source": [
    "#deleting the customer id and transaction id column from the dataset\n",
    "df.drop(labels=['Customer ID','Transaction ID'],axis=1).head(2)"
   ]
  },
  {
   "cell_type": "markdown",
   "id": "cb99acb1",
   "metadata": {},
   "source": [
    "# Descriptive statistics"
   ]
  },
  {
   "cell_type": "code",
   "execution_count": 27,
   "id": "5861e7f8",
   "metadata": {},
   "outputs": [
    {
     "name": "stdout",
     "output_type": "stream",
     "text": [
      "18\n",
      "64\n",
      "41.392\n"
     ]
    }
   ],
   "source": [
    "#seeing the minimum,maximum and mean value of the age column in the dataset \n",
    "print (df['Age'].min())\n",
    "print (df['Age'].max())\n",
    "print (df['Age'].mean())"
   ]
  },
  {
   "cell_type": "code",
   "execution_count": 28,
   "id": "3a2254e3",
   "metadata": {},
   "outputs": [
    {
     "name": "stdout",
     "output_type": "stream",
     "text": [
      "25\n",
      "2000\n",
      "456.0\n"
     ]
    }
   ],
   "source": [
    "#seeing the minimum,maximum and mean value of the total amount column in the dataset  \n",
    "print (df['Total_amount'].min())\n",
    "print (df['Total_amount'].max())\n",
    "print (df['Total_amount'].mean())"
   ]
  },
  {
   "cell_type": "code",
   "execution_count": 29,
   "id": "271a5995",
   "metadata": {},
   "outputs": [
    {
     "data": {
      "text/plain": [
       "Gender\n",
       "Female    510\n",
       "Male      490\n",
       "Name: count, dtype: int64"
      ]
     },
     "execution_count": 29,
     "metadata": {},
     "output_type": "execute_result"
    }
   ],
   "source": [
    "#how many genders are present in the dataset and also seeing the no.of countsof the perticular gender \n",
    "df['Gender'].value_counts()"
   ]
  },
  {
   "cell_type": "code",
   "execution_count": 30,
   "id": "bdb06bf8",
   "metadata": {},
   "outputs": [
    {
     "data": {
      "text/plain": [
       "Product_category\n",
       "Clothing       351\n",
       "Electronics    342\n",
       "Beauty         307\n",
       "Name: count, dtype: int64"
      ]
     },
     "execution_count": 30,
     "metadata": {},
     "output_type": "execute_result"
    }
   ],
   "source": [
    "#how many product categories are present in the dataset and also seeing the no. of counts of the perticular product \n",
    "df['Product_category'].value_counts()"
   ]
  },
  {
   "cell_type": "code",
   "execution_count": 31,
   "id": "aa1c5bf0",
   "metadata": {},
   "outputs": [
    {
     "data": {
      "text/plain": [
       "Age\n",
       "43    31\n",
       "64    31\n",
       "57    30\n",
       "51    30\n",
       "34    28\n",
       "54    28\n",
       "22    27\n",
       "62    27\n",
       "42    26\n",
       "47    26\n",
       "46    25\n",
       "23    24\n",
       "40    24\n",
       "50    23\n",
       "27    23\n",
       "52    22\n",
       "60    22\n",
       "30    22\n",
       "26    22\n",
       "31    22\n",
       "35    22\n",
       "28    21\n",
       "41    21\n",
       "18    21\n",
       "55    21\n",
       "20    21\n",
       "19    21\n",
       "21    20\n",
       "25    20\n",
       "49    19\n",
       "56    19\n",
       "32    19\n",
       "38    19\n",
       "61    18\n",
       "39    18\n",
       "48    18\n",
       "63    17\n",
       "45    17\n",
       "59    17\n",
       "53    17\n",
       "29    16\n",
       "37    16\n",
       "36    15\n",
       "44    15\n",
       "24    15\n",
       "58    14\n",
       "33    10\n",
       "Name: count, dtype: int64"
      ]
     },
     "execution_count": 31,
     "metadata": {},
     "output_type": "execute_result"
    }
   ],
   "source": [
    "#how many ages customers are present in the dataset and also seeing the no.of counts of the perticular age\n",
    "df['Age'].value_counts()"
   ]
  },
  {
   "cell_type": "code",
   "execution_count": 32,
   "id": "57b618e0",
   "metadata": {},
   "outputs": [
    {
     "data": {
      "text/plain": [
       "count    1000.00000\n",
       "mean       41.39200\n",
       "std        13.68143\n",
       "min        18.00000\n",
       "25%        29.00000\n",
       "50%        42.00000\n",
       "75%        53.00000\n",
       "max        64.00000\n",
       "Name: Age, dtype: float64"
      ]
     },
     "execution_count": 32,
     "metadata": {},
     "output_type": "execute_result"
    }
   ],
   "source": [
    "#seeing the count ,mean,min values and more other information of the age column in data set\n",
    "df['Age'].describe()"
   ]
  },
  {
   "cell_type": "code",
   "execution_count": 33,
   "id": "d5257b1e",
   "metadata": {},
   "outputs": [
    {
     "data": {
      "text/plain": [
       "count    1000.000000\n",
       "mean        2.514000\n",
       "std         1.132734\n",
       "min         1.000000\n",
       "25%         1.000000\n",
       "50%         3.000000\n",
       "75%         4.000000\n",
       "max         4.000000\n",
       "Name: Quantity, dtype: float64"
      ]
     },
     "execution_count": 33,
     "metadata": {},
     "output_type": "execute_result"
    }
   ],
   "source": [
    "#seeing the count ,mean,min values and more other information of the quantity column in data set\n",
    "df['Quantity'].describe()"
   ]
  },
  {
   "cell_type": "code",
   "execution_count": 34,
   "id": "5304ca75",
   "metadata": {},
   "outputs": [
    {
     "data": {
      "text/plain": [
       "count         1000\n",
       "unique           3\n",
       "top       Clothing\n",
       "freq           351\n",
       "Name: Product_category, dtype: object"
      ]
     },
     "execution_count": 34,
     "metadata": {},
     "output_type": "execute_result"
    }
   ],
   "source": [
    "#seeing the count ,unique values,heighest purchased product  and more other information of the product category column\n",
    "df['Product_category'].describe()"
   ]
  },
  {
   "cell_type": "code",
   "execution_count": 35,
   "id": "49479288",
   "metadata": {},
   "outputs": [
    {
     "data": {
      "text/plain": [
       "count    1000.000000\n",
       "mean      179.890000\n",
       "std       189.681356\n",
       "min        25.000000\n",
       "25%        30.000000\n",
       "50%        50.000000\n",
       "75%       300.000000\n",
       "max       500.000000\n",
       "Name: Price_per_unit, dtype: float64"
      ]
     },
     "execution_count": 35,
     "metadata": {},
     "output_type": "execute_result"
    }
   ],
   "source": [
    "#seeing the count ,mean,min values and more other information of the price per unit column in data set\n",
    "df['Price_per_unit'].describe()"
   ]
  },
  {
   "cell_type": "code",
   "execution_count": 36,
   "id": "b324acbb",
   "metadata": {},
   "outputs": [
    {
     "data": {
      "text/plain": [
       "count    1000.000000\n",
       "mean      456.000000\n",
       "std       559.997632\n",
       "min        25.000000\n",
       "25%        60.000000\n",
       "50%       135.000000\n",
       "75%       900.000000\n",
       "max      2000.000000\n",
       "Name: Total_amount, dtype: float64"
      ]
     },
     "execution_count": 36,
     "metadata": {},
     "output_type": "execute_result"
    }
   ],
   "source": [
    "#seeing the count ,mean,min values and more other information of the total amount column in data set\n",
    "df['Total_amount'].describe()"
   ]
  },
  {
   "cell_type": "code",
   "execution_count": 37,
   "id": "fa49abf2",
   "metadata": {},
   "outputs": [
    {
     "data": {
      "text/plain": [
       "count           1000\n",
       "unique           345\n",
       "top       16-05-2023\n",
       "freq              11\n",
       "Name: Date, dtype: object"
      ]
     },
     "execution_count": 37,
     "metadata": {},
     "output_type": "execute_result"
    }
   ],
   "source": [
    "#seeing the count ,mean,min values and more other information of the date column in data set\n",
    "df['Date'].describe()"
   ]
  },
  {
   "cell_type": "code",
   "execution_count": 38,
   "id": "86f5f5d4",
   "metadata": {},
   "outputs": [
    {
     "data": {
      "text/plain": [
       "count       1000\n",
       "unique         2\n",
       "top       Female\n",
       "freq         510\n",
       "Name: Gender, dtype: object"
      ]
     },
     "execution_count": 38,
     "metadata": {},
     "output_type": "execute_result"
    }
   ],
   "source": [
    "#seeing the count ,unique values,moreshoping done by which gender  and more other information of the gendercolumn\n",
    "df['Gender'].describe()"
   ]
  },
  {
   "cell_type": "markdown",
   "id": "6f9394a5",
   "metadata": {},
   "source": [
    "# customer and product analysis"
   ]
  },
  {
   "cell_type": "code",
   "execution_count": 39,
   "id": "494f5270",
   "metadata": {},
   "outputs": [
    {
     "data": {
      "text/html": [
       "<div>\n",
       "<style scoped>\n",
       "    .dataframe tbody tr th:only-of-type {\n",
       "        vertical-align: middle;\n",
       "    }\n",
       "\n",
       "    .dataframe tbody tr th {\n",
       "        vertical-align: top;\n",
       "    }\n",
       "\n",
       "    .dataframe thead th {\n",
       "        text-align: right;\n",
       "    }\n",
       "</style>\n",
       "<table border=\"1\" class=\"dataframe\">\n",
       "  <thead>\n",
       "    <tr style=\"text-align: right;\">\n",
       "      <th></th>\n",
       "      <th>Transaction ID</th>\n",
       "      <th>Date</th>\n",
       "      <th>Customer ID</th>\n",
       "      <th>Gender</th>\n",
       "      <th>Age</th>\n",
       "      <th>Product_category</th>\n",
       "      <th>Quantity</th>\n",
       "      <th>Price_per_unit</th>\n",
       "      <th>Total_amount</th>\n",
       "    </tr>\n",
       "  </thead>\n",
       "  <tbody>\n",
       "    <tr>\n",
       "      <th>304</th>\n",
       "      <td>305</td>\n",
       "      <td>16-05-2023</td>\n",
       "      <td>CUST305</td>\n",
       "      <td>Female</td>\n",
       "      <td>18</td>\n",
       "      <td>Beauty</td>\n",
       "      <td>1</td>\n",
       "      <td>30</td>\n",
       "      <td>30</td>\n",
       "    </tr>\n",
       "    <tr>\n",
       "      <th>168</th>\n",
       "      <td>169</td>\n",
       "      <td>17-11-2023</td>\n",
       "      <td>CUST169</td>\n",
       "      <td>Male</td>\n",
       "      <td>18</td>\n",
       "      <td>Beauty</td>\n",
       "      <td>3</td>\n",
       "      <td>500</td>\n",
       "      <td>1500</td>\n",
       "    </tr>\n",
       "    <tr>\n",
       "      <th>537</th>\n",
       "      <td>538</td>\n",
       "      <td>17-09-2023</td>\n",
       "      <td>CUST538</td>\n",
       "      <td>Male</td>\n",
       "      <td>18</td>\n",
       "      <td>Clothing</td>\n",
       "      <td>3</td>\n",
       "      <td>50</td>\n",
       "      <td>150</td>\n",
       "    </tr>\n",
       "    <tr>\n",
       "      <th>147</th>\n",
       "      <td>148</td>\n",
       "      <td>09-05-2023</td>\n",
       "      <td>CUST148</td>\n",
       "      <td>Male</td>\n",
       "      <td>18</td>\n",
       "      <td>Clothing</td>\n",
       "      <td>2</td>\n",
       "      <td>30</td>\n",
       "      <td>60</td>\n",
       "    </tr>\n",
       "    <tr>\n",
       "      <th>36</th>\n",
       "      <td>37</td>\n",
       "      <td>23-05-2023</td>\n",
       "      <td>CUST037</td>\n",
       "      <td>Female</td>\n",
       "      <td>18</td>\n",
       "      <td>Beauty</td>\n",
       "      <td>3</td>\n",
       "      <td>25</td>\n",
       "      <td>75</td>\n",
       "    </tr>\n",
       "    <tr>\n",
       "      <th>282</th>\n",
       "      <td>283</td>\n",
       "      <td>08-05-2023</td>\n",
       "      <td>CUST283</td>\n",
       "      <td>Female</td>\n",
       "      <td>18</td>\n",
       "      <td>Electronics</td>\n",
       "      <td>1</td>\n",
       "      <td>500</td>\n",
       "      <td>500</td>\n",
       "    </tr>\n",
       "    <tr>\n",
       "      <th>513</th>\n",
       "      <td>514</td>\n",
       "      <td>01-03-2023</td>\n",
       "      <td>CUST514</td>\n",
       "      <td>Female</td>\n",
       "      <td>18</td>\n",
       "      <td>Electronics</td>\n",
       "      <td>1</td>\n",
       "      <td>300</td>\n",
       "      <td>300</td>\n",
       "    </tr>\n",
       "    <tr>\n",
       "      <th>846</th>\n",
       "      <td>847</td>\n",
       "      <td>08-04-2023</td>\n",
       "      <td>CUST847</td>\n",
       "      <td>Female</td>\n",
       "      <td>18</td>\n",
       "      <td>Electronics</td>\n",
       "      <td>4</td>\n",
       "      <td>300</td>\n",
       "      <td>1200</td>\n",
       "    </tr>\n",
       "    <tr>\n",
       "      <th>678</th>\n",
       "      <td>679</td>\n",
       "      <td>11-01-2023</td>\n",
       "      <td>CUST679</td>\n",
       "      <td>Female</td>\n",
       "      <td>18</td>\n",
       "      <td>Beauty</td>\n",
       "      <td>3</td>\n",
       "      <td>30</td>\n",
       "      <td>90</td>\n",
       "    </tr>\n",
       "    <tr>\n",
       "      <th>468</th>\n",
       "      <td>469</td>\n",
       "      <td>08-05-2023</td>\n",
       "      <td>CUST469</td>\n",
       "      <td>Male</td>\n",
       "      <td>18</td>\n",
       "      <td>Beauty</td>\n",
       "      <td>3</td>\n",
       "      <td>25</td>\n",
       "      <td>75</td>\n",
       "    </tr>\n",
       "  </tbody>\n",
       "</table>\n",
       "</div>"
      ],
      "text/plain": [
       "     Transaction ID        Date Customer ID  Gender  Age Product_category  \\\n",
       "304             305  16-05-2023     CUST305  Female   18           Beauty   \n",
       "168             169  17-11-2023     CUST169    Male   18           Beauty   \n",
       "537             538  17-09-2023     CUST538    Male   18         Clothing   \n",
       "147             148  09-05-2023     CUST148    Male   18         Clothing   \n",
       "36               37  23-05-2023     CUST037  Female   18           Beauty   \n",
       "282             283  08-05-2023     CUST283  Female   18      Electronics   \n",
       "513             514  01-03-2023     CUST514  Female   18      Electronics   \n",
       "846             847  08-04-2023     CUST847  Female   18      Electronics   \n",
       "678             679  11-01-2023     CUST679  Female   18           Beauty   \n",
       "468             469  08-05-2023     CUST469    Male   18           Beauty   \n",
       "\n",
       "     Quantity  Price_per_unit  Total_amount  \n",
       "304         1              30            30  \n",
       "168         3             500          1500  \n",
       "537         3              50           150  \n",
       "147         2              30            60  \n",
       "36          3              25            75  \n",
       "282         1             500           500  \n",
       "513         1             300           300  \n",
       "846         4             300          1200  \n",
       "678         3              30            90  \n",
       "468         3              25            75  "
      ]
     },
     "execution_count": 39,
     "metadata": {},
     "output_type": "execute_result"
    }
   ],
   "source": [
    "#sorting the value of age in ascending orser\n",
    "df.sort_values('Age',ascending=True).head(10)"
   ]
  },
  {
   "cell_type": "code",
   "execution_count": 40,
   "id": "7d44ecb9",
   "metadata": {},
   "outputs": [
    {
     "data": {
      "text/html": [
       "<div>\n",
       "<style scoped>\n",
       "    .dataframe tbody tr th:only-of-type {\n",
       "        vertical-align: middle;\n",
       "    }\n",
       "\n",
       "    .dataframe tbody tr th {\n",
       "        vertical-align: top;\n",
       "    }\n",
       "\n",
       "    .dataframe thead th {\n",
       "        text-align: right;\n",
       "    }\n",
       "</style>\n",
       "<table border=\"1\" class=\"dataframe\">\n",
       "  <thead>\n",
       "    <tr style=\"text-align: right;\">\n",
       "      <th></th>\n",
       "      <th>Transaction ID</th>\n",
       "      <th>Date</th>\n",
       "      <th>Customer ID</th>\n",
       "      <th>Age</th>\n",
       "      <th>Product_category</th>\n",
       "      <th>Quantity</th>\n",
       "      <th>Price_per_unit</th>\n",
       "      <th>Total_amount</th>\n",
       "    </tr>\n",
       "    <tr>\n",
       "      <th>Gender</th>\n",
       "      <th></th>\n",
       "      <th></th>\n",
       "      <th></th>\n",
       "      <th></th>\n",
       "      <th></th>\n",
       "      <th></th>\n",
       "      <th></th>\n",
       "      <th></th>\n",
       "    </tr>\n",
       "  </thead>\n",
       "  <tbody>\n",
       "    <tr>\n",
       "      <th>Female</th>\n",
       "      <td>510</td>\n",
       "      <td>510</td>\n",
       "      <td>510</td>\n",
       "      <td>510</td>\n",
       "      <td>510</td>\n",
       "      <td>510</td>\n",
       "      <td>510</td>\n",
       "      <td>510</td>\n",
       "    </tr>\n",
       "    <tr>\n",
       "      <th>Male</th>\n",
       "      <td>490</td>\n",
       "      <td>490</td>\n",
       "      <td>490</td>\n",
       "      <td>490</td>\n",
       "      <td>490</td>\n",
       "      <td>490</td>\n",
       "      <td>490</td>\n",
       "      <td>490</td>\n",
       "    </tr>\n",
       "  </tbody>\n",
       "</table>\n",
       "</div>"
      ],
      "text/plain": [
       "        Transaction ID  Date  Customer ID  Age  Product_category  Quantity  \\\n",
       "Gender                                                                       \n",
       "Female             510   510          510  510               510       510   \n",
       "Male               490   490          490  490               490       490   \n",
       "\n",
       "        Price_per_unit  Total_amount  \n",
       "Gender                                \n",
       "Female             510           510  \n",
       "Male               490           490  "
      ]
     },
     "execution_count": 40,
     "metadata": {},
     "output_type": "execute_result"
    }
   ],
   "source": [
    "#how many genders are present in the dataset and also seeing the no.of counts of the perticular gender(by usig groupby function)\n",
    "df.groupby('Gender').count()"
   ]
  },
  {
   "cell_type": "code",
   "execution_count": 41,
   "id": "398e78fb",
   "metadata": {},
   "outputs": [
    {
     "data": {
      "text/plain": [
       "Gender  Product_category\n",
       "Male    Clothing            177\n",
       "Female  Clothing            174\n",
       "Male    Electronics         172\n",
       "Female  Electronics         170\n",
       "        Beauty              166\n",
       "Male    Beauty              141\n",
       "Name: count, dtype: int64"
      ]
     },
     "execution_count": 41,
     "metadata": {},
     "output_type": "execute_result"
    }
   ],
   "source": [
    "#which gender has purchased which products and how much has it purchased  \n",
    "df[['Gender','Product_category']].value_counts()"
   ]
  },
  {
   "cell_type": "code",
   "execution_count": 42,
   "id": "e1eab26e",
   "metadata": {},
   "outputs": [
    {
     "data": {
      "text/plain": [
       "Age  Product_category\n",
       "51   Electronics         14\n",
       "64   Clothing            13\n",
       "46   Beauty              13\n",
       "31   Electronics         13\n",
       "43   Clothing            13\n",
       "                         ..\n",
       "53   Beauty               2\n",
       "37   Beauty               2\n",
       "44   Beauty               2\n",
       "58   Electronics          2\n",
       "33   Electronics          1\n",
       "Name: count, Length: 141, dtype: int64"
      ]
     },
     "execution_count": 42,
     "metadata": {},
     "output_type": "execute_result"
    }
   ],
   "source": [
    "#which age customers  has purchased which products and how much has it purchased\n",
    "df[['Age','Product_category']].value_counts()"
   ]
  },
  {
   "cell_type": "code",
   "execution_count": 43,
   "id": "b80821e3",
   "metadata": {},
   "outputs": [
    {
     "data": {
      "text/html": [
       "<div>\n",
       "<style scoped>\n",
       "    .dataframe tbody tr th:only-of-type {\n",
       "        vertical-align: middle;\n",
       "    }\n",
       "\n",
       "    .dataframe tbody tr th {\n",
       "        vertical-align: top;\n",
       "    }\n",
       "\n",
       "    .dataframe thead th {\n",
       "        text-align: right;\n",
       "    }\n",
       "</style>\n",
       "<table border=\"1\" class=\"dataframe\">\n",
       "  <thead>\n",
       "    <tr style=\"text-align: right;\">\n",
       "      <th></th>\n",
       "      <th>Transaction ID</th>\n",
       "      <th>Date</th>\n",
       "      <th>Customer ID</th>\n",
       "      <th>Age</th>\n",
       "      <th>Quantity</th>\n",
       "      <th>Price_per_unit</th>\n",
       "      <th>Total_amount</th>\n",
       "      <th>Gender_Female</th>\n",
       "      <th>Gender_Male</th>\n",
       "      <th>Product_category_Beauty</th>\n",
       "      <th>Product_category_Clothing</th>\n",
       "      <th>Product_category_Electronics</th>\n",
       "    </tr>\n",
       "  </thead>\n",
       "  <tbody>\n",
       "    <tr>\n",
       "      <th>0</th>\n",
       "      <td>1</td>\n",
       "      <td>24-11-2023</td>\n",
       "      <td>CUST001</td>\n",
       "      <td>34</td>\n",
       "      <td>3</td>\n",
       "      <td>50</td>\n",
       "      <td>150</td>\n",
       "      <td>False</td>\n",
       "      <td>True</td>\n",
       "      <td>True</td>\n",
       "      <td>False</td>\n",
       "      <td>False</td>\n",
       "    </tr>\n",
       "    <tr>\n",
       "      <th>1</th>\n",
       "      <td>2</td>\n",
       "      <td>27-02-2023</td>\n",
       "      <td>CUST002</td>\n",
       "      <td>26</td>\n",
       "      <td>2</td>\n",
       "      <td>500</td>\n",
       "      <td>1000</td>\n",
       "      <td>True</td>\n",
       "      <td>False</td>\n",
       "      <td>False</td>\n",
       "      <td>True</td>\n",
       "      <td>False</td>\n",
       "    </tr>\n",
       "    <tr>\n",
       "      <th>2</th>\n",
       "      <td>3</td>\n",
       "      <td>13-01-2023</td>\n",
       "      <td>CUST003</td>\n",
       "      <td>50</td>\n",
       "      <td>1</td>\n",
       "      <td>30</td>\n",
       "      <td>30</td>\n",
       "      <td>False</td>\n",
       "      <td>True</td>\n",
       "      <td>False</td>\n",
       "      <td>False</td>\n",
       "      <td>True</td>\n",
       "    </tr>\n",
       "    <tr>\n",
       "      <th>3</th>\n",
       "      <td>4</td>\n",
       "      <td>21-05-2023</td>\n",
       "      <td>CUST004</td>\n",
       "      <td>37</td>\n",
       "      <td>1</td>\n",
       "      <td>500</td>\n",
       "      <td>500</td>\n",
       "      <td>False</td>\n",
       "      <td>True</td>\n",
       "      <td>False</td>\n",
       "      <td>True</td>\n",
       "      <td>False</td>\n",
       "    </tr>\n",
       "    <tr>\n",
       "      <th>4</th>\n",
       "      <td>5</td>\n",
       "      <td>06-05-2023</td>\n",
       "      <td>CUST005</td>\n",
       "      <td>30</td>\n",
       "      <td>2</td>\n",
       "      <td>50</td>\n",
       "      <td>100</td>\n",
       "      <td>False</td>\n",
       "      <td>True</td>\n",
       "      <td>True</td>\n",
       "      <td>False</td>\n",
       "      <td>False</td>\n",
       "    </tr>\n",
       "  </tbody>\n",
       "</table>\n",
       "</div>"
      ],
      "text/plain": [
       "   Transaction ID        Date Customer ID  Age  Quantity  Price_per_unit  \\\n",
       "0               1  24-11-2023     CUST001   34         3              50   \n",
       "1               2  27-02-2023     CUST002   26         2             500   \n",
       "2               3  13-01-2023     CUST003   50         1              30   \n",
       "3               4  21-05-2023     CUST004   37         1             500   \n",
       "4               5  06-05-2023     CUST005   30         2              50   \n",
       "\n",
       "   Total_amount  Gender_Female  Gender_Male  Product_category_Beauty  \\\n",
       "0           150          False         True                     True   \n",
       "1          1000           True        False                    False   \n",
       "2            30          False         True                    False   \n",
       "3           500          False         True                    False   \n",
       "4           100          False         True                     True   \n",
       "\n",
       "   Product_category_Clothing  Product_category_Electronics  \n",
       "0                      False                         False  \n",
       "1                       True                         False  \n",
       "2                      False                          True  \n",
       "3                       True                         False  \n",
       "4                      False                         False  "
      ]
     },
     "execution_count": 43,
     "metadata": {},
     "output_type": "execute_result"
    }
   ],
   "source": [
    "#dividing each level of the categorical variable gets its own column \n",
    "df_dummies = pd.get_dummies(df, columns=['Gender','Product_category'])\n",
    "df_dummies.head()"
   ]
  },
  {
   "cell_type": "code",
   "execution_count": 44,
   "id": "84af49dd",
   "metadata": {},
   "outputs": [],
   "source": [
    "#diving the age column into the age groups \n",
    "def age_groups(age):\n",
    "    if age>= 18 and age<=24:\n",
    "        return '18 to 24'\n",
    "    elif age>=25 and age<=34: \n",
    "        return '25 to 34'\n",
    "    elif age>=35 and age<=44:\n",
    "        return '35 to 44'\n",
    "    elif age>=45 and age<=54:\n",
    "        return '45 to 54'\n",
    "    elif age>=55 and age<=64:  \n",
    "        return '55 to 64'\n",
    "df['age_group']=df['Age'].apply(age_groups)    \n",
    "            \n"
   ]
  },
  {
   "cell_type": "code",
   "execution_count": 45,
   "id": "614f4548",
   "metadata": {},
   "outputs": [
    {
     "data": {
      "text/plain": [
       "(1000, 10)"
      ]
     },
     "execution_count": 45,
     "metadata": {},
     "output_type": "execute_result"
    }
   ],
   "source": [
    "df.shape"
   ]
  },
  {
   "cell_type": "code",
   "execution_count": 46,
   "id": "3bf72a21",
   "metadata": {},
   "outputs": [
    {
     "data": {
      "text/html": [
       "<div>\n",
       "<style scoped>\n",
       "    .dataframe tbody tr th:only-of-type {\n",
       "        vertical-align: middle;\n",
       "    }\n",
       "\n",
       "    .dataframe tbody tr th {\n",
       "        vertical-align: top;\n",
       "    }\n",
       "\n",
       "    .dataframe thead th {\n",
       "        text-align: right;\n",
       "    }\n",
       "</style>\n",
       "<table border=\"1\" class=\"dataframe\">\n",
       "  <thead>\n",
       "    <tr style=\"text-align: right;\">\n",
       "      <th></th>\n",
       "      <th>Age</th>\n",
       "      <th>age_group</th>\n",
       "    </tr>\n",
       "  </thead>\n",
       "  <tbody>\n",
       "    <tr>\n",
       "      <th>0</th>\n",
       "      <td>34</td>\n",
       "      <td>25 to 34</td>\n",
       "    </tr>\n",
       "    <tr>\n",
       "      <th>1</th>\n",
       "      <td>26</td>\n",
       "      <td>25 to 34</td>\n",
       "    </tr>\n",
       "    <tr>\n",
       "      <th>2</th>\n",
       "      <td>50</td>\n",
       "      <td>45 to 54</td>\n",
       "    </tr>\n",
       "    <tr>\n",
       "      <th>3</th>\n",
       "      <td>37</td>\n",
       "      <td>35 to 44</td>\n",
       "    </tr>\n",
       "    <tr>\n",
       "      <th>4</th>\n",
       "      <td>30</td>\n",
       "      <td>25 to 34</td>\n",
       "    </tr>\n",
       "    <tr>\n",
       "      <th>5</th>\n",
       "      <td>45</td>\n",
       "      <td>45 to 54</td>\n",
       "    </tr>\n",
       "    <tr>\n",
       "      <th>6</th>\n",
       "      <td>46</td>\n",
       "      <td>45 to 54</td>\n",
       "    </tr>\n",
       "    <tr>\n",
       "      <th>7</th>\n",
       "      <td>30</td>\n",
       "      <td>25 to 34</td>\n",
       "    </tr>\n",
       "    <tr>\n",
       "      <th>8</th>\n",
       "      <td>63</td>\n",
       "      <td>55 to 64</td>\n",
       "    </tr>\n",
       "    <tr>\n",
       "      <th>9</th>\n",
       "      <td>52</td>\n",
       "      <td>45 to 54</td>\n",
       "    </tr>\n",
       "  </tbody>\n",
       "</table>\n",
       "</div>"
      ],
      "text/plain": [
       "   Age age_group\n",
       "0   34  25 to 34\n",
       "1   26  25 to 34\n",
       "2   50  45 to 54\n",
       "3   37  35 to 44\n",
       "4   30  25 to 34\n",
       "5   45  45 to 54\n",
       "6   46  45 to 54\n",
       "7   30  25 to 34\n",
       "8   63  55 to 64\n",
       "9   52  45 to 54"
      ]
     },
     "execution_count": 46,
     "metadata": {},
     "output_type": "execute_result"
    }
   ],
   "source": [
    "#seeing the first 10 rows details of age and age_group\n",
    "df[['Age','age_group']].head(10)"
   ]
  },
  {
   "cell_type": "code",
   "execution_count": 47,
   "id": "e0ad23e7",
   "metadata": {},
   "outputs": [
    {
     "data": {
      "text/plain": [
       "age_group\n",
       "45 to 54    73\n",
       "25 to 34    68\n",
       "55 to 64    62\n",
       "18 to 24    53\n",
       "35 to 44    51\n",
       "Name: count, dtype: int64"
      ]
     },
     "execution_count": 47,
     "metadata": {},
     "output_type": "execute_result"
    }
   ],
   "source": [
    "#which age group customers purchased the beauty product most \n",
    "df[df.Product_category=='Beauty'].age_group.value_counts().sort_values(ascending=False)\n"
   ]
  },
  {
   "cell_type": "code",
   "execution_count": 48,
   "id": "dafc5562",
   "metadata": {},
   "outputs": [
    {
     "data": {
      "text/plain": [
       "age_group\n",
       "55 to 64    80\n",
       "35 to 44    79\n",
       "45 to 54    74\n",
       "25 to 34    73\n",
       "18 to 24    45\n",
       "Name: count, dtype: int64"
      ]
     },
     "execution_count": 48,
     "metadata": {},
     "output_type": "execute_result"
    }
   ],
   "source": [
    "#which age group customers purchased the clothing product most \n",
    "df[df.Product_category=='Clothing'].age_group.value_counts().sort_values(ascending=False)"
   ]
  },
  {
   "cell_type": "code",
   "execution_count": 49,
   "id": "9073bfd4",
   "metadata": {},
   "outputs": [
    {
     "data": {
      "text/plain": [
       "age_group\n",
       "45 to 54    78\n",
       "35 to 44    77\n",
       "55 to 64    74\n",
       "25 to 34    62\n",
       "18 to 24    51\n",
       "Name: count, dtype: int64"
      ]
     },
     "execution_count": 49,
     "metadata": {},
     "output_type": "execute_result"
    }
   ],
   "source": [
    "#which age group customers purchased the electroics product most \n",
    "df[df.Product_category=='Electronics'].age_group.value_counts().sort_values(ascending=False)"
   ]
  },
  {
   "cell_type": "markdown",
   "id": "7e149009",
   "metadata": {},
   "source": [
    "# Time series analysis"
   ]
  },
  {
   "cell_type": "code",
   "execution_count": 50,
   "id": "92d5c492",
   "metadata": {},
   "outputs": [
    {
     "name": "stdout",
     "output_type": "stream",
     "text": [
      "On 01-01-2023, the product category 'Clothing' was purchased the most with 2 purchases.\n"
     ]
    }
   ],
   "source": [
    "#on the 01-01-2023 which product purchased the most and with how many purchases \n",
    "specific_date = '01-01-2023'\n",
    "specific_date_data = df[df['Date'] == specific_date]\n",
    "product_category_counts = specific_date_data['Product_category'].value_counts()\n",
    "most_purchased_category = product_category_counts.idxmax()\n",
    "count_most_purchased_category = product_category_counts.max()\n",
    "print(f\"On {specific_date}, the product category '{most_purchased_category}' was purchased the most with {count_most_purchased_category} purchases.\")"
   ]
  },
  {
   "cell_type": "code",
   "execution_count": 51,
   "id": "dcc00755",
   "metadata": {},
   "outputs": [
    {
     "name": "stdout",
     "output_type": "stream",
     "text": [
      "Date with the most beauty products purchased: 14-07-2023\n"
     ]
    }
   ],
   "source": [
    "#On which date the beauty product has been purchased most \n",
    "beauty = df[df['Product_category'] == 'Beauty']\n",
    "beauty_purchases_date = beauty.groupby('Date')['Quantity'].sum()\n",
    "max_beauty_purchases = beauty_purchases_date.idxmax()\n",
    "print(\"Date with the most beauty products purchased:\",max_beauty_purchases)\n",
    "\n",
    "\n"
   ]
  },
  {
   "cell_type": "code",
   "execution_count": 52,
   "id": "0581e32c",
   "metadata": {},
   "outputs": [
    {
     "name": "stdout",
     "output_type": "stream",
     "text": [
      "Date with the most clothing products purchased: 06-09-2023\n"
     ]
    }
   ],
   "source": [
    "#On which date the clothing product has been purchased most \n",
    "clothing = df[df['Product_category'] == 'Clothing']\n",
    "clothing_purchases_date = clothing.groupby('Date')['Quantity'].sum()\n",
    "max_clothing_purchases = clothing_purchases_date.idxmax()\n",
    "print(\"Date with the most clothing products purchased:\",max_clothing_purchases)\n"
   ]
  },
  {
   "cell_type": "code",
   "execution_count": 53,
   "id": "69efdd84",
   "metadata": {},
   "outputs": [
    {
     "name": "stdout",
     "output_type": "stream",
     "text": [
      "Date with the most electronics products purchased: 16-05-2023\n"
     ]
    }
   ],
   "source": [
    "#On which date the clothing product has been purchased most \n",
    "electronics = df[df['Product_category'] == 'Electronics']\n",
    "electronics_purchases_date = electronics.groupby('Date')['Quantity'].sum()\n",
    "max_electronics_purchases = electronics_purchases_date.idxmax()\n",
    "print(\"Date with the most electronics products purchased:\",max_electronics_purchases)\n"
   ]
  },
  {
   "cell_type": "markdown",
   "id": "c11ddbf3",
   "metadata": {},
   "source": [
    "# visualization"
   ]
  },
  {
   "cell_type": "code",
   "execution_count": 54,
   "id": "672a2170",
   "metadata": {},
   "outputs": [
    {
     "data": {
      "text/plain": [
       "<Axes: xlabel='Gender', ylabel='Total_amount'>"
      ]
     },
     "execution_count": 54,
     "metadata": {},
     "output_type": "execute_result"
    },
    {
     "data": {
      "image/png": "[encoded data removed]",
      "text/plain": [
       "<Figure size 640x480 with 1 Axes>"
      ]
     },
     "metadata": {},
     "output_type": "display_data"
    }
   ],
   "source": [
    "#It shows how many outliers are  present between the gender and total amount\n",
    "sns.boxplot(x='Gender',y='Total_amount',data=df)"
   ]
  },
  {
   "cell_type": "code",
   "execution_count": 55,
   "id": "900a1292",
   "metadata": {},
   "outputs": [
    {
     "data": {
      "text/plain": [
       "<Axes: xlabel='Gender', ylabel='Quantity'>"
      ]
     },
     "execution_count": 55,
     "metadata": {},
     "output_type": "execute_result"
    },
    {
     "data": {
      "image/png": "[encoded data removed]",
      "text/plain": [
       "<Figure size 640x480 with 1 Axes>"
      ]
     },
     "metadata": {},
     "output_type": "display_data"
    }
   ],
   "source": [
    "#It shows how many outliers are  present between the gender and quantity\n",
    "sns.boxplot(x='Gender',y='Quantity',data=df)"
   ]
  },
  {
   "cell_type": "code",
   "execution_count": 56,
   "id": "07885112",
   "metadata": {},
   "outputs": [
    {
     "data": {
      "image/png": "[encoded data removed]",
      "text/plain": [
       "<Figure size 640x480 with 1 Axes>"
      ]
     },
     "metadata": {},
     "output_type": "display_data"
    }
   ],
   "source": [
    "#It shows how many outliers are  present between the age and quantity\n",
    "plt.figure()\n",
    "sns.boxplot(y='Age',x='Quantity',data=df)\n",
    "plt.show()"
   ]
  },
  {
   "cell_type": "code",
   "execution_count": 57,
   "id": "fbc8d771",
   "metadata": {},
   "outputs": [
    {
     "data": {
      "image/png": "[encoded data removed]",
      "text/plain": [
       "<Figure size 640x480 with 1 Axes>"
      ]
     },
     "metadata": {},
     "output_type": "display_data"
    }
   ],
   "source": [
    "#It shows how many outliers are  present between the age and product category\n",
    "plt.figure()\n",
    "sns.boxplot(y='Age',x='Product_category',data=df)\n",
    "plt.show()"
   ]
  },
  {
   "cell_type": "code",
   "execution_count": 58,
   "id": "76a56433",
   "metadata": {},
   "outputs": [
    {
     "data": {
      "text/plain": [
       "<Axes: xlabel='Product_category', ylabel='Price_per_unit'>"
      ]
     },
     "execution_count": 58,
     "metadata": {},
     "output_type": "execute_result"
    },
    {
     "data": {
      "image/png": "[encoded data removed]",
      "text/plain": [
       "<Figure size 640x480 with 1 Axes>"
      ]
     },
     "metadata": {},
     "output_type": "display_data"
    }
   ],
   "source": [
    "#It shows how many outliers are  present between the product category and price per unit\n",
    "sns.boxplot(x='Product_category',y='Price_per_unit',data=df)"
   ]
  },
  {
   "cell_type": "code",
   "execution_count": 59,
   "id": "af200468",
   "metadata": {},
   "outputs": [
    {
     "data": {
      "text/plain": [
       "Text(0, 0.5, 'Purchase Count')"
      ]
     },
     "execution_count": 59,
     "metadata": {},
     "output_type": "execute_result"
    },
    {
     "data": {
      "image/png": "[encoded data removed]",
      "text/plain": [
       "<Figure size 640x480 with 1 Axes>"
      ]
     },
     "metadata": {},
     "output_type": "display_data"
    }
   ],
   "source": [
    "#It shows which age group customers have purchased the most\n",
    "sns.countplot(x='age_group',data=df)\n",
    "plt.title('Purchases by age group')\n",
    "plt.xlabel('Age')\n",
    "plt.ylabel('Purchase Count')"
   ]
  },
  {
   "cell_type": "code",
   "execution_count": 60,
   "id": "08451c0f",
   "metadata": {},
   "outputs": [
    {
     "data": {
      "text/plain": [
       "Text(0, 0.5, 'Purchase Count')"
      ]
     },
     "execution_count": 60,
     "metadata": {},
     "output_type": "execute_result"
    },
    {
     "data": {
      "image/png": "[encoded data removed]",
      "text/plain": [
       "<Figure size 640x480 with 1 Axes>"
      ]
     },
     "metadata": {},
     "output_type": "display_data"
    }
   ],
   "source": [
    "#It shows which age group customers have purchased the most(in order)\n",
    "sns.countplot(x='age_group',data=df,order=['18 to 24','25 to 34','35 to 44','45 to 54','55 to 64'])\n",
    "plt.title('Purchases by age group')\n",
    "plt.xlabel('Age')\n",
    "plt.ylabel('Purchase Count')"
   ]
  },
  {
   "cell_type": "code",
   "execution_count": 61,
   "id": "8f369aa5",
   "metadata": {},
   "outputs": [
    {
     "data": {
      "image/png": "[encoded data removed]",
      "text/plain": [
       "<Figure size 800x600 with 1 Axes>"
      ]
     },
     "metadata": {},
     "output_type": "display_data"
    }
   ],
   "source": [
    "#It shows outliers of the distribution of Purchase Amounts by Age Group and Gender\n",
    "plt.figure(figsize=(8, 6))\n",
    "sns.boxplot(x='age_group', y='Total_amount', hue='Gender', data=df)\n",
    "plt.title('Distribution of Purchase Amounts by Age Group and Gender')\n",
    "plt.xlabel('Age Group')\n",
    "plt.ylabel('Purchase Amount')\n",
    "plt.show()"
   ]
  },
  {
   "cell_type": "code",
   "execution_count": 62,
   "id": "94725781",
   "metadata": {},
   "outputs": [
    {
     "data": {
      "text/plain": [
       "Text(0, 0.5, 'Purchase Count')"
      ]
     },
     "execution_count": 62,
     "metadata": {},
     "output_type": "execute_result"
    },
    {
     "data": {
      "image/png": "[encoded data removed]",
      "text/plain": [
       "<Figure size 640x480 with 1 Axes>"
      ]
     },
     "metadata": {},
     "output_type": "display_data"
    }
   ],
   "source": [
    "#It shows which gender purchased the most male or female  \n",
    "sns.countplot(x='Gender',data=df)\n",
    "plt.title('Purchases by gender groups')\n",
    "plt.xlabel('Gender')\n",
    "plt.ylabel('Purchase Count')"
   ]
  },
  {
   "cell_type": "code",
   "execution_count": 63,
   "id": "f52fa356",
   "metadata": {},
   "outputs": [],
   "source": [
    "#creating the new data frame which shows only the data of product category (beauty)\n",
    "data1=df[df.Product_category=='Beauty']"
   ]
  },
  {
   "cell_type": "code",
   "execution_count": 64,
   "id": "a9200534",
   "metadata": {},
   "outputs": [
    {
     "data": {
      "text/html": [
       "<div>\n",
       "<style scoped>\n",
       "    .dataframe tbody tr th:only-of-type {\n",
       "        vertical-align: middle;\n",
       "    }\n",
       "\n",
       "    .dataframe tbody tr th {\n",
       "        vertical-align: top;\n",
       "    }\n",
       "\n",
       "    .dataframe thead th {\n",
       "        text-align: right;\n",
       "    }\n",
       "</style>\n",
       "<table border=\"1\" class=\"dataframe\">\n",
       "  <thead>\n",
       "    <tr style=\"text-align: right;\">\n",
       "      <th></th>\n",
       "      <th>Transaction ID</th>\n",
       "      <th>Date</th>\n",
       "      <th>Customer ID</th>\n",
       "      <th>Gender</th>\n",
       "      <th>Age</th>\n",
       "      <th>Product_category</th>\n",
       "      <th>Quantity</th>\n",
       "      <th>Price_per_unit</th>\n",
       "      <th>Total_amount</th>\n",
       "      <th>age_group</th>\n",
       "    </tr>\n",
       "  </thead>\n",
       "  <tbody>\n",
       "    <tr>\n",
       "      <th>0</th>\n",
       "      <td>1</td>\n",
       "      <td>24-11-2023</td>\n",
       "      <td>CUST001</td>\n",
       "      <td>Male</td>\n",
       "      <td>34</td>\n",
       "      <td>Beauty</td>\n",
       "      <td>3</td>\n",
       "      <td>50</td>\n",
       "      <td>150</td>\n",
       "      <td>25 to 34</td>\n",
       "    </tr>\n",
       "    <tr>\n",
       "      <th>4</th>\n",
       "      <td>5</td>\n",
       "      <td>06-05-2023</td>\n",
       "      <td>CUST005</td>\n",
       "      <td>Male</td>\n",
       "      <td>30</td>\n",
       "      <td>Beauty</td>\n",
       "      <td>2</td>\n",
       "      <td>50</td>\n",
       "      <td>100</td>\n",
       "      <td>25 to 34</td>\n",
       "    </tr>\n",
       "    <tr>\n",
       "      <th>5</th>\n",
       "      <td>6</td>\n",
       "      <td>25-04-2023</td>\n",
       "      <td>CUST006</td>\n",
       "      <td>Female</td>\n",
       "      <td>45</td>\n",
       "      <td>Beauty</td>\n",
       "      <td>1</td>\n",
       "      <td>30</td>\n",
       "      <td>30</td>\n",
       "      <td>45 to 54</td>\n",
       "    </tr>\n",
       "    <tr>\n",
       "      <th>11</th>\n",
       "      <td>12</td>\n",
       "      <td>30-10-2023</td>\n",
       "      <td>CUST012</td>\n",
       "      <td>Male</td>\n",
       "      <td>35</td>\n",
       "      <td>Beauty</td>\n",
       "      <td>3</td>\n",
       "      <td>25</td>\n",
       "      <td>75</td>\n",
       "      <td>35 to 44</td>\n",
       "    </tr>\n",
       "    <tr>\n",
       "      <th>20</th>\n",
       "      <td>21</td>\n",
       "      <td>14-01-2023</td>\n",
       "      <td>CUST021</td>\n",
       "      <td>Female</td>\n",
       "      <td>50</td>\n",
       "      <td>Beauty</td>\n",
       "      <td>1</td>\n",
       "      <td>500</td>\n",
       "      <td>500</td>\n",
       "      <td>45 to 54</td>\n",
       "    </tr>\n",
       "    <tr>\n",
       "      <th>...</th>\n",
       "      <td>...</td>\n",
       "      <td>...</td>\n",
       "      <td>...</td>\n",
       "      <td>...</td>\n",
       "      <td>...</td>\n",
       "      <td>...</td>\n",
       "      <td>...</td>\n",
       "      <td>...</td>\n",
       "      <td>...</td>\n",
       "      <td>...</td>\n",
       "    </tr>\n",
       "    <tr>\n",
       "      <th>981</th>\n",
       "      <td>982</td>\n",
       "      <td>19-12-2023</td>\n",
       "      <td>CUST982</td>\n",
       "      <td>Female</td>\n",
       "      <td>46</td>\n",
       "      <td>Beauty</td>\n",
       "      <td>3</td>\n",
       "      <td>30</td>\n",
       "      <td>90</td>\n",
       "      <td>45 to 54</td>\n",
       "    </tr>\n",
       "    <tr>\n",
       "      <th>989</th>\n",
       "      <td>990</td>\n",
       "      <td>25-05-2023</td>\n",
       "      <td>CUST990</td>\n",
       "      <td>Female</td>\n",
       "      <td>58</td>\n",
       "      <td>Beauty</td>\n",
       "      <td>2</td>\n",
       "      <td>500</td>\n",
       "      <td>1000</td>\n",
       "      <td>55 to 64</td>\n",
       "    </tr>\n",
       "    <tr>\n",
       "      <th>993</th>\n",
       "      <td>994</td>\n",
       "      <td>18-12-2023</td>\n",
       "      <td>CUST994</td>\n",
       "      <td>Female</td>\n",
       "      <td>51</td>\n",
       "      <td>Beauty</td>\n",
       "      <td>2</td>\n",
       "      <td>500</td>\n",
       "      <td>1000</td>\n",
       "      <td>45 to 54</td>\n",
       "    </tr>\n",
       "    <tr>\n",
       "      <th>996</th>\n",
       "      <td>997</td>\n",
       "      <td>17-11-2023</td>\n",
       "      <td>CUST997</td>\n",
       "      <td>Male</td>\n",
       "      <td>52</td>\n",
       "      <td>Beauty</td>\n",
       "      <td>3</td>\n",
       "      <td>30</td>\n",
       "      <td>90</td>\n",
       "      <td>45 to 54</td>\n",
       "    </tr>\n",
       "    <tr>\n",
       "      <th>997</th>\n",
       "      <td>998</td>\n",
       "      <td>29-10-2023</td>\n",
       "      <td>CUST998</td>\n",
       "      <td>Female</td>\n",
       "      <td>23</td>\n",
       "      <td>Beauty</td>\n",
       "      <td>4</td>\n",
       "      <td>25</td>\n",
       "      <td>100</td>\n",
       "      <td>18 to 24</td>\n",
       "    </tr>\n",
       "  </tbody>\n",
       "</table>\n",
       "<p>307 rows × 10 columns</p>\n",
       "</div>"
      ],
      "text/plain": [
       "     Transaction ID        Date Customer ID  Gender  Age Product_category  \\\n",
       "0                 1  24-11-2023     CUST001    Male   34           Beauty   \n",
       "4                 5  06-05-2023     CUST005    Male   30           Beauty   \n",
       "5                 6  25-04-2023     CUST006  Female   45           Beauty   \n",
       "11               12  30-10-2023     CUST012    Male   35           Beauty   \n",
       "20               21  14-01-2023     CUST021  Female   50           Beauty   \n",
       "..              ...         ...         ...     ...  ...              ...   \n",
       "981             982  19-12-2023     CUST982  Female   46           Beauty   \n",
       "989             990  25-05-2023     CUST990  Female   58           Beauty   \n",
       "993             994  18-12-2023     CUST994  Female   51           Beauty   \n",
       "996             997  17-11-2023     CUST997    Male   52           Beauty   \n",
       "997             998  29-10-2023     CUST998  Female   23           Beauty   \n",
       "\n",
       "     Quantity  Price_per_unit  Total_amount age_group  \n",
       "0           3              50           150  25 to 34  \n",
       "4           2              50           100  25 to 34  \n",
       "5           1              30            30  45 to 54  \n",
       "11          3              25            75  35 to 44  \n",
       "20          1             500           500  45 to 54  \n",
       "..        ...             ...           ...       ...  \n",
       "981         3              30            90  45 to 54  \n",
       "989         2             500          1000  55 to 64  \n",
       "993         2             500          1000  45 to 54  \n",
       "996         3              30            90  45 to 54  \n",
       "997         4              25           100  18 to 24  \n",
       "\n",
       "[307 rows x 10 columns]"
      ]
     },
     "execution_count": 64,
     "metadata": {},
     "output_type": "execute_result"
    }
   ],
   "source": [
    "data1"
   ]
  },
  {
   "cell_type": "code",
   "execution_count": 65,
   "id": "23086572",
   "metadata": {},
   "outputs": [
    {
     "data": {
      "text/plain": [
       "Text(0.5, 1.0, 'Beauty products purchesed by males v/s female ')"
      ]
     },
     "execution_count": 65,
     "metadata": {},
     "output_type": "execute_result"
    },
    {
     "data": {
      "image/png": "[encoded data removed]",
      "text/plain": [
       "<Figure size 800x600 with 1 Axes>"
      ]
     },
     "metadata": {},
     "output_type": "display_data"
    }
   ],
   "source": [
    "#It shows which gender purchased the beauty product most male or female \n",
    "plt.figure(figsize=(8,6))\n",
    "data1.Gender.value_counts().plot.bar()\n",
    "plt.ylabel('Beauty')\n",
    "plt.title('Beauty products purchesed by males v/s female ')"
   ]
  },
  {
   "cell_type": "code",
   "execution_count": 66,
   "id": "4a22da59",
   "metadata": {},
   "outputs": [],
   "source": [
    "#creating the new data frame which shows only the data of product category (clothing)\n",
    "data2=df[df.Product_category=='Clothing']"
   ]
  },
  {
   "cell_type": "code",
   "execution_count": 67,
   "id": "7616eabf",
   "metadata": {},
   "outputs": [
    {
     "data": {
      "text/html": [
       "<div>\n",
       "<style scoped>\n",
       "    .dataframe tbody tr th:only-of-type {\n",
       "        vertical-align: middle;\n",
       "    }\n",
       "\n",
       "    .dataframe tbody tr th {\n",
       "        vertical-align: top;\n",
       "    }\n",
       "\n",
       "    .dataframe thead th {\n",
       "        text-align: right;\n",
       "    }\n",
       "</style>\n",
       "<table border=\"1\" class=\"dataframe\">\n",
       "  <thead>\n",
       "    <tr style=\"text-align: right;\">\n",
       "      <th></th>\n",
       "      <th>Transaction ID</th>\n",
       "      <th>Date</th>\n",
       "      <th>Customer ID</th>\n",
       "      <th>Gender</th>\n",
       "      <th>Age</th>\n",
       "      <th>Product_category</th>\n",
       "      <th>Quantity</th>\n",
       "      <th>Price_per_unit</th>\n",
       "      <th>Total_amount</th>\n",
       "      <th>age_group</th>\n",
       "    </tr>\n",
       "  </thead>\n",
       "  <tbody>\n",
       "    <tr>\n",
       "      <th>1</th>\n",
       "      <td>2</td>\n",
       "      <td>27-02-2023</td>\n",
       "      <td>CUST002</td>\n",
       "      <td>Female</td>\n",
       "      <td>26</td>\n",
       "      <td>Clothing</td>\n",
       "      <td>2</td>\n",
       "      <td>500</td>\n",
       "      <td>1000</td>\n",
       "      <td>25 to 34</td>\n",
       "    </tr>\n",
       "    <tr>\n",
       "      <th>3</th>\n",
       "      <td>4</td>\n",
       "      <td>21-05-2023</td>\n",
       "      <td>CUST004</td>\n",
       "      <td>Male</td>\n",
       "      <td>37</td>\n",
       "      <td>Clothing</td>\n",
       "      <td>1</td>\n",
       "      <td>500</td>\n",
       "      <td>500</td>\n",
       "      <td>35 to 44</td>\n",
       "    </tr>\n",
       "    <tr>\n",
       "      <th>6</th>\n",
       "      <td>7</td>\n",
       "      <td>13-03-2023</td>\n",
       "      <td>CUST007</td>\n",
       "      <td>Male</td>\n",
       "      <td>46</td>\n",
       "      <td>Clothing</td>\n",
       "      <td>2</td>\n",
       "      <td>25</td>\n",
       "      <td>50</td>\n",
       "      <td>45 to 54</td>\n",
       "    </tr>\n",
       "    <tr>\n",
       "      <th>9</th>\n",
       "      <td>10</td>\n",
       "      <td>07-10-2023</td>\n",
       "      <td>CUST010</td>\n",
       "      <td>Female</td>\n",
       "      <td>52</td>\n",
       "      <td>Clothing</td>\n",
       "      <td>4</td>\n",
       "      <td>50</td>\n",
       "      <td>200</td>\n",
       "      <td>45 to 54</td>\n",
       "    </tr>\n",
       "    <tr>\n",
       "      <th>10</th>\n",
       "      <td>11</td>\n",
       "      <td>14-02-2023</td>\n",
       "      <td>CUST011</td>\n",
       "      <td>Male</td>\n",
       "      <td>23</td>\n",
       "      <td>Clothing</td>\n",
       "      <td>2</td>\n",
       "      <td>50</td>\n",
       "      <td>100</td>\n",
       "      <td>18 to 24</td>\n",
       "    </tr>\n",
       "    <tr>\n",
       "      <th>...</th>\n",
       "      <td>...</td>\n",
       "      <td>...</td>\n",
       "      <td>...</td>\n",
       "      <td>...</td>\n",
       "      <td>...</td>\n",
       "      <td>...</td>\n",
       "      <td>...</td>\n",
       "      <td>...</td>\n",
       "      <td>...</td>\n",
       "      <td>...</td>\n",
       "    </tr>\n",
       "    <tr>\n",
       "      <th>986</th>\n",
       "      <td>987</td>\n",
       "      <td>29-04-2023</td>\n",
       "      <td>CUST987</td>\n",
       "      <td>Female</td>\n",
       "      <td>30</td>\n",
       "      <td>Clothing</td>\n",
       "      <td>3</td>\n",
       "      <td>300</td>\n",
       "      <td>900</td>\n",
       "      <td>25 to 34</td>\n",
       "    </tr>\n",
       "    <tr>\n",
       "      <th>987</th>\n",
       "      <td>988</td>\n",
       "      <td>28-05-2023</td>\n",
       "      <td>CUST988</td>\n",
       "      <td>Female</td>\n",
       "      <td>63</td>\n",
       "      <td>Clothing</td>\n",
       "      <td>3</td>\n",
       "      <td>25</td>\n",
       "      <td>75</td>\n",
       "      <td>55 to 64</td>\n",
       "    </tr>\n",
       "    <tr>\n",
       "      <th>990</th>\n",
       "      <td>991</td>\n",
       "      <td>26-12-2023</td>\n",
       "      <td>CUST991</td>\n",
       "      <td>Female</td>\n",
       "      <td>34</td>\n",
       "      <td>Clothing</td>\n",
       "      <td>2</td>\n",
       "      <td>50</td>\n",
       "      <td>100</td>\n",
       "      <td>25 to 34</td>\n",
       "    </tr>\n",
       "    <tr>\n",
       "      <th>994</th>\n",
       "      <td>995</td>\n",
       "      <td>30-04-2023</td>\n",
       "      <td>CUST995</td>\n",
       "      <td>Female</td>\n",
       "      <td>41</td>\n",
       "      <td>Clothing</td>\n",
       "      <td>1</td>\n",
       "      <td>30</td>\n",
       "      <td>30</td>\n",
       "      <td>35 to 44</td>\n",
       "    </tr>\n",
       "    <tr>\n",
       "      <th>995</th>\n",
       "      <td>996</td>\n",
       "      <td>16-05-2023</td>\n",
       "      <td>CUST996</td>\n",
       "      <td>Male</td>\n",
       "      <td>62</td>\n",
       "      <td>Clothing</td>\n",
       "      <td>1</td>\n",
       "      <td>50</td>\n",
       "      <td>50</td>\n",
       "      <td>55 to 64</td>\n",
       "    </tr>\n",
       "  </tbody>\n",
       "</table>\n",
       "<p>351 rows × 10 columns</p>\n",
       "</div>"
      ],
      "text/plain": [
       "     Transaction ID        Date Customer ID  Gender  Age Product_category  \\\n",
       "1                 2  27-02-2023     CUST002  Female   26         Clothing   \n",
       "3                 4  21-05-2023     CUST004    Male   37         Clothing   \n",
       "6                 7  13-03-2023     CUST007    Male   46         Clothing   \n",
       "9                10  07-10-2023     CUST010  Female   52         Clothing   \n",
       "10               11  14-02-2023     CUST011    Male   23         Clothing   \n",
       "..              ...         ...         ...     ...  ...              ...   \n",
       "986             987  29-04-2023     CUST987  Female   30         Clothing   \n",
       "987             988  28-05-2023     CUST988  Female   63         Clothing   \n",
       "990             991  26-12-2023     CUST991  Female   34         Clothing   \n",
       "994             995  30-04-2023     CUST995  Female   41         Clothing   \n",
       "995             996  16-05-2023     CUST996    Male   62         Clothing   \n",
       "\n",
       "     Quantity  Price_per_unit  Total_amount age_group  \n",
       "1           2             500          1000  25 to 34  \n",
       "3           1             500           500  35 to 44  \n",
       "6           2              25            50  45 to 54  \n",
       "9           4              50           200  45 to 54  \n",
       "10          2              50           100  18 to 24  \n",
       "..        ...             ...           ...       ...  \n",
       "986         3             300           900  25 to 34  \n",
       "987         3              25            75  55 to 64  \n",
       "990         2              50           100  25 to 34  \n",
       "994         1              30            30  35 to 44  \n",
       "995         1              50            50  55 to 64  \n",
       "\n",
       "[351 rows x 10 columns]"
      ]
     },
     "execution_count": 67,
     "metadata": {},
     "output_type": "execute_result"
    }
   ],
   "source": [
    "data2"
   ]
  },
  {
   "cell_type": "code",
   "execution_count": 68,
   "id": "67a61844",
   "metadata": {},
   "outputs": [
    {
     "data": {
      "text/plain": [
       "Text(0.5, 1.0, 'Clothing products purchesed by males v/s female ')"
      ]
     },
     "execution_count": 68,
     "metadata": {},
     "output_type": "execute_result"
    },
    {
     "data": {
      "image/png": "[encoded data removed]",
      "text/plain": [
       "<Figure size 800x600 with 1 Axes>"
      ]
     },
     "metadata": {},
     "output_type": "display_data"
    }
   ],
   "source": [
    "#It shows which gender purchased the clothing product most male or female \n",
    "plt.figure(figsize=(8,6))\n",
    "data2.Gender.value_counts().plot.bar()\n",
    "plt.ylabel('clothing')\n",
    "plt.title('Clothing products purchesed by males v/s female ')"
   ]
  },
  {
   "cell_type": "code",
   "execution_count": 69,
   "id": "b5d16f06",
   "metadata": {},
   "outputs": [],
   "source": [
    "#creating the new data frame which shows only the data of product category (electronics)\n",
    "data3=df[df.Product_category=='Electronics']"
   ]
  },
  {
   "cell_type": "code",
   "execution_count": 70,
   "id": "b15f7939",
   "metadata": {},
   "outputs": [
    {
     "data": {
      "text/html": [
       "<div>\n",
       "<style scoped>\n",
       "    .dataframe tbody tr th:only-of-type {\n",
       "        vertical-align: middle;\n",
       "    }\n",
       "\n",
       "    .dataframe tbody tr th {\n",
       "        vertical-align: top;\n",
       "    }\n",
       "\n",
       "    .dataframe thead th {\n",
       "        text-align: right;\n",
       "    }\n",
       "</style>\n",
       "<table border=\"1\" class=\"dataframe\">\n",
       "  <thead>\n",
       "    <tr style=\"text-align: right;\">\n",
       "      <th></th>\n",
       "      <th>Transaction ID</th>\n",
       "      <th>Date</th>\n",
       "      <th>Customer ID</th>\n",
       "      <th>Gender</th>\n",
       "      <th>Age</th>\n",
       "      <th>Product_category</th>\n",
       "      <th>Quantity</th>\n",
       "      <th>Price_per_unit</th>\n",
       "      <th>Total_amount</th>\n",
       "      <th>age_group</th>\n",
       "    </tr>\n",
       "  </thead>\n",
       "  <tbody>\n",
       "    <tr>\n",
       "      <th>2</th>\n",
       "      <td>3</td>\n",
       "      <td>13-01-2023</td>\n",
       "      <td>CUST003</td>\n",
       "      <td>Male</td>\n",
       "      <td>50</td>\n",
       "      <td>Electronics</td>\n",
       "      <td>1</td>\n",
       "      <td>30</td>\n",
       "      <td>30</td>\n",
       "      <td>45 to 54</td>\n",
       "    </tr>\n",
       "    <tr>\n",
       "      <th>7</th>\n",
       "      <td>8</td>\n",
       "      <td>22-02-2023</td>\n",
       "      <td>CUST008</td>\n",
       "      <td>Male</td>\n",
       "      <td>30</td>\n",
       "      <td>Electronics</td>\n",
       "      <td>4</td>\n",
       "      <td>25</td>\n",
       "      <td>100</td>\n",
       "      <td>25 to 34</td>\n",
       "    </tr>\n",
       "    <tr>\n",
       "      <th>8</th>\n",
       "      <td>9</td>\n",
       "      <td>13-12-2023</td>\n",
       "      <td>CUST009</td>\n",
       "      <td>Male</td>\n",
       "      <td>63</td>\n",
       "      <td>Electronics</td>\n",
       "      <td>2</td>\n",
       "      <td>300</td>\n",
       "      <td>600</td>\n",
       "      <td>55 to 64</td>\n",
       "    </tr>\n",
       "    <tr>\n",
       "      <th>12</th>\n",
       "      <td>13</td>\n",
       "      <td>05-08-2023</td>\n",
       "      <td>CUST013</td>\n",
       "      <td>Male</td>\n",
       "      <td>22</td>\n",
       "      <td>Electronics</td>\n",
       "      <td>3</td>\n",
       "      <td>500</td>\n",
       "      <td>1500</td>\n",
       "      <td>18 to 24</td>\n",
       "    </tr>\n",
       "    <tr>\n",
       "      <th>14</th>\n",
       "      <td>15</td>\n",
       "      <td>16-01-2023</td>\n",
       "      <td>CUST015</td>\n",
       "      <td>Female</td>\n",
       "      <td>42</td>\n",
       "      <td>Electronics</td>\n",
       "      <td>4</td>\n",
       "      <td>500</td>\n",
       "      <td>2000</td>\n",
       "      <td>35 to 44</td>\n",
       "    </tr>\n",
       "    <tr>\n",
       "      <th>...</th>\n",
       "      <td>...</td>\n",
       "      <td>...</td>\n",
       "      <td>...</td>\n",
       "      <td>...</td>\n",
       "      <td>...</td>\n",
       "      <td>...</td>\n",
       "      <td>...</td>\n",
       "      <td>...</td>\n",
       "      <td>...</td>\n",
       "      <td>...</td>\n",
       "    </tr>\n",
       "    <tr>\n",
       "      <th>988</th>\n",
       "      <td>989</td>\n",
       "      <td>28-12-2023</td>\n",
       "      <td>CUST989</td>\n",
       "      <td>Female</td>\n",
       "      <td>44</td>\n",
       "      <td>Electronics</td>\n",
       "      <td>1</td>\n",
       "      <td>25</td>\n",
       "      <td>25</td>\n",
       "      <td>35 to 44</td>\n",
       "    </tr>\n",
       "    <tr>\n",
       "      <th>991</th>\n",
       "      <td>992</td>\n",
       "      <td>21-08-2023</td>\n",
       "      <td>CUST992</td>\n",
       "      <td>Female</td>\n",
       "      <td>57</td>\n",
       "      <td>Electronics</td>\n",
       "      <td>2</td>\n",
       "      <td>30</td>\n",
       "      <td>60</td>\n",
       "      <td>55 to 64</td>\n",
       "    </tr>\n",
       "    <tr>\n",
       "      <th>992</th>\n",
       "      <td>993</td>\n",
       "      <td>06-02-2023</td>\n",
       "      <td>CUST993</td>\n",
       "      <td>Female</td>\n",
       "      <td>48</td>\n",
       "      <td>Electronics</td>\n",
       "      <td>3</td>\n",
       "      <td>50</td>\n",
       "      <td>150</td>\n",
       "      <td>45 to 54</td>\n",
       "    </tr>\n",
       "    <tr>\n",
       "      <th>998</th>\n",
       "      <td>999</td>\n",
       "      <td>05-12-2023</td>\n",
       "      <td>CUST999</td>\n",
       "      <td>Female</td>\n",
       "      <td>36</td>\n",
       "      <td>Electronics</td>\n",
       "      <td>3</td>\n",
       "      <td>50</td>\n",
       "      <td>150</td>\n",
       "      <td>35 to 44</td>\n",
       "    </tr>\n",
       "    <tr>\n",
       "      <th>999</th>\n",
       "      <td>1000</td>\n",
       "      <td>12-04-2023</td>\n",
       "      <td>CUST1000</td>\n",
       "      <td>Male</td>\n",
       "      <td>47</td>\n",
       "      <td>Electronics</td>\n",
       "      <td>4</td>\n",
       "      <td>30</td>\n",
       "      <td>120</td>\n",
       "      <td>45 to 54</td>\n",
       "    </tr>\n",
       "  </tbody>\n",
       "</table>\n",
       "<p>342 rows × 10 columns</p>\n",
       "</div>"
      ],
      "text/plain": [
       "     Transaction ID        Date Customer ID  Gender  Age Product_category  \\\n",
       "2                 3  13-01-2023     CUST003    Male   50      Electronics   \n",
       "7                 8  22-02-2023     CUST008    Male   30      Electronics   \n",
       "8                 9  13-12-2023     CUST009    Male   63      Electronics   \n",
       "12               13  05-08-2023     CUST013    Male   22      Electronics   \n",
       "14               15  16-01-2023     CUST015  Female   42      Electronics   \n",
       "..              ...         ...         ...     ...  ...              ...   \n",
       "988             989  28-12-2023     CUST989  Female   44      Electronics   \n",
       "991             992  21-08-2023     CUST992  Female   57      Electronics   \n",
       "992             993  06-02-2023     CUST993  Female   48      Electronics   \n",
       "998             999  05-12-2023     CUST999  Female   36      Electronics   \n",
       "999            1000  12-04-2023    CUST1000    Male   47      Electronics   \n",
       "\n",
       "     Quantity  Price_per_unit  Total_amount age_group  \n",
       "2           1              30            30  45 to 54  \n",
       "7           4              25           100  25 to 34  \n",
       "8           2             300           600  55 to 64  \n",
       "12          3             500          1500  18 to 24  \n",
       "14          4             500          2000  35 to 44  \n",
       "..        ...             ...           ...       ...  \n",
       "988         1              25            25  35 to 44  \n",
       "991         2              30            60  55 to 64  \n",
       "992         3              50           150  45 to 54  \n",
       "998         3              50           150  35 to 44  \n",
       "999         4              30           120  45 to 54  \n",
       "\n",
       "[342 rows x 10 columns]"
      ]
     },
     "execution_count": 70,
     "metadata": {},
     "output_type": "execute_result"
    }
   ],
   "source": [
    "data3"
   ]
  },
  {
   "cell_type": "code",
   "execution_count": 71,
   "id": "086f914c",
   "metadata": {},
   "outputs": [
    {
     "data": {
      "text/plain": [
       "Text(0.5, 1.0, 'Electronics products purchesed by males v/s female ')"
      ]
     },
     "execution_count": 71,
     "metadata": {},
     "output_type": "execute_result"
    },
    {
     "data": {
      "image/png": "[encoded data removed]",
      "text/plain": [
       "<Figure size 800x600 with 1 Axes>"
      ]
     },
     "metadata": {},
     "output_type": "display_data"
    }
   ],
   "source": [
    "#It shows which gender purchased the electronics product most male or female \n",
    "plt.figure(figsize=(8,6))\n",
    "data3.Gender.value_counts().plot.bar()\n",
    "plt.ylabel('Electronics')\n",
    "plt.title('Electronics products purchesed by males v/s female ')"
   ]
  },
  {
   "cell_type": "code",
   "execution_count": 72,
   "id": "09889407",
   "metadata": {},
   "outputs": [],
   "source": [
    "#creating a new data frame which is only having the columns which are including numbers in the dataset \n",
    "numeric_data=df.select_dtypes(include='number')"
   ]
  },
  {
   "cell_type": "code",
   "execution_count": 73,
   "id": "2008f3ef",
   "metadata": {},
   "outputs": [
    {
     "data": {
      "text/plain": [
       "(1000, 5)"
      ]
     },
     "execution_count": 73,
     "metadata": {},
     "output_type": "execute_result"
    }
   ],
   "source": [
    "numeric_data.shape"
   ]
  },
  {
   "cell_type": "code",
   "execution_count": 74,
   "id": "b219d0f4",
   "metadata": {},
   "outputs": [
    {
     "data": {
      "text/html": [
       "<div>\n",
       "<style scoped>\n",
       "    .dataframe tbody tr th:only-of-type {\n",
       "        vertical-align: middle;\n",
       "    }\n",
       "\n",
       "    .dataframe tbody tr th {\n",
       "        vertical-align: top;\n",
       "    }\n",
       "\n",
       "    .dataframe thead th {\n",
       "        text-align: right;\n",
       "    }\n",
       "</style>\n",
       "<table border=\"1\" class=\"dataframe\">\n",
       "  <thead>\n",
       "    <tr style=\"text-align: right;\">\n",
       "      <th></th>\n",
       "      <th>Transaction ID</th>\n",
       "      <th>Age</th>\n",
       "      <th>Quantity</th>\n",
       "      <th>Price_per_unit</th>\n",
       "      <th>Total_amount</th>\n",
       "    </tr>\n",
       "  </thead>\n",
       "  <tbody>\n",
       "    <tr>\n",
       "      <th>0</th>\n",
       "      <td>1</td>\n",
       "      <td>34</td>\n",
       "      <td>3</td>\n",
       "      <td>50</td>\n",
       "      <td>150</td>\n",
       "    </tr>\n",
       "    <tr>\n",
       "      <th>1</th>\n",
       "      <td>2</td>\n",
       "      <td>26</td>\n",
       "      <td>2</td>\n",
       "      <td>500</td>\n",
       "      <td>1000</td>\n",
       "    </tr>\n",
       "    <tr>\n",
       "      <th>2</th>\n",
       "      <td>3</td>\n",
       "      <td>50</td>\n",
       "      <td>1</td>\n",
       "      <td>30</td>\n",
       "      <td>30</td>\n",
       "    </tr>\n",
       "    <tr>\n",
       "      <th>3</th>\n",
       "      <td>4</td>\n",
       "      <td>37</td>\n",
       "      <td>1</td>\n",
       "      <td>500</td>\n",
       "      <td>500</td>\n",
       "    </tr>\n",
       "    <tr>\n",
       "      <th>4</th>\n",
       "      <td>5</td>\n",
       "      <td>30</td>\n",
       "      <td>2</td>\n",
       "      <td>50</td>\n",
       "      <td>100</td>\n",
       "    </tr>\n",
       "    <tr>\n",
       "      <th>...</th>\n",
       "      <td>...</td>\n",
       "      <td>...</td>\n",
       "      <td>...</td>\n",
       "      <td>...</td>\n",
       "      <td>...</td>\n",
       "    </tr>\n",
       "    <tr>\n",
       "      <th>995</th>\n",
       "      <td>996</td>\n",
       "      <td>62</td>\n",
       "      <td>1</td>\n",
       "      <td>50</td>\n",
       "      <td>50</td>\n",
       "    </tr>\n",
       "    <tr>\n",
       "      <th>996</th>\n",
       "      <td>997</td>\n",
       "      <td>52</td>\n",
       "      <td>3</td>\n",
       "      <td>30</td>\n",
       "      <td>90</td>\n",
       "    </tr>\n",
       "    <tr>\n",
       "      <th>997</th>\n",
       "      <td>998</td>\n",
       "      <td>23</td>\n",
       "      <td>4</td>\n",
       "      <td>25</td>\n",
       "      <td>100</td>\n",
       "    </tr>\n",
       "    <tr>\n",
       "      <th>998</th>\n",
       "      <td>999</td>\n",
       "      <td>36</td>\n",
       "      <td>3</td>\n",
       "      <td>50</td>\n",
       "      <td>150</td>\n",
       "    </tr>\n",
       "    <tr>\n",
       "      <th>999</th>\n",
       "      <td>1000</td>\n",
       "      <td>47</td>\n",
       "      <td>4</td>\n",
       "      <td>30</td>\n",
       "      <td>120</td>\n",
       "    </tr>\n",
       "  </tbody>\n",
       "</table>\n",
       "<p>1000 rows × 5 columns</p>\n",
       "</div>"
      ],
      "text/plain": [
       "     Transaction ID  Age  Quantity  Price_per_unit  Total_amount\n",
       "0                 1   34         3              50           150\n",
       "1                 2   26         2             500          1000\n",
       "2                 3   50         1              30            30\n",
       "3                 4   37         1             500           500\n",
       "4                 5   30         2              50           100\n",
       "..              ...  ...       ...             ...           ...\n",
       "995             996   62         1              50            50\n",
       "996             997   52         3              30            90\n",
       "997             998   23         4              25           100\n",
       "998             999   36         3              50           150\n",
       "999            1000   47         4              30           120\n",
       "\n",
       "[1000 rows x 5 columns]"
      ]
     },
     "execution_count": 74,
     "metadata": {},
     "output_type": "execute_result"
    }
   ],
   "source": [
    "numeric_data"
   ]
  },
  {
   "cell_type": "code",
   "execution_count": 75,
   "id": "0aafb4d5",
   "metadata": {},
   "outputs": [
    {
     "data": {
      "text/html": [
       "<div>\n",
       "<style scoped>\n",
       "    .dataframe tbody tr th:only-of-type {\n",
       "        vertical-align: middle;\n",
       "    }\n",
       "\n",
       "    .dataframe tbody tr th {\n",
       "        vertical-align: top;\n",
       "    }\n",
       "\n",
       "    .dataframe thead th {\n",
       "        text-align: right;\n",
       "    }\n",
       "</style>\n",
       "<table border=\"1\" class=\"dataframe\">\n",
       "  <thead>\n",
       "    <tr style=\"text-align: right;\">\n",
       "      <th></th>\n",
       "      <th>Transaction ID</th>\n",
       "      <th>Age</th>\n",
       "      <th>Quantity</th>\n",
       "      <th>Price_per_unit</th>\n",
       "      <th>Total_amount</th>\n",
       "    </tr>\n",
       "  </thead>\n",
       "  <tbody>\n",
       "    <tr>\n",
       "      <th>Transaction ID</th>\n",
       "      <td>1.000000</td>\n",
       "      <td>0.065191</td>\n",
       "      <td>-0.026623</td>\n",
       "      <td>-0.060837</td>\n",
       "      <td>-0.075034</td>\n",
       "    </tr>\n",
       "    <tr>\n",
       "      <th>Age</th>\n",
       "      <td>0.065191</td>\n",
       "      <td>1.000000</td>\n",
       "      <td>-0.023737</td>\n",
       "      <td>-0.038423</td>\n",
       "      <td>-0.060568</td>\n",
       "    </tr>\n",
       "    <tr>\n",
       "      <th>Quantity</th>\n",
       "      <td>-0.026623</td>\n",
       "      <td>-0.023737</td>\n",
       "      <td>1.000000</td>\n",
       "      <td>0.017501</td>\n",
       "      <td>0.373707</td>\n",
       "    </tr>\n",
       "    <tr>\n",
       "      <th>Price_per_unit</th>\n",
       "      <td>-0.060837</td>\n",
       "      <td>-0.038423</td>\n",
       "      <td>0.017501</td>\n",
       "      <td>1.000000</td>\n",
       "      <td>0.851925</td>\n",
       "    </tr>\n",
       "    <tr>\n",
       "      <th>Total_amount</th>\n",
       "      <td>-0.075034</td>\n",
       "      <td>-0.060568</td>\n",
       "      <td>0.373707</td>\n",
       "      <td>0.851925</td>\n",
       "      <td>1.000000</td>\n",
       "    </tr>\n",
       "  </tbody>\n",
       "</table>\n",
       "</div>"
      ],
      "text/plain": [
       "                Transaction ID       Age  Quantity  Price_per_unit  \\\n",
       "Transaction ID        1.000000  0.065191 -0.026623       -0.060837   \n",
       "Age                   0.065191  1.000000 -0.023737       -0.038423   \n",
       "Quantity             -0.026623 -0.023737  1.000000        0.017501   \n",
       "Price_per_unit       -0.060837 -0.038423  0.017501        1.000000   \n",
       "Total_amount         -0.075034 -0.060568  0.373707        0.851925   \n",
       "\n",
       "                Total_amount  \n",
       "Transaction ID     -0.075034  \n",
       "Age                -0.060568  \n",
       "Quantity            0.373707  \n",
       "Price_per_unit      0.851925  \n",
       "Total_amount        1.000000  "
      ]
     },
     "execution_count": 75,
     "metadata": {},
     "output_type": "execute_result"
    }
   ],
   "source": [
    "#It shows the correlation \n",
    "numeric_data.corr()"
   ]
  },
  {
   "cell_type": "code",
   "execution_count": 76,
   "id": "0853a7bc",
   "metadata": {},
   "outputs": [
    {
     "data": {
      "text/plain": [
       "<Axes: >"
      ]
     },
     "execution_count": 76,
     "metadata": {},
     "output_type": "execute_result"
    },
    {
     "data": {
      "image/png": "[encoded data removed]",
      "text/plain": [
       "<Figure size 1000x1000 with 2 Axes>"
      ]
     },
     "metadata": {},
     "output_type": "display_data"
    }
   ],
   "source": [
    "#HeatMap or heatMatrix shows correlation across all numerical variables\n",
    "plt.figure(figsize=(10,10))\n",
    "sns.heatmap(data=numeric_data.corr())"
   ]
  },
  {
   "cell_type": "code",
   "execution_count": 77,
   "id": "f5041d11",
   "metadata": {},
   "outputs": [],
   "source": [
    "#creating a new data frame which includes quantity, price per unit and total amount \n",
    "total_purchase=['Quantity','Price_per_unit','Total_amount']"
   ]
  },
  {
   "cell_type": "code",
   "execution_count": 78,
   "id": "e7571d33",
   "metadata": {},
   "outputs": [
    {
     "data": {
      "image/png": "[encoded data removed]",
      "text/plain": [
       "<Figure size 800x2000 with 3 Axes>"
      ]
     },
     "metadata": {},
     "output_type": "display_data"
    }
   ],
   "source": [
    "# create subplots which is having scatter plot wich shows the relationship between age group v/s quantity,\n",
    "#price per unit and total amount \n",
    "fig, axes = plt.subplots(nrows=len(total_purchase), ncols=1, figsize=(8,20))\n",
    "for i,purchase in enumerate(total_purchase):\n",
    "    # plot scatterplotwith hue\n",
    "    sns.scatterplot(data=df,x='age_group',y=purchase, ax=axes[i], hue='Product_category')\n",
    "    axes[i].set_title(f'{total_purchase[i]} vs age_group')\n",
    "    axes[i].set_xlabel('age_group')\n",
    "    axes[i].set_ylabel(purchase)\n",
    "    axes[i].legend(title='Product_category')\n"
   ]
  },
  {
   "cell_type": "code",
   "execution_count": 79,
   "id": "63c522cf",
   "metadata": {},
   "outputs": [
    {
     "data": {
      "image/png": "[encoded data removed]",
      "text/plain": [
       "<Figure size 800x600 with 1 Axes>"
      ]
     },
     "metadata": {},
     "output_type": "display_data"
    }
   ],
   "source": [
    "#create scatter plot which shows the relationship between age and total amount \n",
    "plt.figure(figsize=(8,6))\n",
    "sns.scatterplot(x='Total_amount', y='Age', data=df)\n",
    "plt.title('Relationship between Age and Total Amount')\n",
    "plt.show()\n",
    "    \n"
   ]
  },
  {
   "cell_type": "code",
   "execution_count": 80,
   "id": "2d8a5183",
   "metadata": {},
   "outputs": [
    {
     "data": {
      "image/png": "[encoded data removed]",
      "text/plain": [
       "<Figure size 1000x600 with 2 Axes>"
      ]
     },
     "metadata": {},
     "output_type": "display_data"
    }
   ],
   "source": [
    "#create subplots which is having the regplot which shows the relationship between the total amount and quantity and \n",
    "#relationship between the total amount and price per unit \n",
    "fig, axes = plt.subplots(nrows=1, ncols=2, figsize=(10, 6))  \n",
    "\n",
    "sns.regplot(x=df['Quantity'], y=df['Total_amount'], data=df, ax=axes[0])\n",
    "axes[0].set_title('Relationship between Quantity and Total Amount')\n",
    "\n",
    "sns.regplot(x=df['Price_per_unit'], y=df['Total_amount'], data=df, ax=axes[1])\n",
    "axes[1].set_title('Relationship between Price per Unit and Total Amount')\n",
    "\n",
    "plt.tight_layout()  \n",
    "plt.show()"
   ]
  },
  {
   "cell_type": "code",
   "execution_count": 81,
   "id": "ce3bb666",
   "metadata": {},
   "outputs": [
    {
     "data": {
      "text/html": [
       "<div>\n",
       "<style scoped>\n",
       "    .dataframe tbody tr th:only-of-type {\n",
       "        vertical-align: middle;\n",
       "    }\n",
       "\n",
       "    .dataframe tbody tr th {\n",
       "        vertical-align: top;\n",
       "    }\n",
       "\n",
       "    .dataframe thead th {\n",
       "        text-align: right;\n",
       "    }\n",
       "</style>\n",
       "<table border=\"1\" class=\"dataframe\">\n",
       "  <thead>\n",
       "    <tr style=\"text-align: right;\">\n",
       "      <th></th>\n",
       "      <th>age_group</th>\n",
       "      <th>Gender</th>\n",
       "      <th>avg_purchase</th>\n",
       "      <th>total_expend</th>\n",
       "    </tr>\n",
       "  </thead>\n",
       "  <tbody>\n",
       "    <tr>\n",
       "      <th>0</th>\n",
       "      <td>18 to 24</td>\n",
       "      <td>Female</td>\n",
       "      <td>498.888889</td>\n",
       "      <td>35920</td>\n",
       "    </tr>\n",
       "    <tr>\n",
       "      <th>1</th>\n",
       "      <td>18 to 24</td>\n",
       "      <td>Male</td>\n",
       "      <td>502.987013</td>\n",
       "      <td>38730</td>\n",
       "    </tr>\n",
       "    <tr>\n",
       "      <th>2</th>\n",
       "      <td>25 to 34</td>\n",
       "      <td>Female</td>\n",
       "      <td>508.333333</td>\n",
       "      <td>51850</td>\n",
       "    </tr>\n",
       "    <tr>\n",
       "      <th>3</th>\n",
       "      <td>25 to 34</td>\n",
       "      <td>Male</td>\n",
       "      <td>447.920792</td>\n",
       "      <td>45240</td>\n",
       "    </tr>\n",
       "    <tr>\n",
       "      <th>4</th>\n",
       "      <td>35 to 44</td>\n",
       "      <td>Female</td>\n",
       "      <td>472.901786</td>\n",
       "      <td>52965</td>\n",
       "    </tr>\n",
       "    <tr>\n",
       "      <th>5</th>\n",
       "      <td>35 to 44</td>\n",
       "      <td>Male</td>\n",
       "      <td>461.789474</td>\n",
       "      <td>43870</td>\n",
       "    </tr>\n",
       "    <tr>\n",
       "      <th>6</th>\n",
       "      <td>45 to 54</td>\n",
       "      <td>Female</td>\n",
       "      <td>407.173913</td>\n",
       "      <td>46825</td>\n",
       "    </tr>\n",
       "    <tr>\n",
       "      <th>7</th>\n",
       "      <td>45 to 54</td>\n",
       "      <td>Male</td>\n",
       "      <td>458.272727</td>\n",
       "      <td>50410</td>\n",
       "    </tr>\n",
       "    <tr>\n",
       "      <th>8</th>\n",
       "      <td>55 to 64</td>\n",
       "      <td>Female</td>\n",
       "      <td>415.412844</td>\n",
       "      <td>45280</td>\n",
       "    </tr>\n",
       "    <tr>\n",
       "      <th>9</th>\n",
       "      <td>55 to 64</td>\n",
       "      <td>Male</td>\n",
       "      <td>419.719626</td>\n",
       "      <td>44910</td>\n",
       "    </tr>\n",
       "  </tbody>\n",
       "</table>\n",
       "</div>"
      ],
      "text/plain": [
       "  age_group  Gender  avg_purchase  total_expend\n",
       "0  18 to 24  Female    498.888889         35920\n",
       "1  18 to 24    Male    502.987013         38730\n",
       "2  25 to 34  Female    508.333333         51850\n",
       "3  25 to 34    Male    447.920792         45240\n",
       "4  35 to 44  Female    472.901786         52965\n",
       "5  35 to 44    Male    461.789474         43870\n",
       "6  45 to 54  Female    407.173913         46825\n",
       "7  45 to 54    Male    458.272727         50410\n",
       "8  55 to 64  Female    415.412844         45280\n",
       "9  55 to 64    Male    419.719626         44910"
      ]
     },
     "execution_count": 81,
     "metadata": {},
     "output_type": "execute_result"
    }
   ],
   "source": [
    "s = df.groupby(['age_group', 'Gender']).agg( avg_purchase=pd.NamedAgg(column='Total_amount', aggfunc='mean'),\n",
    "    total_expend=pd.NamedAgg(column='Total_amount', aggfunc='sum')).reset_index()\n",
    "s"
   ]
  },
  {
   "cell_type": "code",
   "execution_count": 82,
   "id": "d937a047",
   "metadata": {},
   "outputs": [
    {
     "data": {
      "image/png": "[encoded data removed]",
      "text/plain": [
       "<Figure size 800x600 with 1 Axes>"
      ]
     },
     "metadata": {},
     "output_type": "display_data"
    }
   ],
   "source": [
    "# create bar plot which shows the relationship between total expenditure by age group and gender \n",
    "plt.figure(figsize=(8, 6))\n",
    "sns.barplot(x='age_group', y='total_expend', hue='Gender', data=s)\n",
    "plt.title('Total Expenditure by Age Group and Gender')\n",
    "plt.xlabel('Age Group')\n",
    "plt.ylabel('Total Expenditure')\n",
    "plt.show()"
   ]
  },
  {
   "cell_type": "markdown",
   "id": "bbf463d1",
   "metadata": {},
   "source": [
    "# Recommendation"
   ]
  },
  {
   "cell_type": "raw",
   "id": "5f57dc8a",
   "metadata": {},
   "source": [
    "Based on the provided transaction data, here are some actionable recommendations based on exploratory data analysis (EDA):\n",
    "\n",
    "1.Customer Segmentation: Segment customers based on their purchasing behavior such as frequency of purchases, total amount spent, and preferred product categories. This will help in targeted marketing strategies.\n",
    "2.Product Category Analysis: Analyze the popularity of product categories to understand which ones are performing well and which ones might need more focus in terms of marketing or product improvement.\n",
    "3.Gender Analysis: Analyze the buying patterns of different genders to tailor marketing campaigns and product offerings accordingly. For instance, if females tend to purchase more beauty products, there could be a focus on expanding the beauty product line or offering special promotions for female customers.\n",
    "4.Age Group Analysis: Study the purchasing behavior across different age groups to identify trends and preferences. This can help in developing products or marketing campaigns that resonate better with specific age demographics.\n",
    "5.Price Sensitivity Analysis: Analyze the impact of price changes on sales volume and revenue. This can help in optimizing pricing strategies for different product categories and customer segments.\n",
    "6.Customer Retention Strategies: Identify customers who have made multiple purchases and devise strategies to retain them, such as loyalty programs, personalized recommendations, or exclusive offers.\n",
    "7.Seasonal Trends Analysis: Look for seasonal trends in sales to anticipate demand fluctuations and adjust inventory levels or marketing efforts accordingly.\n",
    "8.Cross-Selling Opportunities: Identify product combinations that are frequently purchased together and leverage this information for cross-selling or bundling strategies.\n",
    "By implementing these recommendations and continuously monitoring sales data, the business can improve customer satisfaction, increase sales revenue, and stay competitive in the market.\n",
    "\n",
    "\n",
    "\n"
   ]
  },
  {
   "cell_type": "code",
   "execution_count": null,
   "id": "6c25bc32",
   "metadata": {},
   "outputs": [],
   "source": []
  }
 ],
 "metadata": {
  "kernelspec": {
   "display_name": "Python 3 (ipykernel)",
   "language": "python",
   "name": "python3"
  },
  "language_info": {
   "codemirror_mode": {
    "name": "ipython",
    "version": 3
   },
   "file_extension": ".py",
   "mimetype": "text/x-python",
   "name": "python",
   "nbconvert_exporter": "python",
   "pygments_lexer": "ipython3",
   "version": "3.11.5"
  }
 },
 "nbformat": 4,
 "nbformat_minor": 5
}
